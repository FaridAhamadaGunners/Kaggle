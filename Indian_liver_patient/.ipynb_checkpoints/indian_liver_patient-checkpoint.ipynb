{
 "cells": [
  {
   "cell_type": "markdown",
   "metadata": {},
   "source": [
    "Use autoML Library Pycaret"
   ]
  },
  {
   "cell_type": "code",
   "execution_count": null,
   "metadata": {},
   "outputs": [],
   "source": [
    "!pip install -q pycaret"
   ]
  },
  {
   "cell_type": "code",
   "execution_count": 1,
   "metadata": {
    "colab": {
     "base_uri": "https://localhost:8080/",
     "height": 34
    },
    "colab_type": "code",
    "id": "pnOymFPLv6gx",
    "outputId": "ff378991-38ca-48b5-c11d-2a832e7ebf73"
   },
   "outputs": [],
   "source": [
    "import os \n",
    "import pandas as pd\n",
    "#print(os.getcwd())"
   ]
  },
  {
   "cell_type": "code",
   "execution_count": 2,
   "metadata": {
    "colab": {},
    "colab_type": "code",
    "id": "eLuSofhqwFf2"
   },
   "outputs": [],
   "source": [
    "dataset = pd.read_csv('Data/indian_liver_patient.csv')"
   ]
  },
  {
   "cell_type": "code",
   "execution_count": 3,
   "metadata": {
    "colab": {
     "base_uri": "https://localhost:8080/",
     "height": 204
    },
    "colab_type": "code",
    "id": "lV-cIsLSwcCa",
    "outputId": "7cf5154f-3f5d-4723-85fd-f5f2c490b3ce"
   },
   "outputs": [
    {
     "data": {
      "text/html": [
       "<div>\n",
       "<style scoped>\n",
       "    .dataframe tbody tr th:only-of-type {\n",
       "        vertical-align: middle;\n",
       "    }\n",
       "\n",
       "    .dataframe tbody tr th {\n",
       "        vertical-align: top;\n",
       "    }\n",
       "\n",
       "    .dataframe thead th {\n",
       "        text-align: right;\n",
       "    }\n",
       "</style>\n",
       "<table border=\"1\" class=\"dataframe\">\n",
       "  <thead>\n",
       "    <tr style=\"text-align: right;\">\n",
       "      <th></th>\n",
       "      <th>Age</th>\n",
       "      <th>Gender</th>\n",
       "      <th>Total_Bilirubin</th>\n",
       "      <th>Direct_Bilirubin</th>\n",
       "      <th>Alkaline_Phosphotase</th>\n",
       "      <th>Alamine_Aminotransferase</th>\n",
       "      <th>Aspartate_Aminotransferase</th>\n",
       "      <th>Total_Protiens</th>\n",
       "      <th>Albumin</th>\n",
       "      <th>Albumin_and_Globulin_Ratio</th>\n",
       "      <th>Dataset</th>\n",
       "    </tr>\n",
       "  </thead>\n",
       "  <tbody>\n",
       "    <tr>\n",
       "      <th>0</th>\n",
       "      <td>65</td>\n",
       "      <td>Female</td>\n",
       "      <td>0.7</td>\n",
       "      <td>0.1</td>\n",
       "      <td>187</td>\n",
       "      <td>16</td>\n",
       "      <td>18</td>\n",
       "      <td>6.8</td>\n",
       "      <td>3.3</td>\n",
       "      <td>0.90</td>\n",
       "      <td>1</td>\n",
       "    </tr>\n",
       "    <tr>\n",
       "      <th>1</th>\n",
       "      <td>62</td>\n",
       "      <td>Male</td>\n",
       "      <td>10.9</td>\n",
       "      <td>5.5</td>\n",
       "      <td>699</td>\n",
       "      <td>64</td>\n",
       "      <td>100</td>\n",
       "      <td>7.5</td>\n",
       "      <td>3.2</td>\n",
       "      <td>0.74</td>\n",
       "      <td>1</td>\n",
       "    </tr>\n",
       "    <tr>\n",
       "      <th>2</th>\n",
       "      <td>62</td>\n",
       "      <td>Male</td>\n",
       "      <td>7.3</td>\n",
       "      <td>4.1</td>\n",
       "      <td>490</td>\n",
       "      <td>60</td>\n",
       "      <td>68</td>\n",
       "      <td>7.0</td>\n",
       "      <td>3.3</td>\n",
       "      <td>0.89</td>\n",
       "      <td>1</td>\n",
       "    </tr>\n",
       "    <tr>\n",
       "      <th>3</th>\n",
       "      <td>58</td>\n",
       "      <td>Male</td>\n",
       "      <td>1.0</td>\n",
       "      <td>0.4</td>\n",
       "      <td>182</td>\n",
       "      <td>14</td>\n",
       "      <td>20</td>\n",
       "      <td>6.8</td>\n",
       "      <td>3.4</td>\n",
       "      <td>1.00</td>\n",
       "      <td>1</td>\n",
       "    </tr>\n",
       "    <tr>\n",
       "      <th>4</th>\n",
       "      <td>72</td>\n",
       "      <td>Male</td>\n",
       "      <td>3.9</td>\n",
       "      <td>2.0</td>\n",
       "      <td>195</td>\n",
       "      <td>27</td>\n",
       "      <td>59</td>\n",
       "      <td>7.3</td>\n",
       "      <td>2.4</td>\n",
       "      <td>0.40</td>\n",
       "      <td>1</td>\n",
       "    </tr>\n",
       "  </tbody>\n",
       "</table>\n",
       "</div>"
      ],
      "text/plain": [
       "   Age  Gender  Total_Bilirubin  Direct_Bilirubin  Alkaline_Phosphotase  \\\n",
       "0   65  Female              0.7               0.1                   187   \n",
       "1   62    Male             10.9               5.5                   699   \n",
       "2   62    Male              7.3               4.1                   490   \n",
       "3   58    Male              1.0               0.4                   182   \n",
       "4   72    Male              3.9               2.0                   195   \n",
       "\n",
       "   Alamine_Aminotransferase  Aspartate_Aminotransferase  Total_Protiens  \\\n",
       "0                        16                          18             6.8   \n",
       "1                        64                         100             7.5   \n",
       "2                        60                          68             7.0   \n",
       "3                        14                          20             6.8   \n",
       "4                        27                          59             7.3   \n",
       "\n",
       "   Albumin  Albumin_and_Globulin_Ratio  Dataset  \n",
       "0      3.3                        0.90        1  \n",
       "1      3.2                        0.74        1  \n",
       "2      3.3                        0.89        1  \n",
       "3      3.4                        1.00        1  \n",
       "4      2.4                        0.40        1  "
      ]
     },
     "execution_count": 3,
     "metadata": {},
     "output_type": "execute_result"
    }
   ],
   "source": [
    "dataset.head()"
   ]
  },
  {
   "cell_type": "code",
   "execution_count": 4,
   "metadata": {
    "colab": {
     "base_uri": "https://localhost:8080/",
     "height": 34
    },
    "colab_type": "code",
    "id": "eSsSX-CB5jqZ",
    "outputId": "3c41afe6-2a08-4d86-e1be-3afa30e24611"
   },
   "outputs": [
    {
     "data": {
      "text/plain": [
       "(583, 11)"
      ]
     },
     "execution_count": 4,
     "metadata": {},
     "output_type": "execute_result"
    }
   ],
   "source": [
    "#Small dataset\n",
    "dataset.shape"
   ]
  },
  {
   "cell_type": "code",
   "execution_count": 5,
   "metadata": {},
   "outputs": [],
   "source": [
    "#0 : No disease\n",
    "#1 : Liver disease\n",
    "dataset['Dataset'] = dataset['Dataset']-1"
   ]
  },
  {
   "cell_type": "markdown",
   "metadata": {},
   "source": [
    "It's an unbalanced dataset. Just than 28% has a liver disease in this dataset "
   ]
  },
  {
   "cell_type": "code",
   "execution_count": 6,
   "metadata": {
    "colab": {
     "base_uri": "https://localhost:8080/",
     "height": 68
    },
    "colab_type": "code",
    "id": "uzrCsUZ96Qnw",
    "outputId": "cb182b4e-b84b-49c8-f846-41b808032c7e"
   },
   "outputs": [
    {
     "data": {
      "text/plain": [
       "0    0.713551\n",
       "1    0.286449\n",
       "Name: Dataset, dtype: float64"
      ]
     },
     "execution_count": 6,
     "metadata": {},
     "output_type": "execute_result"
    }
   ],
   "source": [
    "(dataset.Dataset.value_counts())/dataset.shape[0]"
   ]
  },
  {
   "cell_type": "code",
   "execution_count": 7,
   "metadata": {
    "colab": {},
    "colab_type": "code",
    "id": "P36pl7mzwXBM"
   },
   "outputs": [],
   "source": [
    "from pycaret.classification import *"
   ]
  },
  {
   "cell_type": "markdown",
   "metadata": {},
   "source": [
    "Initialize the setup with some preprocessing and transformation stuff to do on the data </br>\n",
    "For this first experiment we choose to do nothing just remplace missing values by mean values (default imputation)"
   ]
  },
  {
   "cell_type": "code",
   "execution_count": 8,
   "metadata": {
    "colab": {
     "base_uri": "https://localhost:8080/",
     "height": 956,
     "referenced_widgets": [
      "30a88d724b4e42dbade24917666d3078",
      "4c5c13f0e0ca4b40b02c6087ec7f6431",
      "d44653da16db48bea9dae1ac49d28f56",
      "60af658cf07e42959d0435c1e0d1c064",
      "6a174c95803d4707806341876801d24e",
      "096ef7af5a694f2f96ec74b369cd7f16"
     ]
    },
    "colab_type": "code",
    "id": "5g98UfKJwaTJ",
    "outputId": "a66e4796-aabe-4cfa-e7f9-fb132844ad60"
   },
   "outputs": [
    {
     "name": "stdout",
     "output_type": "stream",
     "text": [
      " \n",
      "Setup Succesfully Completed!\n"
     ]
    },
    {
     "data": {
      "text/html": [
       "<style  type=\"text/css\" >\n",
       "    #T_25b6f7f4_a465_11ea_a7a2_82d0f687d400row4_col1 {\n",
       "            background-color:  lightgreen;\n",
       "        }</style><table id=\"T_25b6f7f4_a465_11ea_a7a2_82d0f687d400\" ><thead>    <tr>        <th class=\"blank level0\" ></th>        <th class=\"col_heading level0 col0\" >Description</th>        <th class=\"col_heading level0 col1\" >Value</th>    </tr></thead><tbody>\n",
       "                <tr>\n",
       "                        <th id=\"T_25b6f7f4_a465_11ea_a7a2_82d0f687d400level0_row0\" class=\"row_heading level0 row0\" >0</th>\n",
       "                        <td id=\"T_25b6f7f4_a465_11ea_a7a2_82d0f687d400row0_col0\" class=\"data row0 col0\" >session_id</td>\n",
       "                        <td id=\"T_25b6f7f4_a465_11ea_a7a2_82d0f687d400row0_col1\" class=\"data row0 col1\" >123</td>\n",
       "            </tr>\n",
       "            <tr>\n",
       "                        <th id=\"T_25b6f7f4_a465_11ea_a7a2_82d0f687d400level0_row1\" class=\"row_heading level0 row1\" >1</th>\n",
       "                        <td id=\"T_25b6f7f4_a465_11ea_a7a2_82d0f687d400row1_col0\" class=\"data row1 col0\" >Target Type</td>\n",
       "                        <td id=\"T_25b6f7f4_a465_11ea_a7a2_82d0f687d400row1_col1\" class=\"data row1 col1\" >Binary</td>\n",
       "            </tr>\n",
       "            <tr>\n",
       "                        <th id=\"T_25b6f7f4_a465_11ea_a7a2_82d0f687d400level0_row2\" class=\"row_heading level0 row2\" >2</th>\n",
       "                        <td id=\"T_25b6f7f4_a465_11ea_a7a2_82d0f687d400row2_col0\" class=\"data row2 col0\" >Label Encoded</td>\n",
       "                        <td id=\"T_25b6f7f4_a465_11ea_a7a2_82d0f687d400row2_col1\" class=\"data row2 col1\" >None</td>\n",
       "            </tr>\n",
       "            <tr>\n",
       "                        <th id=\"T_25b6f7f4_a465_11ea_a7a2_82d0f687d400level0_row3\" class=\"row_heading level0 row3\" >3</th>\n",
       "                        <td id=\"T_25b6f7f4_a465_11ea_a7a2_82d0f687d400row3_col0\" class=\"data row3 col0\" >Original Data</td>\n",
       "                        <td id=\"T_25b6f7f4_a465_11ea_a7a2_82d0f687d400row3_col1\" class=\"data row3 col1\" >(583, 11)</td>\n",
       "            </tr>\n",
       "            <tr>\n",
       "                        <th id=\"T_25b6f7f4_a465_11ea_a7a2_82d0f687d400level0_row4\" class=\"row_heading level0 row4\" >4</th>\n",
       "                        <td id=\"T_25b6f7f4_a465_11ea_a7a2_82d0f687d400row4_col0\" class=\"data row4 col0\" >Missing Values </td>\n",
       "                        <td id=\"T_25b6f7f4_a465_11ea_a7a2_82d0f687d400row4_col1\" class=\"data row4 col1\" >True</td>\n",
       "            </tr>\n",
       "            <tr>\n",
       "                        <th id=\"T_25b6f7f4_a465_11ea_a7a2_82d0f687d400level0_row5\" class=\"row_heading level0 row5\" >5</th>\n",
       "                        <td id=\"T_25b6f7f4_a465_11ea_a7a2_82d0f687d400row5_col0\" class=\"data row5 col0\" >Numeric Features </td>\n",
       "                        <td id=\"T_25b6f7f4_a465_11ea_a7a2_82d0f687d400row5_col1\" class=\"data row5 col1\" >9</td>\n",
       "            </tr>\n",
       "            <tr>\n",
       "                        <th id=\"T_25b6f7f4_a465_11ea_a7a2_82d0f687d400level0_row6\" class=\"row_heading level0 row6\" >6</th>\n",
       "                        <td id=\"T_25b6f7f4_a465_11ea_a7a2_82d0f687d400row6_col0\" class=\"data row6 col0\" >Categorical Features </td>\n",
       "                        <td id=\"T_25b6f7f4_a465_11ea_a7a2_82d0f687d400row6_col1\" class=\"data row6 col1\" >1</td>\n",
       "            </tr>\n",
       "            <tr>\n",
       "                        <th id=\"T_25b6f7f4_a465_11ea_a7a2_82d0f687d400level0_row7\" class=\"row_heading level0 row7\" >7</th>\n",
       "                        <td id=\"T_25b6f7f4_a465_11ea_a7a2_82d0f687d400row7_col0\" class=\"data row7 col0\" >Ordinal Features </td>\n",
       "                        <td id=\"T_25b6f7f4_a465_11ea_a7a2_82d0f687d400row7_col1\" class=\"data row7 col1\" >False</td>\n",
       "            </tr>\n",
       "            <tr>\n",
       "                        <th id=\"T_25b6f7f4_a465_11ea_a7a2_82d0f687d400level0_row8\" class=\"row_heading level0 row8\" >8</th>\n",
       "                        <td id=\"T_25b6f7f4_a465_11ea_a7a2_82d0f687d400row8_col0\" class=\"data row8 col0\" >High Cardinality Features </td>\n",
       "                        <td id=\"T_25b6f7f4_a465_11ea_a7a2_82d0f687d400row8_col1\" class=\"data row8 col1\" >False</td>\n",
       "            </tr>\n",
       "            <tr>\n",
       "                        <th id=\"T_25b6f7f4_a465_11ea_a7a2_82d0f687d400level0_row9\" class=\"row_heading level0 row9\" >9</th>\n",
       "                        <td id=\"T_25b6f7f4_a465_11ea_a7a2_82d0f687d400row9_col0\" class=\"data row9 col0\" >High Cardinality Method </td>\n",
       "                        <td id=\"T_25b6f7f4_a465_11ea_a7a2_82d0f687d400row9_col1\" class=\"data row9 col1\" >None</td>\n",
       "            </tr>\n",
       "            <tr>\n",
       "                        <th id=\"T_25b6f7f4_a465_11ea_a7a2_82d0f687d400level0_row10\" class=\"row_heading level0 row10\" >10</th>\n",
       "                        <td id=\"T_25b6f7f4_a465_11ea_a7a2_82d0f687d400row10_col0\" class=\"data row10 col0\" >Sampled Data</td>\n",
       "                        <td id=\"T_25b6f7f4_a465_11ea_a7a2_82d0f687d400row10_col1\" class=\"data row10 col1\" >(583, 11)</td>\n",
       "            </tr>\n",
       "            <tr>\n",
       "                        <th id=\"T_25b6f7f4_a465_11ea_a7a2_82d0f687d400level0_row11\" class=\"row_heading level0 row11\" >11</th>\n",
       "                        <td id=\"T_25b6f7f4_a465_11ea_a7a2_82d0f687d400row11_col0\" class=\"data row11 col0\" >Transformed Train Set</td>\n",
       "                        <td id=\"T_25b6f7f4_a465_11ea_a7a2_82d0f687d400row11_col1\" class=\"data row11 col1\" >(408, 10)</td>\n",
       "            </tr>\n",
       "            <tr>\n",
       "                        <th id=\"T_25b6f7f4_a465_11ea_a7a2_82d0f687d400level0_row12\" class=\"row_heading level0 row12\" >12</th>\n",
       "                        <td id=\"T_25b6f7f4_a465_11ea_a7a2_82d0f687d400row12_col0\" class=\"data row12 col0\" >Transformed Test Set</td>\n",
       "                        <td id=\"T_25b6f7f4_a465_11ea_a7a2_82d0f687d400row12_col1\" class=\"data row12 col1\" >(175, 10)</td>\n",
       "            </tr>\n",
       "            <tr>\n",
       "                        <th id=\"T_25b6f7f4_a465_11ea_a7a2_82d0f687d400level0_row13\" class=\"row_heading level0 row13\" >13</th>\n",
       "                        <td id=\"T_25b6f7f4_a465_11ea_a7a2_82d0f687d400row13_col0\" class=\"data row13 col0\" >Numeric Imputer </td>\n",
       "                        <td id=\"T_25b6f7f4_a465_11ea_a7a2_82d0f687d400row13_col1\" class=\"data row13 col1\" >mean</td>\n",
       "            </tr>\n",
       "            <tr>\n",
       "                        <th id=\"T_25b6f7f4_a465_11ea_a7a2_82d0f687d400level0_row14\" class=\"row_heading level0 row14\" >14</th>\n",
       "                        <td id=\"T_25b6f7f4_a465_11ea_a7a2_82d0f687d400row14_col0\" class=\"data row14 col0\" >Categorical Imputer </td>\n",
       "                        <td id=\"T_25b6f7f4_a465_11ea_a7a2_82d0f687d400row14_col1\" class=\"data row14 col1\" >constant</td>\n",
       "            </tr>\n",
       "            <tr>\n",
       "                        <th id=\"T_25b6f7f4_a465_11ea_a7a2_82d0f687d400level0_row15\" class=\"row_heading level0 row15\" >15</th>\n",
       "                        <td id=\"T_25b6f7f4_a465_11ea_a7a2_82d0f687d400row15_col0\" class=\"data row15 col0\" >Normalize </td>\n",
       "                        <td id=\"T_25b6f7f4_a465_11ea_a7a2_82d0f687d400row15_col1\" class=\"data row15 col1\" >False</td>\n",
       "            </tr>\n",
       "            <tr>\n",
       "                        <th id=\"T_25b6f7f4_a465_11ea_a7a2_82d0f687d400level0_row16\" class=\"row_heading level0 row16\" >16</th>\n",
       "                        <td id=\"T_25b6f7f4_a465_11ea_a7a2_82d0f687d400row16_col0\" class=\"data row16 col0\" >Normalize Method </td>\n",
       "                        <td id=\"T_25b6f7f4_a465_11ea_a7a2_82d0f687d400row16_col1\" class=\"data row16 col1\" >None</td>\n",
       "            </tr>\n",
       "            <tr>\n",
       "                        <th id=\"T_25b6f7f4_a465_11ea_a7a2_82d0f687d400level0_row17\" class=\"row_heading level0 row17\" >17</th>\n",
       "                        <td id=\"T_25b6f7f4_a465_11ea_a7a2_82d0f687d400row17_col0\" class=\"data row17 col0\" >Transformation </td>\n",
       "                        <td id=\"T_25b6f7f4_a465_11ea_a7a2_82d0f687d400row17_col1\" class=\"data row17 col1\" >False</td>\n",
       "            </tr>\n",
       "            <tr>\n",
       "                        <th id=\"T_25b6f7f4_a465_11ea_a7a2_82d0f687d400level0_row18\" class=\"row_heading level0 row18\" >18</th>\n",
       "                        <td id=\"T_25b6f7f4_a465_11ea_a7a2_82d0f687d400row18_col0\" class=\"data row18 col0\" >Transformation Method </td>\n",
       "                        <td id=\"T_25b6f7f4_a465_11ea_a7a2_82d0f687d400row18_col1\" class=\"data row18 col1\" >None</td>\n",
       "            </tr>\n",
       "            <tr>\n",
       "                        <th id=\"T_25b6f7f4_a465_11ea_a7a2_82d0f687d400level0_row19\" class=\"row_heading level0 row19\" >19</th>\n",
       "                        <td id=\"T_25b6f7f4_a465_11ea_a7a2_82d0f687d400row19_col0\" class=\"data row19 col0\" >PCA </td>\n",
       "                        <td id=\"T_25b6f7f4_a465_11ea_a7a2_82d0f687d400row19_col1\" class=\"data row19 col1\" >False</td>\n",
       "            </tr>\n",
       "            <tr>\n",
       "                        <th id=\"T_25b6f7f4_a465_11ea_a7a2_82d0f687d400level0_row20\" class=\"row_heading level0 row20\" >20</th>\n",
       "                        <td id=\"T_25b6f7f4_a465_11ea_a7a2_82d0f687d400row20_col0\" class=\"data row20 col0\" >PCA Method </td>\n",
       "                        <td id=\"T_25b6f7f4_a465_11ea_a7a2_82d0f687d400row20_col1\" class=\"data row20 col1\" >None</td>\n",
       "            </tr>\n",
       "            <tr>\n",
       "                        <th id=\"T_25b6f7f4_a465_11ea_a7a2_82d0f687d400level0_row21\" class=\"row_heading level0 row21\" >21</th>\n",
       "                        <td id=\"T_25b6f7f4_a465_11ea_a7a2_82d0f687d400row21_col0\" class=\"data row21 col0\" >PCA Components </td>\n",
       "                        <td id=\"T_25b6f7f4_a465_11ea_a7a2_82d0f687d400row21_col1\" class=\"data row21 col1\" >None</td>\n",
       "            </tr>\n",
       "            <tr>\n",
       "                        <th id=\"T_25b6f7f4_a465_11ea_a7a2_82d0f687d400level0_row22\" class=\"row_heading level0 row22\" >22</th>\n",
       "                        <td id=\"T_25b6f7f4_a465_11ea_a7a2_82d0f687d400row22_col0\" class=\"data row22 col0\" >Ignore Low Variance </td>\n",
       "                        <td id=\"T_25b6f7f4_a465_11ea_a7a2_82d0f687d400row22_col1\" class=\"data row22 col1\" >False</td>\n",
       "            </tr>\n",
       "            <tr>\n",
       "                        <th id=\"T_25b6f7f4_a465_11ea_a7a2_82d0f687d400level0_row23\" class=\"row_heading level0 row23\" >23</th>\n",
       "                        <td id=\"T_25b6f7f4_a465_11ea_a7a2_82d0f687d400row23_col0\" class=\"data row23 col0\" >Combine Rare Levels </td>\n",
       "                        <td id=\"T_25b6f7f4_a465_11ea_a7a2_82d0f687d400row23_col1\" class=\"data row23 col1\" >False</td>\n",
       "            </tr>\n",
       "            <tr>\n",
       "                        <th id=\"T_25b6f7f4_a465_11ea_a7a2_82d0f687d400level0_row24\" class=\"row_heading level0 row24\" >24</th>\n",
       "                        <td id=\"T_25b6f7f4_a465_11ea_a7a2_82d0f687d400row24_col0\" class=\"data row24 col0\" >Rare Level Threshold </td>\n",
       "                        <td id=\"T_25b6f7f4_a465_11ea_a7a2_82d0f687d400row24_col1\" class=\"data row24 col1\" >None</td>\n",
       "            </tr>\n",
       "            <tr>\n",
       "                        <th id=\"T_25b6f7f4_a465_11ea_a7a2_82d0f687d400level0_row25\" class=\"row_heading level0 row25\" >25</th>\n",
       "                        <td id=\"T_25b6f7f4_a465_11ea_a7a2_82d0f687d400row25_col0\" class=\"data row25 col0\" >Numeric Binning </td>\n",
       "                        <td id=\"T_25b6f7f4_a465_11ea_a7a2_82d0f687d400row25_col1\" class=\"data row25 col1\" >False</td>\n",
       "            </tr>\n",
       "            <tr>\n",
       "                        <th id=\"T_25b6f7f4_a465_11ea_a7a2_82d0f687d400level0_row26\" class=\"row_heading level0 row26\" >26</th>\n",
       "                        <td id=\"T_25b6f7f4_a465_11ea_a7a2_82d0f687d400row26_col0\" class=\"data row26 col0\" >Remove Outliers </td>\n",
       "                        <td id=\"T_25b6f7f4_a465_11ea_a7a2_82d0f687d400row26_col1\" class=\"data row26 col1\" >False</td>\n",
       "            </tr>\n",
       "            <tr>\n",
       "                        <th id=\"T_25b6f7f4_a465_11ea_a7a2_82d0f687d400level0_row27\" class=\"row_heading level0 row27\" >27</th>\n",
       "                        <td id=\"T_25b6f7f4_a465_11ea_a7a2_82d0f687d400row27_col0\" class=\"data row27 col0\" >Outliers Threshold </td>\n",
       "                        <td id=\"T_25b6f7f4_a465_11ea_a7a2_82d0f687d400row27_col1\" class=\"data row27 col1\" >None</td>\n",
       "            </tr>\n",
       "            <tr>\n",
       "                        <th id=\"T_25b6f7f4_a465_11ea_a7a2_82d0f687d400level0_row28\" class=\"row_heading level0 row28\" >28</th>\n",
       "                        <td id=\"T_25b6f7f4_a465_11ea_a7a2_82d0f687d400row28_col0\" class=\"data row28 col0\" >Remove Multicollinearity </td>\n",
       "                        <td id=\"T_25b6f7f4_a465_11ea_a7a2_82d0f687d400row28_col1\" class=\"data row28 col1\" >False</td>\n",
       "            </tr>\n",
       "            <tr>\n",
       "                        <th id=\"T_25b6f7f4_a465_11ea_a7a2_82d0f687d400level0_row29\" class=\"row_heading level0 row29\" >29</th>\n",
       "                        <td id=\"T_25b6f7f4_a465_11ea_a7a2_82d0f687d400row29_col0\" class=\"data row29 col0\" >Multicollinearity Threshold </td>\n",
       "                        <td id=\"T_25b6f7f4_a465_11ea_a7a2_82d0f687d400row29_col1\" class=\"data row29 col1\" >None</td>\n",
       "            </tr>\n",
       "            <tr>\n",
       "                        <th id=\"T_25b6f7f4_a465_11ea_a7a2_82d0f687d400level0_row30\" class=\"row_heading level0 row30\" >30</th>\n",
       "                        <td id=\"T_25b6f7f4_a465_11ea_a7a2_82d0f687d400row30_col0\" class=\"data row30 col0\" >Clustering </td>\n",
       "                        <td id=\"T_25b6f7f4_a465_11ea_a7a2_82d0f687d400row30_col1\" class=\"data row30 col1\" >False</td>\n",
       "            </tr>\n",
       "            <tr>\n",
       "                        <th id=\"T_25b6f7f4_a465_11ea_a7a2_82d0f687d400level0_row31\" class=\"row_heading level0 row31\" >31</th>\n",
       "                        <td id=\"T_25b6f7f4_a465_11ea_a7a2_82d0f687d400row31_col0\" class=\"data row31 col0\" >Clustering Iteration </td>\n",
       "                        <td id=\"T_25b6f7f4_a465_11ea_a7a2_82d0f687d400row31_col1\" class=\"data row31 col1\" >None</td>\n",
       "            </tr>\n",
       "            <tr>\n",
       "                        <th id=\"T_25b6f7f4_a465_11ea_a7a2_82d0f687d400level0_row32\" class=\"row_heading level0 row32\" >32</th>\n",
       "                        <td id=\"T_25b6f7f4_a465_11ea_a7a2_82d0f687d400row32_col0\" class=\"data row32 col0\" >Polynomial Features </td>\n",
       "                        <td id=\"T_25b6f7f4_a465_11ea_a7a2_82d0f687d400row32_col1\" class=\"data row32 col1\" >False</td>\n",
       "            </tr>\n",
       "            <tr>\n",
       "                        <th id=\"T_25b6f7f4_a465_11ea_a7a2_82d0f687d400level0_row33\" class=\"row_heading level0 row33\" >33</th>\n",
       "                        <td id=\"T_25b6f7f4_a465_11ea_a7a2_82d0f687d400row33_col0\" class=\"data row33 col0\" >Polynomial Degree </td>\n",
       "                        <td id=\"T_25b6f7f4_a465_11ea_a7a2_82d0f687d400row33_col1\" class=\"data row33 col1\" >None</td>\n",
       "            </tr>\n",
       "            <tr>\n",
       "                        <th id=\"T_25b6f7f4_a465_11ea_a7a2_82d0f687d400level0_row34\" class=\"row_heading level0 row34\" >34</th>\n",
       "                        <td id=\"T_25b6f7f4_a465_11ea_a7a2_82d0f687d400row34_col0\" class=\"data row34 col0\" >Trignometry Features </td>\n",
       "                        <td id=\"T_25b6f7f4_a465_11ea_a7a2_82d0f687d400row34_col1\" class=\"data row34 col1\" >False</td>\n",
       "            </tr>\n",
       "            <tr>\n",
       "                        <th id=\"T_25b6f7f4_a465_11ea_a7a2_82d0f687d400level0_row35\" class=\"row_heading level0 row35\" >35</th>\n",
       "                        <td id=\"T_25b6f7f4_a465_11ea_a7a2_82d0f687d400row35_col0\" class=\"data row35 col0\" >Polynomial Threshold </td>\n",
       "                        <td id=\"T_25b6f7f4_a465_11ea_a7a2_82d0f687d400row35_col1\" class=\"data row35 col1\" >None</td>\n",
       "            </tr>\n",
       "            <tr>\n",
       "                        <th id=\"T_25b6f7f4_a465_11ea_a7a2_82d0f687d400level0_row36\" class=\"row_heading level0 row36\" >36</th>\n",
       "                        <td id=\"T_25b6f7f4_a465_11ea_a7a2_82d0f687d400row36_col0\" class=\"data row36 col0\" >Group Features </td>\n",
       "                        <td id=\"T_25b6f7f4_a465_11ea_a7a2_82d0f687d400row36_col1\" class=\"data row36 col1\" >False</td>\n",
       "            </tr>\n",
       "            <tr>\n",
       "                        <th id=\"T_25b6f7f4_a465_11ea_a7a2_82d0f687d400level0_row37\" class=\"row_heading level0 row37\" >37</th>\n",
       "                        <td id=\"T_25b6f7f4_a465_11ea_a7a2_82d0f687d400row37_col0\" class=\"data row37 col0\" >Feature Selection </td>\n",
       "                        <td id=\"T_25b6f7f4_a465_11ea_a7a2_82d0f687d400row37_col1\" class=\"data row37 col1\" >False</td>\n",
       "            </tr>\n",
       "            <tr>\n",
       "                        <th id=\"T_25b6f7f4_a465_11ea_a7a2_82d0f687d400level0_row38\" class=\"row_heading level0 row38\" >38</th>\n",
       "                        <td id=\"T_25b6f7f4_a465_11ea_a7a2_82d0f687d400row38_col0\" class=\"data row38 col0\" >Features Selection Threshold </td>\n",
       "                        <td id=\"T_25b6f7f4_a465_11ea_a7a2_82d0f687d400row38_col1\" class=\"data row38 col1\" >None</td>\n",
       "            </tr>\n",
       "            <tr>\n",
       "                        <th id=\"T_25b6f7f4_a465_11ea_a7a2_82d0f687d400level0_row39\" class=\"row_heading level0 row39\" >39</th>\n",
       "                        <td id=\"T_25b6f7f4_a465_11ea_a7a2_82d0f687d400row39_col0\" class=\"data row39 col0\" >Feature Interaction </td>\n",
       "                        <td id=\"T_25b6f7f4_a465_11ea_a7a2_82d0f687d400row39_col1\" class=\"data row39 col1\" >False</td>\n",
       "            </tr>\n",
       "            <tr>\n",
       "                        <th id=\"T_25b6f7f4_a465_11ea_a7a2_82d0f687d400level0_row40\" class=\"row_heading level0 row40\" >40</th>\n",
       "                        <td id=\"T_25b6f7f4_a465_11ea_a7a2_82d0f687d400row40_col0\" class=\"data row40 col0\" >Feature Ratio </td>\n",
       "                        <td id=\"T_25b6f7f4_a465_11ea_a7a2_82d0f687d400row40_col1\" class=\"data row40 col1\" >False</td>\n",
       "            </tr>\n",
       "            <tr>\n",
       "                        <th id=\"T_25b6f7f4_a465_11ea_a7a2_82d0f687d400level0_row41\" class=\"row_heading level0 row41\" >41</th>\n",
       "                        <td id=\"T_25b6f7f4_a465_11ea_a7a2_82d0f687d400row41_col0\" class=\"data row41 col0\" >Interaction Threshold </td>\n",
       "                        <td id=\"T_25b6f7f4_a465_11ea_a7a2_82d0f687d400row41_col1\" class=\"data row41 col1\" >None</td>\n",
       "            </tr>\n",
       "    </tbody></table>"
      ],
      "text/plain": [
       "<pandas.io.formats.style.Styler at 0x12a362588>"
      ]
     },
     "metadata": {},
     "output_type": "display_data"
    }
   ],
   "source": [
    "exp_01 = setup(data = dataset, target = 'Dataset', session_id=123)"
   ]
  },
  {
   "cell_type": "markdown",
   "metadata": {},
   "source": [
    "This function allow us to compare some ML models </br>\n",
    "The class data is unbalanced so take the accuracy for principal metric can mislead us.</br>\n",
    "So we choose the F1-score </br>\n",
    "The best one based on F1 is Naives Bayes Classifier and Adaboost(best balance between accuracy and F1).</br>\n",
    "Our model can predict than a patient has a liver disease with an F1 score of 53% </br>\n",
    "It's a very low score, our model has a low predictive power </br>"
   ]
  },
  {
   "cell_type": "code",
   "execution_count": 9,
   "metadata": {
    "colab": {
     "base_uri": "https://localhost:8080/",
     "height": 355,
     "referenced_widgets": [
      "e91464cf798446809e0f88888458574d",
      "60b15f75133b4aaeb4dcf43d1054028b",
      "424fb1ded0e14b729e93b514681a4576"
     ]
    },
    "colab_type": "code",
    "id": "ZQO5CfYYwhI0",
    "outputId": "9d9994ef-1695-461f-ac31-fe20cca3946d"
   },
   "outputs": [
    {
     "data": {
      "text/html": [
       "<style  type=\"text/css\" >\n",
       "    #T_3586e4a8_a465_11ea_838e_82d0f687d400 th {\n",
       "          text-align: left;\n",
       "    }    #T_3586e4a8_a465_11ea_838e_82d0f687d400row0_col0 {\n",
       "            text-align:  left;\n",
       "        }    #T_3586e4a8_a465_11ea_838e_82d0f687d400row0_col1 {\n",
       "            : ;\n",
       "            text-align:  left;\n",
       "        }    #T_3586e4a8_a465_11ea_838e_82d0f687d400row0_col2 {\n",
       "            : ;\n",
       "            text-align:  left;\n",
       "        }    #T_3586e4a8_a465_11ea_838e_82d0f687d400row0_col3 {\n",
       "            background-color:  yellow;\n",
       "            text-align:  left;\n",
       "        }    #T_3586e4a8_a465_11ea_838e_82d0f687d400row0_col4 {\n",
       "            : ;\n",
       "            text-align:  left;\n",
       "        }    #T_3586e4a8_a465_11ea_838e_82d0f687d400row0_col5 {\n",
       "            background-color:  yellow;\n",
       "            text-align:  left;\n",
       "        }    #T_3586e4a8_a465_11ea_838e_82d0f687d400row0_col6 {\n",
       "            : ;\n",
       "            text-align:  left;\n",
       "        }    #T_3586e4a8_a465_11ea_838e_82d0f687d400row1_col0 {\n",
       "            text-align:  left;\n",
       "        }    #T_3586e4a8_a465_11ea_838e_82d0f687d400row1_col1 {\n",
       "            : ;\n",
       "            text-align:  left;\n",
       "        }    #T_3586e4a8_a465_11ea_838e_82d0f687d400row1_col2 {\n",
       "            : ;\n",
       "            text-align:  left;\n",
       "        }    #T_3586e4a8_a465_11ea_838e_82d0f687d400row1_col3 {\n",
       "            : ;\n",
       "            text-align:  left;\n",
       "        }    #T_3586e4a8_a465_11ea_838e_82d0f687d400row1_col4 {\n",
       "            : ;\n",
       "            text-align:  left;\n",
       "        }    #T_3586e4a8_a465_11ea_838e_82d0f687d400row1_col5 {\n",
       "            : ;\n",
       "            text-align:  left;\n",
       "        }    #T_3586e4a8_a465_11ea_838e_82d0f687d400row1_col6 {\n",
       "            : ;\n",
       "            text-align:  left;\n",
       "        }    #T_3586e4a8_a465_11ea_838e_82d0f687d400row2_col0 {\n",
       "            text-align:  left;\n",
       "        }    #T_3586e4a8_a465_11ea_838e_82d0f687d400row2_col1 {\n",
       "            background-color:  yellow;\n",
       "            text-align:  left;\n",
       "        }    #T_3586e4a8_a465_11ea_838e_82d0f687d400row2_col2 {\n",
       "            : ;\n",
       "            text-align:  left;\n",
       "        }    #T_3586e4a8_a465_11ea_838e_82d0f687d400row2_col3 {\n",
       "            : ;\n",
       "            text-align:  left;\n",
       "        }    #T_3586e4a8_a465_11ea_838e_82d0f687d400row2_col4 {\n",
       "            : ;\n",
       "            text-align:  left;\n",
       "        }    #T_3586e4a8_a465_11ea_838e_82d0f687d400row2_col5 {\n",
       "            : ;\n",
       "            text-align:  left;\n",
       "        }    #T_3586e4a8_a465_11ea_838e_82d0f687d400row2_col6 {\n",
       "            background-color:  yellow;\n",
       "            text-align:  left;\n",
       "        }    #T_3586e4a8_a465_11ea_838e_82d0f687d400row3_col0 {\n",
       "            text-align:  left;\n",
       "        }    #T_3586e4a8_a465_11ea_838e_82d0f687d400row3_col1 {\n",
       "            : ;\n",
       "            text-align:  left;\n",
       "        }    #T_3586e4a8_a465_11ea_838e_82d0f687d400row3_col2 {\n",
       "            : ;\n",
       "            text-align:  left;\n",
       "        }    #T_3586e4a8_a465_11ea_838e_82d0f687d400row3_col3 {\n",
       "            : ;\n",
       "            text-align:  left;\n",
       "        }    #T_3586e4a8_a465_11ea_838e_82d0f687d400row3_col4 {\n",
       "            : ;\n",
       "            text-align:  left;\n",
       "        }    #T_3586e4a8_a465_11ea_838e_82d0f687d400row3_col5 {\n",
       "            : ;\n",
       "            text-align:  left;\n",
       "        }    #T_3586e4a8_a465_11ea_838e_82d0f687d400row3_col6 {\n",
       "            : ;\n",
       "            text-align:  left;\n",
       "        }    #T_3586e4a8_a465_11ea_838e_82d0f687d400row4_col0 {\n",
       "            text-align:  left;\n",
       "        }    #T_3586e4a8_a465_11ea_838e_82d0f687d400row4_col1 {\n",
       "            : ;\n",
       "            text-align:  left;\n",
       "        }    #T_3586e4a8_a465_11ea_838e_82d0f687d400row4_col2 {\n",
       "            : ;\n",
       "            text-align:  left;\n",
       "        }    #T_3586e4a8_a465_11ea_838e_82d0f687d400row4_col3 {\n",
       "            : ;\n",
       "            text-align:  left;\n",
       "        }    #T_3586e4a8_a465_11ea_838e_82d0f687d400row4_col4 {\n",
       "            : ;\n",
       "            text-align:  left;\n",
       "        }    #T_3586e4a8_a465_11ea_838e_82d0f687d400row4_col5 {\n",
       "            : ;\n",
       "            text-align:  left;\n",
       "        }    #T_3586e4a8_a465_11ea_838e_82d0f687d400row4_col6 {\n",
       "            : ;\n",
       "            text-align:  left;\n",
       "        }    #T_3586e4a8_a465_11ea_838e_82d0f687d400row5_col0 {\n",
       "            text-align:  left;\n",
       "        }    #T_3586e4a8_a465_11ea_838e_82d0f687d400row5_col1 {\n",
       "            : ;\n",
       "            text-align:  left;\n",
       "        }    #T_3586e4a8_a465_11ea_838e_82d0f687d400row5_col2 {\n",
       "            : ;\n",
       "            text-align:  left;\n",
       "        }    #T_3586e4a8_a465_11ea_838e_82d0f687d400row5_col3 {\n",
       "            : ;\n",
       "            text-align:  left;\n",
       "        }    #T_3586e4a8_a465_11ea_838e_82d0f687d400row5_col4 {\n",
       "            background-color:  yellow;\n",
       "            text-align:  left;\n",
       "        }    #T_3586e4a8_a465_11ea_838e_82d0f687d400row5_col5 {\n",
       "            : ;\n",
       "            text-align:  left;\n",
       "        }    #T_3586e4a8_a465_11ea_838e_82d0f687d400row5_col6 {\n",
       "            : ;\n",
       "            text-align:  left;\n",
       "        }    #T_3586e4a8_a465_11ea_838e_82d0f687d400row6_col0 {\n",
       "            text-align:  left;\n",
       "        }    #T_3586e4a8_a465_11ea_838e_82d0f687d400row6_col1 {\n",
       "            : ;\n",
       "            text-align:  left;\n",
       "        }    #T_3586e4a8_a465_11ea_838e_82d0f687d400row6_col2 {\n",
       "            : ;\n",
       "            text-align:  left;\n",
       "        }    #T_3586e4a8_a465_11ea_838e_82d0f687d400row6_col3 {\n",
       "            : ;\n",
       "            text-align:  left;\n",
       "        }    #T_3586e4a8_a465_11ea_838e_82d0f687d400row6_col4 {\n",
       "            : ;\n",
       "            text-align:  left;\n",
       "        }    #T_3586e4a8_a465_11ea_838e_82d0f687d400row6_col5 {\n",
       "            : ;\n",
       "            text-align:  left;\n",
       "        }    #T_3586e4a8_a465_11ea_838e_82d0f687d400row6_col6 {\n",
       "            : ;\n",
       "            text-align:  left;\n",
       "        }    #T_3586e4a8_a465_11ea_838e_82d0f687d400row7_col0 {\n",
       "            text-align:  left;\n",
       "        }    #T_3586e4a8_a465_11ea_838e_82d0f687d400row7_col1 {\n",
       "            : ;\n",
       "            text-align:  left;\n",
       "        }    #T_3586e4a8_a465_11ea_838e_82d0f687d400row7_col2 {\n",
       "            : ;\n",
       "            text-align:  left;\n",
       "        }    #T_3586e4a8_a465_11ea_838e_82d0f687d400row7_col3 {\n",
       "            : ;\n",
       "            text-align:  left;\n",
       "        }    #T_3586e4a8_a465_11ea_838e_82d0f687d400row7_col4 {\n",
       "            : ;\n",
       "            text-align:  left;\n",
       "        }    #T_3586e4a8_a465_11ea_838e_82d0f687d400row7_col5 {\n",
       "            : ;\n",
       "            text-align:  left;\n",
       "        }    #T_3586e4a8_a465_11ea_838e_82d0f687d400row7_col6 {\n",
       "            : ;\n",
       "            text-align:  left;\n",
       "        }    #T_3586e4a8_a465_11ea_838e_82d0f687d400row8_col0 {\n",
       "            text-align:  left;\n",
       "        }    #T_3586e4a8_a465_11ea_838e_82d0f687d400row8_col1 {\n",
       "            : ;\n",
       "            text-align:  left;\n",
       "        }    #T_3586e4a8_a465_11ea_838e_82d0f687d400row8_col2 {\n",
       "            : ;\n",
       "            text-align:  left;\n",
       "        }    #T_3586e4a8_a465_11ea_838e_82d0f687d400row8_col3 {\n",
       "            : ;\n",
       "            text-align:  left;\n",
       "        }    #T_3586e4a8_a465_11ea_838e_82d0f687d400row8_col4 {\n",
       "            : ;\n",
       "            text-align:  left;\n",
       "        }    #T_3586e4a8_a465_11ea_838e_82d0f687d400row8_col5 {\n",
       "            : ;\n",
       "            text-align:  left;\n",
       "        }    #T_3586e4a8_a465_11ea_838e_82d0f687d400row8_col6 {\n",
       "            : ;\n",
       "            text-align:  left;\n",
       "        }    #T_3586e4a8_a465_11ea_838e_82d0f687d400row9_col0 {\n",
       "            text-align:  left;\n",
       "        }    #T_3586e4a8_a465_11ea_838e_82d0f687d400row9_col1 {\n",
       "            : ;\n",
       "            text-align:  left;\n",
       "        }    #T_3586e4a8_a465_11ea_838e_82d0f687d400row9_col2 {\n",
       "            : ;\n",
       "            text-align:  left;\n",
       "        }    #T_3586e4a8_a465_11ea_838e_82d0f687d400row9_col3 {\n",
       "            : ;\n",
       "            text-align:  left;\n",
       "        }    #T_3586e4a8_a465_11ea_838e_82d0f687d400row9_col4 {\n",
       "            : ;\n",
       "            text-align:  left;\n",
       "        }    #T_3586e4a8_a465_11ea_838e_82d0f687d400row9_col5 {\n",
       "            : ;\n",
       "            text-align:  left;\n",
       "        }    #T_3586e4a8_a465_11ea_838e_82d0f687d400row9_col6 {\n",
       "            : ;\n",
       "            text-align:  left;\n",
       "        }    #T_3586e4a8_a465_11ea_838e_82d0f687d400row10_col0 {\n",
       "            text-align:  left;\n",
       "        }    #T_3586e4a8_a465_11ea_838e_82d0f687d400row10_col1 {\n",
       "            : ;\n",
       "            text-align:  left;\n",
       "        }    #T_3586e4a8_a465_11ea_838e_82d0f687d400row10_col2 {\n",
       "            : ;\n",
       "            text-align:  left;\n",
       "        }    #T_3586e4a8_a465_11ea_838e_82d0f687d400row10_col3 {\n",
       "            : ;\n",
       "            text-align:  left;\n",
       "        }    #T_3586e4a8_a465_11ea_838e_82d0f687d400row10_col4 {\n",
       "            : ;\n",
       "            text-align:  left;\n",
       "        }    #T_3586e4a8_a465_11ea_838e_82d0f687d400row10_col5 {\n",
       "            : ;\n",
       "            text-align:  left;\n",
       "        }    #T_3586e4a8_a465_11ea_838e_82d0f687d400row10_col6 {\n",
       "            : ;\n",
       "            text-align:  left;\n",
       "        }    #T_3586e4a8_a465_11ea_838e_82d0f687d400row11_col0 {\n",
       "            text-align:  left;\n",
       "        }    #T_3586e4a8_a465_11ea_838e_82d0f687d400row11_col1 {\n",
       "            background-color:  yellow;\n",
       "            text-align:  left;\n",
       "        }    #T_3586e4a8_a465_11ea_838e_82d0f687d400row11_col2 {\n",
       "            background-color:  yellow;\n",
       "            text-align:  left;\n",
       "        }    #T_3586e4a8_a465_11ea_838e_82d0f687d400row11_col3 {\n",
       "            : ;\n",
       "            text-align:  left;\n",
       "        }    #T_3586e4a8_a465_11ea_838e_82d0f687d400row11_col4 {\n",
       "            : ;\n",
       "            text-align:  left;\n",
       "        }    #T_3586e4a8_a465_11ea_838e_82d0f687d400row11_col5 {\n",
       "            : ;\n",
       "            text-align:  left;\n",
       "        }    #T_3586e4a8_a465_11ea_838e_82d0f687d400row11_col6 {\n",
       "            : ;\n",
       "            text-align:  left;\n",
       "        }    #T_3586e4a8_a465_11ea_838e_82d0f687d400row12_col0 {\n",
       "            text-align:  left;\n",
       "        }    #T_3586e4a8_a465_11ea_838e_82d0f687d400row12_col1 {\n",
       "            : ;\n",
       "            text-align:  left;\n",
       "        }    #T_3586e4a8_a465_11ea_838e_82d0f687d400row12_col2 {\n",
       "            : ;\n",
       "            text-align:  left;\n",
       "        }    #T_3586e4a8_a465_11ea_838e_82d0f687d400row12_col3 {\n",
       "            : ;\n",
       "            text-align:  left;\n",
       "        }    #T_3586e4a8_a465_11ea_838e_82d0f687d400row12_col4 {\n",
       "            : ;\n",
       "            text-align:  left;\n",
       "        }    #T_3586e4a8_a465_11ea_838e_82d0f687d400row12_col5 {\n",
       "            : ;\n",
       "            text-align:  left;\n",
       "        }    #T_3586e4a8_a465_11ea_838e_82d0f687d400row12_col6 {\n",
       "            : ;\n",
       "            text-align:  left;\n",
       "        }    #T_3586e4a8_a465_11ea_838e_82d0f687d400row13_col0 {\n",
       "            text-align:  left;\n",
       "        }    #T_3586e4a8_a465_11ea_838e_82d0f687d400row13_col1 {\n",
       "            : ;\n",
       "            text-align:  left;\n",
       "        }    #T_3586e4a8_a465_11ea_838e_82d0f687d400row13_col2 {\n",
       "            : ;\n",
       "            text-align:  left;\n",
       "        }    #T_3586e4a8_a465_11ea_838e_82d0f687d400row13_col3 {\n",
       "            : ;\n",
       "            text-align:  left;\n",
       "        }    #T_3586e4a8_a465_11ea_838e_82d0f687d400row13_col4 {\n",
       "            : ;\n",
       "            text-align:  left;\n",
       "        }    #T_3586e4a8_a465_11ea_838e_82d0f687d400row13_col5 {\n",
       "            : ;\n",
       "            text-align:  left;\n",
       "        }    #T_3586e4a8_a465_11ea_838e_82d0f687d400row13_col6 {\n",
       "            : ;\n",
       "            text-align:  left;\n",
       "        }    #T_3586e4a8_a465_11ea_838e_82d0f687d400row14_col0 {\n",
       "            text-align:  left;\n",
       "        }    #T_3586e4a8_a465_11ea_838e_82d0f687d400row14_col1 {\n",
       "            : ;\n",
       "            text-align:  left;\n",
       "        }    #T_3586e4a8_a465_11ea_838e_82d0f687d400row14_col2 {\n",
       "            : ;\n",
       "            text-align:  left;\n",
       "        }    #T_3586e4a8_a465_11ea_838e_82d0f687d400row14_col3 {\n",
       "            : ;\n",
       "            text-align:  left;\n",
       "        }    #T_3586e4a8_a465_11ea_838e_82d0f687d400row14_col4 {\n",
       "            : ;\n",
       "            text-align:  left;\n",
       "        }    #T_3586e4a8_a465_11ea_838e_82d0f687d400row14_col5 {\n",
       "            : ;\n",
       "            text-align:  left;\n",
       "        }    #T_3586e4a8_a465_11ea_838e_82d0f687d400row14_col6 {\n",
       "            : ;\n",
       "            text-align:  left;\n",
       "        }</style><table id=\"T_3586e4a8_a465_11ea_838e_82d0f687d400\" ><thead>    <tr>        <th class=\"blank level0\" ></th>        <th class=\"col_heading level0 col0\" >Model</th>        <th class=\"col_heading level0 col1\" >Accuracy</th>        <th class=\"col_heading level0 col2\" >AUC</th>        <th class=\"col_heading level0 col3\" >Recall</th>        <th class=\"col_heading level0 col4\" >Prec.</th>        <th class=\"col_heading level0 col5\" >F1</th>        <th class=\"col_heading level0 col6\" >Kappa</th>    </tr></thead><tbody>\n",
       "                <tr>\n",
       "                        <th id=\"T_3586e4a8_a465_11ea_838e_82d0f687d400level0_row0\" class=\"row_heading level0 row0\" >0</th>\n",
       "                        <td id=\"T_3586e4a8_a465_11ea_838e_82d0f687d400row0_col0\" class=\"data row0 col0\" >Naive Bayes</td>\n",
       "                        <td id=\"T_3586e4a8_a465_11ea_838e_82d0f687d400row0_col1\" class=\"data row0 col1\" >0.527100</td>\n",
       "                        <td id=\"T_3586e4a8_a465_11ea_838e_82d0f687d400row0_col2\" class=\"data row0 col2\" >0.726900</td>\n",
       "                        <td id=\"T_3586e4a8_a465_11ea_838e_82d0f687d400row0_col3\" class=\"data row0 col3\" >0.940200</td>\n",
       "                        <td id=\"T_3586e4a8_a465_11ea_838e_82d0f687d400row0_col4\" class=\"data row0 col4\" >0.374100</td>\n",
       "                        <td id=\"T_3586e4a8_a465_11ea_838e_82d0f687d400row0_col5\" class=\"data row0 col5\" >0.534100</td>\n",
       "                        <td id=\"T_3586e4a8_a465_11ea_838e_82d0f687d400row0_col6\" class=\"data row0 col6\" >0.209600</td>\n",
       "            </tr>\n",
       "            <tr>\n",
       "                        <th id=\"T_3586e4a8_a465_11ea_838e_82d0f687d400level0_row1\" class=\"row_heading level0 row1\" >1</th>\n",
       "                        <td id=\"T_3586e4a8_a465_11ea_838e_82d0f687d400row1_col0\" class=\"data row1 col0\" >Quadratic Discriminant Analysis</td>\n",
       "                        <td id=\"T_3586e4a8_a465_11ea_838e_82d0f687d400row1_col1\" class=\"data row1 col1\" >0.534400</td>\n",
       "                        <td id=\"T_3586e4a8_a465_11ea_838e_82d0f687d400row1_col2\" class=\"data row1 col2\" >0.710400</td>\n",
       "                        <td id=\"T_3586e4a8_a465_11ea_838e_82d0f687d400row1_col3\" class=\"data row1 col3\" >0.897700</td>\n",
       "                        <td id=\"T_3586e4a8_a465_11ea_838e_82d0f687d400row1_col4\" class=\"data row1 col4\" >0.374300</td>\n",
       "                        <td id=\"T_3586e4a8_a465_11ea_838e_82d0f687d400row1_col5\" class=\"data row1 col5\" >0.526500</td>\n",
       "                        <td id=\"T_3586e4a8_a465_11ea_838e_82d0f687d400row1_col6\" class=\"data row1 col6\" >0.204400</td>\n",
       "            </tr>\n",
       "            <tr>\n",
       "                        <th id=\"T_3586e4a8_a465_11ea_838e_82d0f687d400level0_row2\" class=\"row_heading level0 row2\" >2</th>\n",
       "                        <td id=\"T_3586e4a8_a465_11ea_838e_82d0f687d400row2_col0\" class=\"data row2 col0\" >Ada Boost Classifier</td>\n",
       "                        <td id=\"T_3586e4a8_a465_11ea_838e_82d0f687d400row2_col1\" class=\"data row2 col1\" >0.713200</td>\n",
       "                        <td id=\"T_3586e4a8_a465_11ea_838e_82d0f687d400row2_col2\" class=\"data row2 col2\" >0.725100</td>\n",
       "                        <td id=\"T_3586e4a8_a465_11ea_838e_82d0f687d400row2_col3\" class=\"data row2 col3\" >0.402300</td>\n",
       "                        <td id=\"T_3586e4a8_a465_11ea_838e_82d0f687d400row2_col4\" class=\"data row2 col4\" >0.485300</td>\n",
       "                        <td id=\"T_3586e4a8_a465_11ea_838e_82d0f687d400row2_col5\" class=\"data row2 col5\" >0.431600</td>\n",
       "                        <td id=\"T_3586e4a8_a465_11ea_838e_82d0f687d400row2_col6\" class=\"data row2 col6\" >0.247800</td>\n",
       "            </tr>\n",
       "            <tr>\n",
       "                        <th id=\"T_3586e4a8_a465_11ea_838e_82d0f687d400level0_row3\" class=\"row_heading level0 row3\" >3</th>\n",
       "                        <td id=\"T_3586e4a8_a465_11ea_838e_82d0f687d400row3_col0\" class=\"data row3 col0\" >Decision Tree Classifier</td>\n",
       "                        <td id=\"T_3586e4a8_a465_11ea_838e_82d0f687d400row3_col1\" class=\"data row3 col1\" >0.659200</td>\n",
       "                        <td id=\"T_3586e4a8_a465_11ea_838e_82d0f687d400row3_col2\" class=\"data row3 col2\" >0.587200</td>\n",
       "                        <td id=\"T_3586e4a8_a465_11ea_838e_82d0f687d400row3_col3\" class=\"data row3 col3\" >0.418200</td>\n",
       "                        <td id=\"T_3586e4a8_a465_11ea_838e_82d0f687d400row3_col4\" class=\"data row3 col4\" >0.428100</td>\n",
       "                        <td id=\"T_3586e4a8_a465_11ea_838e_82d0f687d400row3_col5\" class=\"data row3 col5\" >0.413300</td>\n",
       "                        <td id=\"T_3586e4a8_a465_11ea_838e_82d0f687d400row3_col6\" class=\"data row3 col6\" >0.175900</td>\n",
       "            </tr>\n",
       "            <tr>\n",
       "                        <th id=\"T_3586e4a8_a465_11ea_838e_82d0f687d400level0_row4\" class=\"row_heading level0 row4\" >4</th>\n",
       "                        <td id=\"T_3586e4a8_a465_11ea_838e_82d0f687d400row4_col0\" class=\"data row4 col0\" >Light Gradient Boosting Machine</td>\n",
       "                        <td id=\"T_3586e4a8_a465_11ea_838e_82d0f687d400row4_col1\" class=\"data row4 col1\" >0.688900</td>\n",
       "                        <td id=\"T_3586e4a8_a465_11ea_838e_82d0f687d400row4_col2\" class=\"data row4 col2\" >0.700500</td>\n",
       "                        <td id=\"T_3586e4a8_a465_11ea_838e_82d0f687d400row4_col3\" class=\"data row4 col3\" >0.328000</td>\n",
       "                        <td id=\"T_3586e4a8_a465_11ea_838e_82d0f687d400row4_col4\" class=\"data row4 col4\" >0.456000</td>\n",
       "                        <td id=\"T_3586e4a8_a465_11ea_838e_82d0f687d400row4_col5\" class=\"data row4 col5\" >0.370000</td>\n",
       "                        <td id=\"T_3586e4a8_a465_11ea_838e_82d0f687d400row4_col6\" class=\"data row4 col6\" >0.176000</td>\n",
       "            </tr>\n",
       "            <tr>\n",
       "                        <th id=\"T_3586e4a8_a465_11ea_838e_82d0f687d400level0_row5\" class=\"row_heading level0 row5\" >5</th>\n",
       "                        <td id=\"T_3586e4a8_a465_11ea_838e_82d0f687d400row5_col0\" class=\"data row5 col0\" >Random Forest Classifier</td>\n",
       "                        <td id=\"T_3586e4a8_a465_11ea_838e_82d0f687d400row5_col1\" class=\"data row5 col1\" >0.710900</td>\n",
       "                        <td id=\"T_3586e4a8_a465_11ea_838e_82d0f687d400row5_col2\" class=\"data row5 col2\" >0.686700</td>\n",
       "                        <td id=\"T_3586e4a8_a465_11ea_838e_82d0f687d400row5_col3\" class=\"data row5 col3\" >0.282600</td>\n",
       "                        <td id=\"T_3586e4a8_a465_11ea_838e_82d0f687d400row5_col4\" class=\"data row5 col4\" >0.496100</td>\n",
       "                        <td id=\"T_3586e4a8_a465_11ea_838e_82d0f687d400row5_col5\" class=\"data row5 col5\" >0.348800</td>\n",
       "                        <td id=\"T_3586e4a8_a465_11ea_838e_82d0f687d400row5_col6\" class=\"data row5 col6\" >0.186900</td>\n",
       "            </tr>\n",
       "            <tr>\n",
       "                        <th id=\"T_3586e4a8_a465_11ea_838e_82d0f687d400level0_row6\" class=\"row_heading level0 row6\" >6</th>\n",
       "                        <td id=\"T_3586e4a8_a465_11ea_838e_82d0f687d400row6_col0\" class=\"data row6 col0\" >CatBoost Classifier</td>\n",
       "                        <td id=\"T_3586e4a8_a465_11ea_838e_82d0f687d400row6_col1\" class=\"data row6 col1\" >0.698800</td>\n",
       "                        <td id=\"T_3586e4a8_a465_11ea_838e_82d0f687d400row6_col2\" class=\"data row6 col2\" >0.697100</td>\n",
       "                        <td id=\"T_3586e4a8_a465_11ea_838e_82d0f687d400row6_col3\" class=\"data row6 col3\" >0.250800</td>\n",
       "                        <td id=\"T_3586e4a8_a465_11ea_838e_82d0f687d400row6_col4\" class=\"data row6 col4\" >0.464200</td>\n",
       "                        <td id=\"T_3586e4a8_a465_11ea_838e_82d0f687d400row6_col5\" class=\"data row6 col5\" >0.319600</td>\n",
       "                        <td id=\"T_3586e4a8_a465_11ea_838e_82d0f687d400row6_col6\" class=\"data row6 col6\" >0.150100</td>\n",
       "            </tr>\n",
       "            <tr>\n",
       "                        <th id=\"T_3586e4a8_a465_11ea_838e_82d0f687d400level0_row7\" class=\"row_heading level0 row7\" >7</th>\n",
       "                        <td id=\"T_3586e4a8_a465_11ea_838e_82d0f687d400row7_col0\" class=\"data row7 col0\" >K Neighbors Classifier</td>\n",
       "                        <td id=\"T_3586e4a8_a465_11ea_838e_82d0f687d400row7_col1\" class=\"data row7 col1\" >0.667100</td>\n",
       "                        <td id=\"T_3586e4a8_a465_11ea_838e_82d0f687d400row7_col2\" class=\"data row7 col2\" >0.636100</td>\n",
       "                        <td id=\"T_3586e4a8_a465_11ea_838e_82d0f687d400row7_col3\" class=\"data row7 col3\" >0.276500</td>\n",
       "                        <td id=\"T_3586e4a8_a465_11ea_838e_82d0f687d400row7_col4\" class=\"data row7 col4\" >0.382200</td>\n",
       "                        <td id=\"T_3586e4a8_a465_11ea_838e_82d0f687d400row7_col5\" class=\"data row7 col5\" >0.313700</td>\n",
       "                        <td id=\"T_3586e4a8_a465_11ea_838e_82d0f687d400row7_col6\" class=\"data row7 col6\" >0.106900</td>\n",
       "            </tr>\n",
       "            <tr>\n",
       "                        <th id=\"T_3586e4a8_a465_11ea_838e_82d0f687d400level0_row8\" class=\"row_heading level0 row8\" >8</th>\n",
       "                        <td id=\"T_3586e4a8_a465_11ea_838e_82d0f687d400row8_col0\" class=\"data row8 col0\" >Extra Trees Classifier</td>\n",
       "                        <td id=\"T_3586e4a8_a465_11ea_838e_82d0f687d400row8_col1\" class=\"data row8 col1\" >0.691300</td>\n",
       "                        <td id=\"T_3586e4a8_a465_11ea_838e_82d0f687d400row8_col2\" class=\"data row8 col2\" >0.703200</td>\n",
       "                        <td id=\"T_3586e4a8_a465_11ea_838e_82d0f687d400row8_col3\" class=\"data row8 col3\" >0.247700</td>\n",
       "                        <td id=\"T_3586e4a8_a465_11ea_838e_82d0f687d400row8_col4\" class=\"data row8 col4\" >0.445100</td>\n",
       "                        <td id=\"T_3586e4a8_a465_11ea_838e_82d0f687d400row8_col5\" class=\"data row8 col5\" >0.310800</td>\n",
       "                        <td id=\"T_3586e4a8_a465_11ea_838e_82d0f687d400row8_col6\" class=\"data row8 col6\" >0.134500</td>\n",
       "            </tr>\n",
       "            <tr>\n",
       "                        <th id=\"T_3586e4a8_a465_11ea_838e_82d0f687d400level0_row9\" class=\"row_heading level0 row9\" >9</th>\n",
       "                        <td id=\"T_3586e4a8_a465_11ea_838e_82d0f687d400row9_col0\" class=\"data row9 col0\" >Gradient Boosting Classifier</td>\n",
       "                        <td id=\"T_3586e4a8_a465_11ea_838e_82d0f687d400row9_col1\" class=\"data row9 col1\" >0.681300</td>\n",
       "                        <td id=\"T_3586e4a8_a465_11ea_838e_82d0f687d400row9_col2\" class=\"data row9 col2\" >0.700400</td>\n",
       "                        <td id=\"T_3586e4a8_a465_11ea_838e_82d0f687d400row9_col3\" class=\"data row9 col3\" >0.250800</td>\n",
       "                        <td id=\"T_3586e4a8_a465_11ea_838e_82d0f687d400row9_col4\" class=\"data row9 col4\" >0.418100</td>\n",
       "                        <td id=\"T_3586e4a8_a465_11ea_838e_82d0f687d400row9_col5\" class=\"data row9 col5\" >0.305400</td>\n",
       "                        <td id=\"T_3586e4a8_a465_11ea_838e_82d0f687d400row9_col6\" class=\"data row9 col6\" >0.118600</td>\n",
       "            </tr>\n",
       "            <tr>\n",
       "                        <th id=\"T_3586e4a8_a465_11ea_838e_82d0f687d400level0_row10\" class=\"row_heading level0 row10\" >10</th>\n",
       "                        <td id=\"T_3586e4a8_a465_11ea_838e_82d0f687d400row10_col0\" class=\"data row10 col0\" >Extreme Gradient Boosting</td>\n",
       "                        <td id=\"T_3586e4a8_a465_11ea_838e_82d0f687d400row10_col1\" class=\"data row10 col1\" >0.681600</td>\n",
       "                        <td id=\"T_3586e4a8_a465_11ea_838e_82d0f687d400row10_col2\" class=\"data row10 col2\" >0.707400</td>\n",
       "                        <td id=\"T_3586e4a8_a465_11ea_838e_82d0f687d400row10_col3\" class=\"data row10 col3\" >0.215200</td>\n",
       "                        <td id=\"T_3586e4a8_a465_11ea_838e_82d0f687d400row10_col4\" class=\"data row10 col4\" >0.402100</td>\n",
       "                        <td id=\"T_3586e4a8_a465_11ea_838e_82d0f687d400row10_col5\" class=\"data row10 col5\" >0.275300</td>\n",
       "                        <td id=\"T_3586e4a8_a465_11ea_838e_82d0f687d400row10_col6\" class=\"data row10 col6\" >0.097700</td>\n",
       "            </tr>\n",
       "            <tr>\n",
       "                        <th id=\"T_3586e4a8_a465_11ea_838e_82d0f687d400level0_row11\" class=\"row_heading level0 row11\" >11</th>\n",
       "                        <td id=\"T_3586e4a8_a465_11ea_838e_82d0f687d400row11_col0\" class=\"data row11 col0\" >Logistic Regression</td>\n",
       "                        <td id=\"T_3586e4a8_a465_11ea_838e_82d0f687d400row11_col1\" class=\"data row11 col1\" >0.713200</td>\n",
       "                        <td id=\"T_3586e4a8_a465_11ea_838e_82d0f687d400row11_col2\" class=\"data row11 col2\" >0.734300</td>\n",
       "                        <td id=\"T_3586e4a8_a465_11ea_838e_82d0f687d400row11_col3\" class=\"data row11 col3\" >0.187900</td>\n",
       "                        <td id=\"T_3586e4a8_a465_11ea_838e_82d0f687d400row11_col4\" class=\"data row11 col4\" >0.459400</td>\n",
       "                        <td id=\"T_3586e4a8_a465_11ea_838e_82d0f687d400row11_col5\" class=\"data row11 col5\" >0.250300</td>\n",
       "                        <td id=\"T_3586e4a8_a465_11ea_838e_82d0f687d400row11_col6\" class=\"data row11 col6\" >0.128500</td>\n",
       "            </tr>\n",
       "            <tr>\n",
       "                        <th id=\"T_3586e4a8_a465_11ea_838e_82d0f687d400level0_row12\" class=\"row_heading level0 row12\" >12</th>\n",
       "                        <td id=\"T_3586e4a8_a465_11ea_838e_82d0f687d400row12_col0\" class=\"data row12 col0\" >Linear Discriminant Analysis</td>\n",
       "                        <td id=\"T_3586e4a8_a465_11ea_838e_82d0f687d400row12_col1\" class=\"data row12 col1\" >0.703500</td>\n",
       "                        <td id=\"T_3586e4a8_a465_11ea_838e_82d0f687d400row12_col2\" class=\"data row12 col2\" >0.701700</td>\n",
       "                        <td id=\"T_3586e4a8_a465_11ea_838e_82d0f687d400row12_col3\" class=\"data row12 col3\" >0.084800</td>\n",
       "                        <td id=\"T_3586e4a8_a465_11ea_838e_82d0f687d400row12_col4\" class=\"data row12 col4\" >0.300000</td>\n",
       "                        <td id=\"T_3586e4a8_a465_11ea_838e_82d0f687d400row12_col5\" class=\"data row12 col5\" >0.131700</td>\n",
       "                        <td id=\"T_3586e4a8_a465_11ea_838e_82d0f687d400row12_col6\" class=\"data row12 col6\" >0.045900</td>\n",
       "            </tr>\n",
       "            <tr>\n",
       "                        <th id=\"T_3586e4a8_a465_11ea_838e_82d0f687d400level0_row13\" class=\"row_heading level0 row13\" >13</th>\n",
       "                        <td id=\"T_3586e4a8_a465_11ea_838e_82d0f687d400row13_col0\" class=\"data row13 col0\" >SVM - Linear Kernel</td>\n",
       "                        <td id=\"T_3586e4a8_a465_11ea_838e_82d0f687d400row13_col1\" class=\"data row13 col1\" >0.701100</td>\n",
       "                        <td id=\"T_3586e4a8_a465_11ea_838e_82d0f687d400row13_col2\" class=\"data row13 col2\" >0.000000</td>\n",
       "                        <td id=\"T_3586e4a8_a465_11ea_838e_82d0f687d400row13_col3\" class=\"data row13 col3\" >0.125800</td>\n",
       "                        <td id=\"T_3586e4a8_a465_11ea_838e_82d0f687d400row13_col4\" class=\"data row13 col4\" >0.115000</td>\n",
       "                        <td id=\"T_3586e4a8_a465_11ea_838e_82d0f687d400row13_col5\" class=\"data row13 col5\" >0.114200</td>\n",
       "                        <td id=\"T_3586e4a8_a465_11ea_838e_82d0f687d400row13_col6\" class=\"data row13 col6\" >0.051600</td>\n",
       "            </tr>\n",
       "            <tr>\n",
       "                        <th id=\"T_3586e4a8_a465_11ea_838e_82d0f687d400level0_row14\" class=\"row_heading level0 row14\" >14</th>\n",
       "                        <td id=\"T_3586e4a8_a465_11ea_838e_82d0f687d400row14_col0\" class=\"data row14 col0\" >Ridge Classifier</td>\n",
       "                        <td id=\"T_3586e4a8_a465_11ea_838e_82d0f687d400row14_col1\" class=\"data row14 col1\" >0.708400</td>\n",
       "                        <td id=\"T_3586e4a8_a465_11ea_838e_82d0f687d400row14_col2\" class=\"data row14 col2\" >0.000000</td>\n",
       "                        <td id=\"T_3586e4a8_a465_11ea_838e_82d0f687d400row14_col3\" class=\"data row14 col3\" >0.051500</td>\n",
       "                        <td id=\"T_3586e4a8_a465_11ea_838e_82d0f687d400row14_col4\" class=\"data row14 col4\" >0.200000</td>\n",
       "                        <td id=\"T_3586e4a8_a465_11ea_838e_82d0f687d400row14_col5\" class=\"data row14 col5\" >0.081000</td>\n",
       "                        <td id=\"T_3586e4a8_a465_11ea_838e_82d0f687d400row14_col6\" class=\"data row14 col6\" >0.030200</td>\n",
       "            </tr>\n",
       "    </tbody></table>"
      ],
      "text/plain": [
       "<pandas.io.formats.style.Styler at 0x12ea91630>"
      ]
     },
     "execution_count": 9,
     "metadata": {},
     "output_type": "execute_result"
    }
   ],
   "source": [
    "compare_models(sort='F1')"
   ]
  },
  {
   "cell_type": "code",
   "execution_count": 10,
   "metadata": {
    "colab": {
     "base_uri": "https://localhost:8080/",
     "height": 421,
     "referenced_widgets": [
      "59783b8b4e584ceab84580fbac2468bd",
      "37bdf43e8b4d456ead7001c7d073284c",
      "074c31610ed04be59729feb70023aded"
     ]
    },
    "colab_type": "code",
    "id": "G_oR0VW4wn7q",
    "outputId": "c7524d0d-6a06-4e71-ad66-c7c1eedeee5e"
   },
   "outputs": [
    {
     "data": {
      "text/html": [
       "<div>\n",
       "<style scoped>\n",
       "    .dataframe tbody tr th:only-of-type {\n",
       "        vertical-align: middle;\n",
       "    }\n",
       "\n",
       "    .dataframe tbody tr th {\n",
       "        vertical-align: top;\n",
       "    }\n",
       "\n",
       "    .dataframe thead th {\n",
       "        text-align: right;\n",
       "    }\n",
       "</style>\n",
       "<table border=\"1\" class=\"dataframe\">\n",
       "  <thead>\n",
       "    <tr style=\"text-align: right;\">\n",
       "      <th></th>\n",
       "      <th>Accuracy</th>\n",
       "      <th>AUC</th>\n",
       "      <th>Recall</th>\n",
       "      <th>Prec.</th>\n",
       "      <th>F1</th>\n",
       "      <th>Kappa</th>\n",
       "    </tr>\n",
       "  </thead>\n",
       "  <tbody>\n",
       "    <tr>\n",
       "      <th>0</th>\n",
       "      <td>0.4146</td>\n",
       "      <td>0.6515</td>\n",
       "      <td>0.9091</td>\n",
       "      <td>0.3030</td>\n",
       "      <td>0.4545</td>\n",
       "      <td>0.0872</td>\n",
       "    </tr>\n",
       "    <tr>\n",
       "      <th>1</th>\n",
       "      <td>0.6585</td>\n",
       "      <td>0.7299</td>\n",
       "      <td>1.0000</td>\n",
       "      <td>0.4615</td>\n",
       "      <td>0.6316</td>\n",
       "      <td>0.3854</td>\n",
       "    </tr>\n",
       "    <tr>\n",
       "      <th>2</th>\n",
       "      <td>0.5122</td>\n",
       "      <td>0.7414</td>\n",
       "      <td>0.9167</td>\n",
       "      <td>0.3667</td>\n",
       "      <td>0.5238</td>\n",
       "      <td>0.1816</td>\n",
       "    </tr>\n",
       "    <tr>\n",
       "      <th>3</th>\n",
       "      <td>0.4634</td>\n",
       "      <td>0.7213</td>\n",
       "      <td>1.0000</td>\n",
       "      <td>0.3529</td>\n",
       "      <td>0.5217</td>\n",
       "      <td>0.1570</td>\n",
       "    </tr>\n",
       "    <tr>\n",
       "      <th>4</th>\n",
       "      <td>0.5122</td>\n",
       "      <td>0.6782</td>\n",
       "      <td>1.0000</td>\n",
       "      <td>0.3750</td>\n",
       "      <td>0.5455</td>\n",
       "      <td>0.2085</td>\n",
       "    </tr>\n",
       "    <tr>\n",
       "      <th>5</th>\n",
       "      <td>0.5610</td>\n",
       "      <td>0.6724</td>\n",
       "      <td>0.8333</td>\n",
       "      <td>0.3846</td>\n",
       "      <td>0.5263</td>\n",
       "      <td>0.2099</td>\n",
       "    </tr>\n",
       "    <tr>\n",
       "      <th>6</th>\n",
       "      <td>0.4878</td>\n",
       "      <td>0.6552</td>\n",
       "      <td>0.9167</td>\n",
       "      <td>0.3548</td>\n",
       "      <td>0.5116</td>\n",
       "      <td>0.1551</td>\n",
       "    </tr>\n",
       "    <tr>\n",
       "      <th>7</th>\n",
       "      <td>0.5610</td>\n",
       "      <td>0.8017</td>\n",
       "      <td>0.9167</td>\n",
       "      <td>0.3929</td>\n",
       "      <td>0.5500</td>\n",
       "      <td>0.2376</td>\n",
       "    </tr>\n",
       "    <tr>\n",
       "      <th>8</th>\n",
       "      <td>0.5500</td>\n",
       "      <td>0.8088</td>\n",
       "      <td>0.9091</td>\n",
       "      <td>0.3704</td>\n",
       "      <td>0.5263</td>\n",
       "      <td>0.2225</td>\n",
       "    </tr>\n",
       "    <tr>\n",
       "      <th>9</th>\n",
       "      <td>0.5500</td>\n",
       "      <td>0.8088</td>\n",
       "      <td>1.0000</td>\n",
       "      <td>0.3793</td>\n",
       "      <td>0.5500</td>\n",
       "      <td>0.2516</td>\n",
       "    </tr>\n",
       "    <tr>\n",
       "      <th>Mean</th>\n",
       "      <td>0.5271</td>\n",
       "      <td>0.7269</td>\n",
       "      <td>0.9402</td>\n",
       "      <td>0.3741</td>\n",
       "      <td>0.5341</td>\n",
       "      <td>0.2096</td>\n",
       "    </tr>\n",
       "    <tr>\n",
       "      <th>SD</th>\n",
       "      <td>0.0627</td>\n",
       "      <td>0.0595</td>\n",
       "      <td>0.0541</td>\n",
       "      <td>0.0375</td>\n",
       "      <td>0.0417</td>\n",
       "      <td>0.0743</td>\n",
       "    </tr>\n",
       "  </tbody>\n",
       "</table>\n",
       "</div>"
      ],
      "text/plain": [
       "      Accuracy     AUC  Recall   Prec.      F1   Kappa\n",
       "0       0.4146  0.6515  0.9091  0.3030  0.4545  0.0872\n",
       "1       0.6585  0.7299  1.0000  0.4615  0.6316  0.3854\n",
       "2       0.5122  0.7414  0.9167  0.3667  0.5238  0.1816\n",
       "3       0.4634  0.7213  1.0000  0.3529  0.5217  0.1570\n",
       "4       0.5122  0.6782  1.0000  0.3750  0.5455  0.2085\n",
       "5       0.5610  0.6724  0.8333  0.3846  0.5263  0.2099\n",
       "6       0.4878  0.6552  0.9167  0.3548  0.5116  0.1551\n",
       "7       0.5610  0.8017  0.9167  0.3929  0.5500  0.2376\n",
       "8       0.5500  0.8088  0.9091  0.3704  0.5263  0.2225\n",
       "9       0.5500  0.8088  1.0000  0.3793  0.5500  0.2516\n",
       "Mean    0.5271  0.7269  0.9402  0.3741  0.5341  0.2096\n",
       "SD      0.0627  0.0595  0.0541  0.0375  0.0417  0.0743"
      ]
     },
     "metadata": {},
     "output_type": "display_data"
    }
   ],
   "source": [
    "#Let's isolate the Top 4 models\n",
    "NB = create_model('nb')"
   ]
  },
  {
   "cell_type": "code",
   "execution_count": 11,
   "metadata": {},
   "outputs": [],
   "source": [
    "ADA = create_model('ada',verbose=False)\n",
    "QDA = create_model('qda',verbose=False)\n",
    "DT = create_model('dt',verbose=False)"
   ]
  },
  {
   "cell_type": "code",
   "execution_count": 12,
   "metadata": {
    "colab": {
     "base_uri": "https://localhost:8080/",
     "height": 421,
     "referenced_widgets": [
      "9ab27494a30d4d9ebdbdddd27aa86ffd",
      "b6b4bc5b6593471a9f646c2c2f497456",
      "e335425821f0482495654cecebbd7fd1"
     ]
    },
    "colab_type": "code",
    "id": "vVjcFGXqw04w",
    "outputId": "e26ad8e2-7f7f-4546-9677-9a7bf84970ea"
   },
   "outputs": [
    {
     "data": {
      "text/html": [
       "<div>\n",
       "<style scoped>\n",
       "    .dataframe tbody tr th:only-of-type {\n",
       "        vertical-align: middle;\n",
       "    }\n",
       "\n",
       "    .dataframe tbody tr th {\n",
       "        vertical-align: top;\n",
       "    }\n",
       "\n",
       "    .dataframe thead th {\n",
       "        text-align: right;\n",
       "    }\n",
       "</style>\n",
       "<table border=\"1\" class=\"dataframe\">\n",
       "  <thead>\n",
       "    <tr style=\"text-align: right;\">\n",
       "      <th></th>\n",
       "      <th>Accuracy</th>\n",
       "      <th>AUC</th>\n",
       "      <th>Recall</th>\n",
       "      <th>Prec.</th>\n",
       "      <th>F1</th>\n",
       "      <th>Kappa</th>\n",
       "    </tr>\n",
       "  </thead>\n",
       "  <tbody>\n",
       "    <tr>\n",
       "      <th>0</th>\n",
       "      <td>0.4390</td>\n",
       "      <td>0.6758</td>\n",
       "      <td>1.0000</td>\n",
       "      <td>0.3235</td>\n",
       "      <td>0.4889</td>\n",
       "      <td>0.1404</td>\n",
       "    </tr>\n",
       "    <tr>\n",
       "      <th>1</th>\n",
       "      <td>0.6341</td>\n",
       "      <td>0.7126</td>\n",
       "      <td>1.0000</td>\n",
       "      <td>0.4444</td>\n",
       "      <td>0.6154</td>\n",
       "      <td>0.3533</td>\n",
       "    </tr>\n",
       "    <tr>\n",
       "      <th>2</th>\n",
       "      <td>0.5122</td>\n",
       "      <td>0.7443</td>\n",
       "      <td>0.9167</td>\n",
       "      <td>0.3667</td>\n",
       "      <td>0.5238</td>\n",
       "      <td>0.1816</td>\n",
       "    </tr>\n",
       "    <tr>\n",
       "      <th>3</th>\n",
       "      <td>0.4634</td>\n",
       "      <td>0.7098</td>\n",
       "      <td>1.0000</td>\n",
       "      <td>0.3529</td>\n",
       "      <td>0.5217</td>\n",
       "      <td>0.1570</td>\n",
       "    </tr>\n",
       "    <tr>\n",
       "      <th>4</th>\n",
       "      <td>0.5122</td>\n",
       "      <td>0.6609</td>\n",
       "      <td>1.0000</td>\n",
       "      <td>0.3750</td>\n",
       "      <td>0.5455</td>\n",
       "      <td>0.2085</td>\n",
       "    </tr>\n",
       "    <tr>\n",
       "      <th>5</th>\n",
       "      <td>0.6098</td>\n",
       "      <td>0.6868</td>\n",
       "      <td>0.9167</td>\n",
       "      <td>0.4231</td>\n",
       "      <td>0.5789</td>\n",
       "      <td>0.2976</td>\n",
       "    </tr>\n",
       "    <tr>\n",
       "      <th>6</th>\n",
       "      <td>0.5122</td>\n",
       "      <td>0.6092</td>\n",
       "      <td>0.9167</td>\n",
       "      <td>0.3667</td>\n",
       "      <td>0.5238</td>\n",
       "      <td>0.1816</td>\n",
       "    </tr>\n",
       "    <tr>\n",
       "      <th>7</th>\n",
       "      <td>0.5610</td>\n",
       "      <td>0.8132</td>\n",
       "      <td>0.9167</td>\n",
       "      <td>0.3929</td>\n",
       "      <td>0.5500</td>\n",
       "      <td>0.2376</td>\n",
       "    </tr>\n",
       "    <tr>\n",
       "      <th>8</th>\n",
       "      <td>0.5000</td>\n",
       "      <td>0.8056</td>\n",
       "      <td>0.9091</td>\n",
       "      <td>0.3448</td>\n",
       "      <td>0.5000</td>\n",
       "      <td>0.1684</td>\n",
       "    </tr>\n",
       "    <tr>\n",
       "      <th>9</th>\n",
       "      <td>0.5000</td>\n",
       "      <td>0.7962</td>\n",
       "      <td>1.0000</td>\n",
       "      <td>0.3548</td>\n",
       "      <td>0.5238</td>\n",
       "      <td>0.1984</td>\n",
       "    </tr>\n",
       "    <tr>\n",
       "      <th>Mean</th>\n",
       "      <td>0.5244</td>\n",
       "      <td>0.7214</td>\n",
       "      <td>0.9576</td>\n",
       "      <td>0.3745</td>\n",
       "      <td>0.5372</td>\n",
       "      <td>0.2125</td>\n",
       "    </tr>\n",
       "    <tr>\n",
       "      <th>SD</th>\n",
       "      <td>0.0577</td>\n",
       "      <td>0.0643</td>\n",
       "      <td>0.0425</td>\n",
       "      <td>0.0347</td>\n",
       "      <td>0.0355</td>\n",
       "      <td>0.0633</td>\n",
       "    </tr>\n",
       "  </tbody>\n",
       "</table>\n",
       "</div>"
      ],
      "text/plain": [
       "      Accuracy     AUC  Recall   Prec.      F1   Kappa\n",
       "0       0.4390  0.6758  1.0000  0.3235  0.4889  0.1404\n",
       "1       0.6341  0.7126  1.0000  0.4444  0.6154  0.3533\n",
       "2       0.5122  0.7443  0.9167  0.3667  0.5238  0.1816\n",
       "3       0.4634  0.7098  1.0000  0.3529  0.5217  0.1570\n",
       "4       0.5122  0.6609  1.0000  0.3750  0.5455  0.2085\n",
       "5       0.6098  0.6868  0.9167  0.4231  0.5789  0.2976\n",
       "6       0.5122  0.6092  0.9167  0.3667  0.5238  0.1816\n",
       "7       0.5610  0.8132  0.9167  0.3929  0.5500  0.2376\n",
       "8       0.5000  0.8056  0.9091  0.3448  0.5000  0.1684\n",
       "9       0.5000  0.7962  1.0000  0.3548  0.5238  0.1984\n",
       "Mean    0.5244  0.7214  0.9576  0.3745  0.5372  0.2125\n",
       "SD      0.0577  0.0643  0.0425  0.0347  0.0355  0.0633"
      ]
     },
     "metadata": {},
     "output_type": "display_data"
    }
   ],
   "source": [
    "#Let's tune our models\n",
    "#F1 and Accuracy increase\n",
    "tuned_nb = tune_model('nb',optimize='F1')"
   ]
  },
  {
   "cell_type": "code",
   "execution_count": 13,
   "metadata": {},
   "outputs": [
    {
     "data": {
      "text/html": [
       "<div>\n",
       "<style scoped>\n",
       "    .dataframe tbody tr th:only-of-type {\n",
       "        vertical-align: middle;\n",
       "    }\n",
       "\n",
       "    .dataframe tbody tr th {\n",
       "        vertical-align: top;\n",
       "    }\n",
       "\n",
       "    .dataframe thead th {\n",
       "        text-align: right;\n",
       "    }\n",
       "</style>\n",
       "<table border=\"1\" class=\"dataframe\">\n",
       "  <thead>\n",
       "    <tr style=\"text-align: right;\">\n",
       "      <th></th>\n",
       "      <th>Accuracy</th>\n",
       "      <th>AUC</th>\n",
       "      <th>Recall</th>\n",
       "      <th>Prec.</th>\n",
       "      <th>F1</th>\n",
       "      <th>Kappa</th>\n",
       "    </tr>\n",
       "  </thead>\n",
       "  <tbody>\n",
       "    <tr>\n",
       "      <th>0</th>\n",
       "      <td>0.6829</td>\n",
       "      <td>0.6045</td>\n",
       "      <td>0.5455</td>\n",
       "      <td>0.4286</td>\n",
       "      <td>0.4800</td>\n",
       "      <td>0.2566</td>\n",
       "    </tr>\n",
       "    <tr>\n",
       "      <th>1</th>\n",
       "      <td>0.6829</td>\n",
       "      <td>0.7241</td>\n",
       "      <td>0.3333</td>\n",
       "      <td>0.4444</td>\n",
       "      <td>0.3810</td>\n",
       "      <td>0.1736</td>\n",
       "    </tr>\n",
       "    <tr>\n",
       "      <th>2</th>\n",
       "      <td>0.6585</td>\n",
       "      <td>0.6925</td>\n",
       "      <td>0.1667</td>\n",
       "      <td>0.3333</td>\n",
       "      <td>0.2222</td>\n",
       "      <td>0.0337</td>\n",
       "    </tr>\n",
       "    <tr>\n",
       "      <th>3</th>\n",
       "      <td>0.8293</td>\n",
       "      <td>0.7974</td>\n",
       "      <td>0.5833</td>\n",
       "      <td>0.7778</td>\n",
       "      <td>0.6667</td>\n",
       "      <td>0.5550</td>\n",
       "    </tr>\n",
       "    <tr>\n",
       "      <th>4</th>\n",
       "      <td>0.8049</td>\n",
       "      <td>0.7701</td>\n",
       "      <td>0.5000</td>\n",
       "      <td>0.7500</td>\n",
       "      <td>0.6000</td>\n",
       "      <td>0.4777</td>\n",
       "    </tr>\n",
       "    <tr>\n",
       "      <th>5</th>\n",
       "      <td>0.7561</td>\n",
       "      <td>0.6782</td>\n",
       "      <td>0.4167</td>\n",
       "      <td>0.6250</td>\n",
       "      <td>0.5000</td>\n",
       "      <td>0.3471</td>\n",
       "    </tr>\n",
       "    <tr>\n",
       "      <th>6</th>\n",
       "      <td>0.6341</td>\n",
       "      <td>0.7241</td>\n",
       "      <td>0.4167</td>\n",
       "      <td>0.3846</td>\n",
       "      <td>0.4000</td>\n",
       "      <td>0.1374</td>\n",
       "    </tr>\n",
       "    <tr>\n",
       "      <th>7</th>\n",
       "      <td>0.7073</td>\n",
       "      <td>0.6839</td>\n",
       "      <td>0.2500</td>\n",
       "      <td>0.5000</td>\n",
       "      <td>0.3333</td>\n",
       "      <td>0.1717</td>\n",
       "    </tr>\n",
       "    <tr>\n",
       "      <th>8</th>\n",
       "      <td>0.7000</td>\n",
       "      <td>0.7367</td>\n",
       "      <td>0.2727</td>\n",
       "      <td>0.4286</td>\n",
       "      <td>0.3333</td>\n",
       "      <td>0.1519</td>\n",
       "    </tr>\n",
       "    <tr>\n",
       "      <th>9</th>\n",
       "      <td>0.7250</td>\n",
       "      <td>0.7774</td>\n",
       "      <td>0.2727</td>\n",
       "      <td>0.5000</td>\n",
       "      <td>0.3529</td>\n",
       "      <td>0.1971</td>\n",
       "    </tr>\n",
       "    <tr>\n",
       "      <th>Mean</th>\n",
       "      <td>0.7181</td>\n",
       "      <td>0.7189</td>\n",
       "      <td>0.3758</td>\n",
       "      <td>0.5172</td>\n",
       "      <td>0.4269</td>\n",
       "      <td>0.2502</td>\n",
       "    </tr>\n",
       "    <tr>\n",
       "      <th>SD</th>\n",
       "      <td>0.0591</td>\n",
       "      <td>0.0541</td>\n",
       "      <td>0.1316</td>\n",
       "      <td>0.1438</td>\n",
       "      <td>0.1278</td>\n",
       "      <td>0.1543</td>\n",
       "    </tr>\n",
       "  </tbody>\n",
       "</table>\n",
       "</div>"
      ],
      "text/plain": [
       "      Accuracy     AUC  Recall   Prec.      F1   Kappa\n",
       "0       0.6829  0.6045  0.5455  0.4286  0.4800  0.2566\n",
       "1       0.6829  0.7241  0.3333  0.4444  0.3810  0.1736\n",
       "2       0.6585  0.6925  0.1667  0.3333  0.2222  0.0337\n",
       "3       0.8293  0.7974  0.5833  0.7778  0.6667  0.5550\n",
       "4       0.8049  0.7701  0.5000  0.7500  0.6000  0.4777\n",
       "5       0.7561  0.6782  0.4167  0.6250  0.5000  0.3471\n",
       "6       0.6341  0.7241  0.4167  0.3846  0.4000  0.1374\n",
       "7       0.7073  0.6839  0.2500  0.5000  0.3333  0.1717\n",
       "8       0.7000  0.7367  0.2727  0.4286  0.3333  0.1519\n",
       "9       0.7250  0.7774  0.2727  0.5000  0.3529  0.1971\n",
       "Mean    0.7181  0.7189  0.3758  0.5172  0.4269  0.2502\n",
       "SD      0.0591  0.0541  0.1316  0.1438  0.1278  0.1543"
      ]
     },
     "metadata": {},
     "output_type": "display_data"
    }
   ],
   "source": [
    "#F1 score decrease\n",
    "#Accuracy increase, it possible that our model has improve in the classification of the patient whith no diseas\n",
    "tuned_ada = tune_model('ada',optimize='F1')"
   ]
  },
  {
   "cell_type": "code",
   "execution_count": 14,
   "metadata": {},
   "outputs": [
    {
     "data": {
      "text/html": [
       "<div>\n",
       "<style scoped>\n",
       "    .dataframe tbody tr th:only-of-type {\n",
       "        vertical-align: middle;\n",
       "    }\n",
       "\n",
       "    .dataframe tbody tr th {\n",
       "        vertical-align: top;\n",
       "    }\n",
       "\n",
       "    .dataframe thead th {\n",
       "        text-align: right;\n",
       "    }\n",
       "</style>\n",
       "<table border=\"1\" class=\"dataframe\">\n",
       "  <thead>\n",
       "    <tr style=\"text-align: right;\">\n",
       "      <th></th>\n",
       "      <th>Accuracy</th>\n",
       "      <th>AUC</th>\n",
       "      <th>Recall</th>\n",
       "      <th>Prec.</th>\n",
       "      <th>F1</th>\n",
       "      <th>Kappa</th>\n",
       "    </tr>\n",
       "  </thead>\n",
       "  <tbody>\n",
       "    <tr>\n",
       "      <th>0</th>\n",
       "      <td>0.4390</td>\n",
       "      <td>0.7091</td>\n",
       "      <td>0.8182</td>\n",
       "      <td>0.3000</td>\n",
       "      <td>0.4390</td>\n",
       "      <td>0.0764</td>\n",
       "    </tr>\n",
       "    <tr>\n",
       "      <th>1</th>\n",
       "      <td>0.6341</td>\n",
       "      <td>0.7213</td>\n",
       "      <td>0.9167</td>\n",
       "      <td>0.4400</td>\n",
       "      <td>0.5946</td>\n",
       "      <td>0.3293</td>\n",
       "    </tr>\n",
       "    <tr>\n",
       "      <th>2</th>\n",
       "      <td>0.5366</td>\n",
       "      <td>0.7672</td>\n",
       "      <td>0.9167</td>\n",
       "      <td>0.3793</td>\n",
       "      <td>0.5366</td>\n",
       "      <td>0.2091</td>\n",
       "    </tr>\n",
       "    <tr>\n",
       "      <th>3</th>\n",
       "      <td>0.4634</td>\n",
       "      <td>0.7184</td>\n",
       "      <td>1.0000</td>\n",
       "      <td>0.3529</td>\n",
       "      <td>0.5217</td>\n",
       "      <td>0.1570</td>\n",
       "    </tr>\n",
       "    <tr>\n",
       "      <th>4</th>\n",
       "      <td>0.5610</td>\n",
       "      <td>0.6322</td>\n",
       "      <td>0.9167</td>\n",
       "      <td>0.3929</td>\n",
       "      <td>0.5500</td>\n",
       "      <td>0.2376</td>\n",
       "    </tr>\n",
       "    <tr>\n",
       "      <th>5</th>\n",
       "      <td>0.6341</td>\n",
       "      <td>0.6897</td>\n",
       "      <td>0.7500</td>\n",
       "      <td>0.4286</td>\n",
       "      <td>0.5455</td>\n",
       "      <td>0.2756</td>\n",
       "    </tr>\n",
       "    <tr>\n",
       "      <th>6</th>\n",
       "      <td>0.5366</td>\n",
       "      <td>0.5747</td>\n",
       "      <td>0.8333</td>\n",
       "      <td>0.3704</td>\n",
       "      <td>0.5128</td>\n",
       "      <td>0.1809</td>\n",
       "    </tr>\n",
       "    <tr>\n",
       "      <th>7</th>\n",
       "      <td>0.6585</td>\n",
       "      <td>0.8046</td>\n",
       "      <td>0.9167</td>\n",
       "      <td>0.4583</td>\n",
       "      <td>0.6111</td>\n",
       "      <td>0.3622</td>\n",
       "    </tr>\n",
       "    <tr>\n",
       "      <th>8</th>\n",
       "      <td>0.5750</td>\n",
       "      <td>0.8276</td>\n",
       "      <td>0.8182</td>\n",
       "      <td>0.3750</td>\n",
       "      <td>0.5143</td>\n",
       "      <td>0.2202</td>\n",
       "    </tr>\n",
       "    <tr>\n",
       "      <th>9</th>\n",
       "      <td>0.6000</td>\n",
       "      <td>0.8339</td>\n",
       "      <td>1.0000</td>\n",
       "      <td>0.4074</td>\n",
       "      <td>0.5789</td>\n",
       "      <td>0.3089</td>\n",
       "    </tr>\n",
       "    <tr>\n",
       "      <th>Mean</th>\n",
       "      <td>0.5638</td>\n",
       "      <td>0.7279</td>\n",
       "      <td>0.8886</td>\n",
       "      <td>0.3905</td>\n",
       "      <td>0.5405</td>\n",
       "      <td>0.2357</td>\n",
       "    </tr>\n",
       "    <tr>\n",
       "      <th>SD</th>\n",
       "      <td>0.0689</td>\n",
       "      <td>0.0795</td>\n",
       "      <td>0.0776</td>\n",
       "      <td>0.0438</td>\n",
       "      <td>0.0465</td>\n",
       "      <td>0.0820</td>\n",
       "    </tr>\n",
       "  </tbody>\n",
       "</table>\n",
       "</div>"
      ],
      "text/plain": [
       "      Accuracy     AUC  Recall   Prec.      F1   Kappa\n",
       "0       0.4390  0.7091  0.8182  0.3000  0.4390  0.0764\n",
       "1       0.6341  0.7213  0.9167  0.4400  0.5946  0.3293\n",
       "2       0.5366  0.7672  0.9167  0.3793  0.5366  0.2091\n",
       "3       0.4634  0.7184  1.0000  0.3529  0.5217  0.1570\n",
       "4       0.5610  0.6322  0.9167  0.3929  0.5500  0.2376\n",
       "5       0.6341  0.6897  0.7500  0.4286  0.5455  0.2756\n",
       "6       0.5366  0.5747  0.8333  0.3704  0.5128  0.1809\n",
       "7       0.6585  0.8046  0.9167  0.4583  0.6111  0.3622\n",
       "8       0.5750  0.8276  0.8182  0.3750  0.5143  0.2202\n",
       "9       0.6000  0.8339  1.0000  0.4074  0.5789  0.3089\n",
       "Mean    0.5638  0.7279  0.8886  0.3905  0.5405  0.2357\n",
       "SD      0.0689  0.0795  0.0776  0.0438  0.0465  0.0820"
      ]
     },
     "metadata": {},
     "output_type": "display_data"
    }
   ],
   "source": [
    "#Improvement\n",
    "tuned_qda = tune_model('qda',optimize='F1')"
   ]
  },
  {
   "cell_type": "code",
   "execution_count": 15,
   "metadata": {},
   "outputs": [
    {
     "data": {
      "text/html": [
       "<div>\n",
       "<style scoped>\n",
       "    .dataframe tbody tr th:only-of-type {\n",
       "        vertical-align: middle;\n",
       "    }\n",
       "\n",
       "    .dataframe tbody tr th {\n",
       "        vertical-align: top;\n",
       "    }\n",
       "\n",
       "    .dataframe thead th {\n",
       "        text-align: right;\n",
       "    }\n",
       "</style>\n",
       "<table border=\"1\" class=\"dataframe\">\n",
       "  <thead>\n",
       "    <tr style=\"text-align: right;\">\n",
       "      <th></th>\n",
       "      <th>Accuracy</th>\n",
       "      <th>AUC</th>\n",
       "      <th>Recall</th>\n",
       "      <th>Prec.</th>\n",
       "      <th>F1</th>\n",
       "      <th>Kappa</th>\n",
       "    </tr>\n",
       "  </thead>\n",
       "  <tbody>\n",
       "    <tr>\n",
       "      <th>0</th>\n",
       "      <td>0.6341</td>\n",
       "      <td>0.5924</td>\n",
       "      <td>0.4545</td>\n",
       "      <td>0.3571</td>\n",
       "      <td>0.4000</td>\n",
       "      <td>0.1423</td>\n",
       "    </tr>\n",
       "    <tr>\n",
       "      <th>1</th>\n",
       "      <td>0.7317</td>\n",
       "      <td>0.7931</td>\n",
       "      <td>0.1667</td>\n",
       "      <td>0.6667</td>\n",
       "      <td>0.2667</td>\n",
       "      <td>0.1694</td>\n",
       "    </tr>\n",
       "    <tr>\n",
       "      <th>2</th>\n",
       "      <td>0.6098</td>\n",
       "      <td>0.6221</td>\n",
       "      <td>0.1667</td>\n",
       "      <td>0.2500</td>\n",
       "      <td>0.2000</td>\n",
       "      <td>-0.0446</td>\n",
       "    </tr>\n",
       "    <tr>\n",
       "      <th>3</th>\n",
       "      <td>0.6829</td>\n",
       "      <td>0.6825</td>\n",
       "      <td>0.0000</td>\n",
       "      <td>0.0000</td>\n",
       "      <td>0.0000</td>\n",
       "      <td>-0.0472</td>\n",
       "    </tr>\n",
       "    <tr>\n",
       "      <th>4</th>\n",
       "      <td>0.5854</td>\n",
       "      <td>0.6365</td>\n",
       "      <td>0.5000</td>\n",
       "      <td>0.3529</td>\n",
       "      <td>0.4138</td>\n",
       "      <td>0.1076</td>\n",
       "    </tr>\n",
       "    <tr>\n",
       "      <th>5</th>\n",
       "      <td>0.6585</td>\n",
       "      <td>0.6178</td>\n",
       "      <td>0.0833</td>\n",
       "      <td>0.2500</td>\n",
       "      <td>0.1250</td>\n",
       "      <td>-0.0250</td>\n",
       "    </tr>\n",
       "    <tr>\n",
       "      <th>6</th>\n",
       "      <td>0.5854</td>\n",
       "      <td>0.4511</td>\n",
       "      <td>0.0833</td>\n",
       "      <td>0.1429</td>\n",
       "      <td>0.1053</td>\n",
       "      <td>-0.1408</td>\n",
       "    </tr>\n",
       "    <tr>\n",
       "      <th>7</th>\n",
       "      <td>0.6829</td>\n",
       "      <td>0.7184</td>\n",
       "      <td>0.0000</td>\n",
       "      <td>0.0000</td>\n",
       "      <td>0.0000</td>\n",
       "      <td>-0.0472</td>\n",
       "    </tr>\n",
       "    <tr>\n",
       "      <th>8</th>\n",
       "      <td>0.6000</td>\n",
       "      <td>0.6395</td>\n",
       "      <td>0.0909</td>\n",
       "      <td>0.1429</td>\n",
       "      <td>0.1111</td>\n",
       "      <td>-0.1307</td>\n",
       "    </tr>\n",
       "    <tr>\n",
       "      <th>9</th>\n",
       "      <td>0.7250</td>\n",
       "      <td>0.7508</td>\n",
       "      <td>0.1818</td>\n",
       "      <td>0.5000</td>\n",
       "      <td>0.2667</td>\n",
       "      <td>0.1406</td>\n",
       "    </tr>\n",
       "    <tr>\n",
       "      <th>Mean</th>\n",
       "      <td>0.6496</td>\n",
       "      <td>0.6504</td>\n",
       "      <td>0.1727</td>\n",
       "      <td>0.2662</td>\n",
       "      <td>0.1889</td>\n",
       "      <td>0.0124</td>\n",
       "    </tr>\n",
       "    <tr>\n",
       "      <th>SD</th>\n",
       "      <td>0.0522</td>\n",
       "      <td>0.0902</td>\n",
       "      <td>0.1640</td>\n",
       "      <td>0.2009</td>\n",
       "      <td>0.1399</td>\n",
       "      <td>0.1108</td>\n",
       "    </tr>\n",
       "  </tbody>\n",
       "</table>\n",
       "</div>"
      ],
      "text/plain": [
       "      Accuracy     AUC  Recall   Prec.      F1   Kappa\n",
       "0       0.6341  0.5924  0.4545  0.3571  0.4000  0.1423\n",
       "1       0.7317  0.7931  0.1667  0.6667  0.2667  0.1694\n",
       "2       0.6098  0.6221  0.1667  0.2500  0.2000 -0.0446\n",
       "3       0.6829  0.6825  0.0000  0.0000  0.0000 -0.0472\n",
       "4       0.5854  0.6365  0.5000  0.3529  0.4138  0.1076\n",
       "5       0.6585  0.6178  0.0833  0.2500  0.1250 -0.0250\n",
       "6       0.5854  0.4511  0.0833  0.1429  0.1053 -0.1408\n",
       "7       0.6829  0.7184  0.0000  0.0000  0.0000 -0.0472\n",
       "8       0.6000  0.6395  0.0909  0.1429  0.1111 -0.1307\n",
       "9       0.7250  0.7508  0.1818  0.5000  0.2667  0.1406\n",
       "Mean    0.6496  0.6504  0.1727  0.2662  0.1889  0.0124\n",
       "SD      0.0522  0.0902  0.1640  0.2009  0.1399  0.1108"
      ]
     },
     "metadata": {},
     "output_type": "display_data"
    }
   ],
   "source": [
    "tuned_dt = tune_model('dt',optimize='F1')"
   ]
  },
  {
   "cell_type": "markdown",
   "metadata": {},
   "source": [
    "ADA model is overfit. Gave more training data could be a solution or regularize more our model. </br>"
   ]
  },
  {
   "cell_type": "code",
   "execution_count": 16,
   "metadata": {
    "colab": {
     "base_uri": "https://localhost:8080/",
     "height": 376,
     "referenced_widgets": [
      "d4f1c1167fe44f6ca83a0b60c66752ab",
      "09c23349edac4fb2ac49c63281b857a8",
      "d139a533c4594f73b1e529c8e6b3cb3f"
     ]
    },
    "colab_type": "code",
    "id": "r92yyHLgw5ru",
    "outputId": "ee125cf6-aa90-4759-d24e-bc6d1f968271"
   },
   "outputs": [
    {
     "data": {
      "image/png": "[encoded data removed]",
      "text/plain": [
       "<Figure size 576x396 with 1 Axes>"
      ]
     },
     "metadata": {},
     "output_type": "display_data"
    }
   ],
   "source": [
    "plot_model(tuned_ada,'learning')"
   ]
  },
  {
   "cell_type": "markdown",
   "metadata": {},
   "source": [
    "QDA model is underfit so badly. We can see it by the two curves which converge at low score </br>\n",
    "Choice a more complexe model could be a solution"
   ]
  },
  {
   "cell_type": "code",
   "execution_count": 17,
   "metadata": {},
   "outputs": [
    {
     "data": {
      "image/png": "[encoded data removed]",
      "text/plain": [
       "<Figure size 576x396 with 1 Axes>"
      ]
     },
     "metadata": {},
     "output_type": "display_data"
    }
   ],
   "source": [
    "plot_model(tuned_qda,'learning')"
   ]
  },
  {
   "cell_type": "code",
   "execution_count": 18,
   "metadata": {
    "colab": {
     "base_uri": "https://localhost:8080/",
     "height": 376,
     "referenced_widgets": [
      "16052274a7c0456f8c5f427b65c4fac8"
     ]
    },
    "colab_type": "code",
    "id": "kVRUqR9Sw9fS",
    "outputId": "2f042fe4-3871-4d64-83c4-5a11a287ee76"
   },
   "outputs": [
    {
     "data": {
      "image/png": "[encoded data removed]",
      "text/plain": [
       "<Figure size 576x396 with 1 Axes>"
      ]
     },
     "metadata": {},
     "output_type": "display_data"
    }
   ],
   "source": [
    "#High recall is very important in this kind of medical problems\n",
    "plot_model(tuned_ada,'pr')"
   ]
  },
  {
   "cell_type": "code",
   "execution_count": 19,
   "metadata": {
    "colab": {
     "base_uri": "https://localhost:8080/",
     "height": 374,
     "referenced_widgets": [
      "99fc1229b3c14c17b3b78926f0fdb7ef"
     ]
    },
    "colab_type": "code",
    "id": "mNKxq28zxBRk",
    "outputId": "bde1843f-9452-4345-9d23-d5d1f9929551"
   },
   "outputs": [
    {
     "data": {
      "image/png": "[encoded data removed]",
      "text/plain": [
       "<Figure size 576x396 with 1 Axes>"
      ]
     },
     "metadata": {},
     "output_type": "display_data"
    }
   ],
   "source": [
    "plot_model(tuned_ada,'confusion_matrix')"
   ]
  },
  {
   "cell_type": "code",
   "execution_count": 20,
   "metadata": {
    "colab": {
     "base_uri": "https://localhost:8080/",
     "height": 401,
     "referenced_widgets": [
      "6138c45e4f8049ed92c728ecefa07b78"
     ]
    },
    "colab_type": "code",
    "id": "BWXdJC0zxEWD",
    "outputId": "35a96a48-d87f-40f6-8d9f-36efa54ce904"
   },
   "outputs": [
    {
     "data": {
      "image/png": "[encoded data removed]",
      "text/plain": [
       "<Figure size 576x396 with 1 Axes>"
      ]
     },
     "metadata": {},
     "output_type": "display_data"
    }
   ],
   "source": [
    "plot_model(tuned_ada,'error')"
   ]
  },
  {
   "cell_type": "code",
   "execution_count": 21,
   "metadata": {
    "colab": {
     "base_uri": "https://localhost:8080/",
     "height": 401,
     "referenced_widgets": [
      "2afbb43e76bd4005a7a4e1e556b15fa5"
     ]
    },
    "colab_type": "code",
    "id": "Hq6SyKXdxSMf",
    "outputId": "65c65fee-1f69-425a-90eb-57cbb999c4fd"
   },
   "outputs": [
    {
     "data": {
      "image/png": "[encoded data removed]",
      "text/plain": [
       "<Figure size 576x396 with 2 Axes>"
      ]
     },
     "metadata": {},
     "output_type": "display_data"
    }
   ],
   "source": [
    "#We have poor result for the patient with a liver disease\n",
    "plot_model(tuned_ada,'class_report')"
   ]
  },
  {
   "cell_type": "markdown",
   "metadata": {},
   "source": [
    "Age, Alamine_Aminotransferase and Total_Biliburbin are the top 3 features which leads our model to separate the class"
   ]
  },
  {
   "cell_type": "code",
   "execution_count": 22,
   "metadata": {
    "colab": {
     "base_uri": "https://localhost:8080/",
     "height": 349,
     "referenced_widgets": [
      "ae8b15c958d74931aeb698b69cb02a8e",
      "b48f0a6d4660490fa50d7c866eb3304e",
      "13bf4fc9408647b6ac6c4486c521ac34"
     ]
    },
    "colab_type": "code",
    "id": "auiDc9-rxdRu",
    "outputId": "6d30225d-98a3-452c-80c6-0b60c225254c"
   },
   "outputs": [
    {
     "data": {
      "image/png": "[encoded data removed]",
      "text/plain": [
       "<Figure size 576x360 with 1 Axes>"
      ]
     },
     "metadata": {},
     "output_type": "display_data"
    }
   ],
   "source": [
    "plot_model(tuned_ada,'feature')"
   ]
  },
  {
   "cell_type": "code",
   "execution_count": 23,
   "metadata": {},
   "outputs": [],
   "source": [
    "import numpy as np\n",
    "dataset['log_Alamine_Aminotransferase'] = np.log(dataset['Alamine_Aminotransferase'])\n",
    "dataset['log_Total_Bilirubin'] = np.log(dataset['Total_Bilirubin'])"
   ]
  },
  {
   "cell_type": "code",
   "execution_count": 26,
   "metadata": {},
   "outputs": [
    {
     "data": {
      "text/plain": [
       "<seaborn.axisgrid.PairGrid at 0x12f390b38>"
      ]
     },
     "execution_count": 26,
     "metadata": {},
     "output_type": "execute_result"
    },
    {
     "data": {
      "image/png": "[encoded data removed]",
      "text/plain": [
       "<Figure size 589.375x540 with 12 Axes>"
      ]
     },
     "metadata": {},
     "output_type": "display_data"
    }
   ],
   "source": [
    "#None of this features separate exactly the two classes, but we can see some trends\n",
    "import seaborn as sns\n",
    "sns.pairplot(dataset, hue=\"Dataset\",\n",
    "             vars=[\"Age\", \"log_Alamine_Aminotransferase\",\"log_Total_Bilirubin\"],\n",
    "             markers=[\"o\", \"s\"])"
   ]
  },
  {
   "cell_type": "code",
   "execution_count": 27,
   "metadata": {},
   "outputs": [
    {
     "data": {
      "text/plain": [
       "<matplotlib.axes._subplots.AxesSubplot at 0x12a047518>"
      ]
     },
     "execution_count": 27,
     "metadata": {},
     "output_type": "execute_result"
    },
    {
     "data": {
      "image/png": "[encoded data removed]",
      "text/plain": [
       "<Figure size 576x396 with 1 Axes>"
      ]
     },
     "metadata": {},
     "output_type": "display_data"
    }
   ],
   "source": [
    "sns.distplot(dataset['Age'],bins=20)"
   ]
  },
  {
   "cell_type": "code",
   "execution_count": 28,
   "metadata": {},
   "outputs": [
    {
     "data": {
      "text/plain": [
       "<matplotlib.axes._subplots.AxesSubplot at 0x12a19bef0>"
      ]
     },
     "execution_count": 28,
     "metadata": {},
     "output_type": "execute_result"
    },
    {
     "data": {
      "image/png": "[encoded data removed]",
      "text/plain": [
       "<Figure size 576x396 with 1 Axes>"
      ]
     },
     "metadata": {},
     "output_type": "display_data"
    }
   ],
   "source": [
    "sns.boxplot(dataset.Dataset,dataset.Age)"
   ]
  },
  {
   "cell_type": "code",
   "execution_count": 30,
   "metadata": {},
   "outputs": [
    {
     "data": {
      "text/plain": [
       "<seaborn.axisgrid.JointGrid at 0x129cbbb70>"
      ]
     },
     "execution_count": 30,
     "metadata": {},
     "output_type": "execute_result"
    },
    {
     "data": {
      "image/png": "[encoded data removed]",
      "text/plain": [
       "<Figure size 432x432 with 3 Axes>"
      ]
     },
     "metadata": {},
     "output_type": "display_data"
    }
   ],
   "source": [
    "sns.jointplot(dataset['Age'],dataset['Dataset'],kind='kde')"
   ]
  },
  {
   "cell_type": "markdown",
   "metadata": {},
   "source": [
    "Log transformation needeed --> Right skewed distributions"
   ]
  },
  {
   "cell_type": "code",
   "execution_count": 31,
   "metadata": {},
   "outputs": [
    {
     "data": {
      "text/plain": [
       "<matplotlib.axes._subplots.AxesSubplot at 0x12fd9a4a8>"
      ]
     },
     "execution_count": 31,
     "metadata": {},
     "output_type": "execute_result"
    },
    {
     "data": {
      "image/png": "[encoded data removed]",
      "text/plain": [
       "<Figure size 576x360 with 2 Axes>"
      ]
     },
     "metadata": {},
     "output_type": "display_data"
    }
   ],
   "source": [
    "import matplotlib.pyplot as plt\n",
    "fig = plt.figure(figsize=(8,5))\n",
    "plt.subplot(1,2,1)\n",
    "sns.distplot(dataset['log_Alamine_Aminotransferase'])\n",
    "plt.subplot(1,2,2)\n",
    "sns.distplot(dataset['log_Total_Bilirubin'])"
   ]
  },
  {
   "cell_type": "markdown",
   "metadata": {},
   "source": [
    "Anomalies data point (delete it ? not good solution --> small dataset but transform it) </br>"
   ]
  },
  {
   "cell_type": "code",
   "execution_count": 32,
   "metadata": {},
   "outputs": [
    {
     "data": {
      "text/plain": [
       "<matplotlib.axes._subplots.AxesSubplot at 0x12feda588>"
      ]
     },
     "execution_count": 32,
     "metadata": {},
     "output_type": "execute_result"
    },
    {
     "data": {
      "image/png": "[encoded data removed]",
      "text/plain": [
       "<Figure size 720x360 with 2 Axes>"
      ]
     },
     "metadata": {},
     "output_type": "display_data"
    }
   ],
   "source": [
    "fig = plt.figure(figsize=(10,5))\n",
    "plt.subplot(1,2,1)\n",
    "sns.boxplot(dataset.Dataset,dataset.log_Alamine_Aminotransferase)\n",
    "plt.subplot(1,2,2)\n",
    "sns.boxplot(dataset.Dataset,dataset.log_Total_Bilirubin)"
   ]
  },
  {
   "cell_type": "markdown",
   "metadata": {},
   "source": [
    "Low the Alamine_Aminotransferase is more the a patient could have a liver disease </br>\n",
    "The same for the log_Total_Bilirubin."
   ]
  },
  {
   "cell_type": "code",
   "execution_count": 33,
   "metadata": {},
   "outputs": [
    {
     "data": {
      "text/plain": [
       "<matplotlib.axes._subplots.AxesSubplot at 0x1300cb4a8>"
      ]
     },
     "execution_count": 33,
     "metadata": {},
     "output_type": "execute_result"
    },
    {
     "data": {
      "image/png": "[encoded data removed]",
      "text/plain": [
       "<Figure size 720x360 with 2 Axes>"
      ]
     },
     "metadata": {},
     "output_type": "display_data"
    }
   ],
   "source": [
    "fig = plt.figure(figsize=(10,5))\n",
    "df_alamine = dataset.groupby('log_Alamine_Aminotransferase')['Dataset'].mean().reset_index()\n",
    "plt.subplot(1,2,1)\n",
    "sns.scatterplot(x=df_alamine['log_Alamine_Aminotransferase'],y=df_alamine['Dataset'])\n",
    "df_total = dataset.groupby('log_Total_Bilirubin')['Dataset'].mean().reset_index()\n",
    "plt.subplot(1,2,2)\n",
    "sns.scatterplot(x=df_total['log_Total_Bilirubin'],y=df_total['Dataset'])"
   ]
  },
  {
   "cell_type": "markdown",
   "metadata": {},
   "source": [
    "###### ALERT This Qcut is just to have an idea\n",
    "Low the Alamine_Aminotransferase is more the a patient could have a liver disease </br>\n",
    "The same for the log_Total_Bilirubin."
   ]
  },
  {
   "cell_type": "code",
   "execution_count": 34,
   "metadata": {},
   "outputs": [
    {
     "data": {
      "text/plain": [
       "<matplotlib.axes._subplots.AxesSubplot at 0x12ef704e0>"
      ]
     },
     "execution_count": 34,
     "metadata": {},
     "output_type": "execute_result"
    },
    {
     "data": {
      "image/png": "[encoded data removed]",
      "text/plain": [
       "<Figure size 720x360 with 2 Axes>"
      ]
     },
     "metadata": {},
     "output_type": "display_data"
    }
   ],
   "source": [
    "fig = plt.figure(figsize=(10,5))\n",
    "dataset['alamine_cut'] = pd.qcut(dataset['log_Alamine_Aminotransferase'],q=4,labels=[\"A\",\"B\",\"C\",\"D\"])\n",
    "df_alamine = dataset.groupby('alamine_cut')['Dataset'].mean().reset_index()\n",
    "plt.subplot(1,2,1)\n",
    "sns.barplot(x=df_alamine['alamine_cut'],y=df_alamine['Dataset'])\n",
    "dataset['Total_Bilirubin_cut'] = pd.qcut(dataset['log_Total_Bilirubin'],q=4,labels=[\"A\",\"B\",\"C\",\"D\"])\n",
    "df_total = dataset.groupby('Total_Bilirubin_cut')['Dataset'].mean().reset_index()\n",
    "plt.subplot(1,2,2)\n",
    "sns.barplot(x=df_total['Total_Bilirubin_cut'],y=df_total['Dataset'])"
   ]
  },
  {
   "cell_type": "code",
   "execution_count": 35,
   "metadata": {},
   "outputs": [],
   "source": [
    "#interpret_model()\n",
    "#(Type Error): This function only supports tree based models for binary classification."
   ]
  },
  {
   "cell_type": "code",
   "execution_count": 36,
   "metadata": {},
   "outputs": [
    {
     "data": {
      "text/html": [
       "        <script type=\"text/javascript\">\n",
       "        window.PlotlyConfig = {MathJaxConfig: 'local'};\n",
       "        if (window.MathJax) {MathJax.Hub.Config({SVG: {font: \"STIX-Web\"}});}\n",
       "        if (typeof require !== 'undefined') {\n",
       "        require.undef(\"plotly\");\n",
       "        requirejs.config({\n",
       "            paths: {\n",
       "                'plotly': ['https://cdn.plot.ly/plotly-latest.min']\n",
       "            }\n",
       "        });\n",
       "        require(['plotly'], function(Plotly) {\n",
       "            window._Plotly = Plotly;\n",
       "        });\n",
       "        }\n",
       "        </script>\n",
       "        "
      ]
     },
     "metadata": {},
     "output_type": "display_data"
    },
    {
     "data": {
      "application/vnd.plotly.v1+json": {
       "config": {
        "plotlyServerURL": "https://plot.ly"
       },
       "data": [
        {
         "hovertemplate": "Probability Threshold=%{x}<br>Cost Function=%{y}<extra></extra>",
         "legendgroup": "",
         "line": {
          "color": "#636efa",
          "dash": "solid",
          "shape": "linear"
         },
         "mode": "lines",
         "name": "",
         "orientation": "v",
         "showlegend": false,
         "type": "scatter",
         "x": [
          0,
          0.01,
          0.02,
          0.03,
          0.04,
          0.05,
          0.06,
          0.07,
          0.08,
          0.09,
          0.1,
          0.11,
          0.12,
          0.13,
          0.14,
          0.15,
          0.16,
          0.17,
          0.18,
          0.19,
          0.2,
          0.21,
          0.22,
          0.23,
          0.24,
          0.25,
          0.26,
          0.27,
          0.28,
          0.29,
          0.3,
          0.31,
          0.32,
          0.33,
          0.34,
          0.35000000000000003,
          0.36,
          0.37,
          0.38,
          0.39,
          0.4,
          0.41000000000000003,
          0.42,
          0.43,
          0.44,
          0.45,
          0.46,
          0.47000000000000003,
          0.48,
          0.49,
          0.5,
          0.51,
          0.52,
          0.53,
          0.54,
          0.55,
          0.56,
          0.5700000000000001,
          0.58,
          0.59,
          0.6,
          0.61,
          0.62,
          0.63,
          0.64,
          0.65,
          0.66,
          0.67,
          0.68,
          0.6900000000000001,
          0.7000000000000001,
          0.71,
          0.72,
          0.73,
          0.74,
          0.75,
          0.76,
          0.77,
          0.78,
          0.79,
          0.8,
          0.81,
          0.8200000000000001,
          0.8300000000000001,
          0.84,
          0.85,
          0.86,
          0.87,
          0.88,
          0.89,
          0.9,
          0.91,
          0.92,
          0.93,
          0.9400000000000001,
          0.9500000000000001,
          0.96,
          0.97,
          0.98,
          0.99
         ],
         "xaxis": "x",
         "y": [
          0,
          0,
          0,
          0,
          0,
          0,
          0,
          0,
          0,
          0,
          0,
          0,
          0,
          0,
          0,
          0,
          0,
          0,
          0,
          0,
          0,
          0,
          0,
          10,
          10,
          10,
          20,
          20,
          30,
          30,
          50,
          50,
          -30,
          -10,
          0,
          0,
          40,
          40,
          70,
          100,
          190,
          190,
          200,
          220,
          220,
          150,
          170,
          250,
          320,
          150,
          -1910,
          -3610,
          -3610,
          -3600,
          -3600,
          -3660,
          -3660,
          -3650,
          -3650,
          -3650,
          -3650,
          -3650,
          -3650,
          -3650,
          -3650,
          -3650,
          -3750,
          -3750,
          -3750,
          -3750,
          -3750,
          -3750,
          -3750,
          -3750,
          -3750,
          -3750,
          -3750,
          -3750,
          -3750,
          -3750,
          -3750,
          -3750,
          -3750,
          -3750,
          -3750,
          -3750,
          -3750,
          -3750,
          -3750,
          -3750,
          -3750,
          -3750,
          -3750,
          -3750,
          -3750,
          -3750,
          -3750,
          -3750,
          -3750,
          -3750
         ],
         "yaxis": "y"
        }
       ],
       "layout": {
        "autosize": true,
        "legend": {
         "tracegroupgap": 0
        },
        "margin": {
         "t": 60
        },
        "plot_bgcolor": "rgb(245,245,245)",
        "shapes": [
         {
          "line": {
           "color": "red",
           "width": 2
          },
          "type": "line",
          "x0": 0.48,
          "x1": 0.48,
          "y0": -3750,
          "y1": 320
         }
        ],
        "template": {
         "data": {
          "bar": [
           {
            "error_x": {
             "color": "#2a3f5f"
            },
            "error_y": {
             "color": "#2a3f5f"
            },
            "marker": {
             "line": {
              "color": "#E5ECF6",
              "width": 0.5
             }
            },
            "type": "bar"
           }
          ],
          "barpolar": [
           {
            "marker": {
             "line": {
              "color": "#E5ECF6",
              "width": 0.5
             }
            },
            "type": "barpolar"
           }
          ],
          "carpet": [
           {
            "aaxis": {
             "endlinecolor": "#2a3f5f",
             "gridcolor": "white",
             "linecolor": "white",
             "minorgridcolor": "white",
             "startlinecolor": "#2a3f5f"
            },
            "baxis": {
             "endlinecolor": "#2a3f5f",
             "gridcolor": "white",
             "linecolor": "white",
             "minorgridcolor": "white",
             "startlinecolor": "#2a3f5f"
            },
            "type": "carpet"
           }
          ],
          "choropleth": [
           {
            "colorbar": {
             "outlinewidth": 0,
             "ticks": ""
            },
            "type": "choropleth"
           }
          ],
          "contour": [
           {
            "colorbar": {
             "outlinewidth": 0,
             "ticks": ""
            },
            "colorscale": [
             [
              0,
              "#0d0887"
             ],
             [
              0.1111111111111111,
              "#46039f"
             ],
             [
              0.2222222222222222,
              "#7201a8"
             ],
             [
              0.3333333333333333,
              "#9c179e"
             ],
             [
              0.4444444444444444,
              "#bd3786"
             ],
             [
              0.5555555555555556,
              "#d8576b"
             ],
             [
              0.6666666666666666,
              "#ed7953"
             ],
             [
              0.7777777777777778,
              "#fb9f3a"
             ],
             [
              0.8888888888888888,
              "#fdca26"
             ],
             [
              1,
              "#f0f921"
             ]
            ],
            "type": "contour"
           }
          ],
          "contourcarpet": [
           {
            "colorbar": {
             "outlinewidth": 0,
             "ticks": ""
            },
            "type": "contourcarpet"
           }
          ],
          "heatmap": [
           {
            "colorbar": {
             "outlinewidth": 0,
             "ticks": ""
            },
            "colorscale": [
             [
              0,
              "#0d0887"
             ],
             [
              0.1111111111111111,
              "#46039f"
             ],
             [
              0.2222222222222222,
              "#7201a8"
             ],
             [
              0.3333333333333333,
              "#9c179e"
             ],
             [
              0.4444444444444444,
              "#bd3786"
             ],
             [
              0.5555555555555556,
              "#d8576b"
             ],
             [
              0.6666666666666666,
              "#ed7953"
             ],
             [
              0.7777777777777778,
              "#fb9f3a"
             ],
             [
              0.8888888888888888,
              "#fdca26"
             ],
             [
              1,
              "#f0f921"
             ]
            ],
            "type": "heatmap"
           }
          ],
          "heatmapgl": [
           {
            "colorbar": {
             "outlinewidth": 0,
             "ticks": ""
            },
            "colorscale": [
             [
              0,
              "#0d0887"
             ],
             [
              0.1111111111111111,
              "#46039f"
             ],
             [
              0.2222222222222222,
              "#7201a8"
             ],
             [
              0.3333333333333333,
              "#9c179e"
             ],
             [
              0.4444444444444444,
              "#bd3786"
             ],
             [
              0.5555555555555556,
              "#d8576b"
             ],
             [
              0.6666666666666666,
              "#ed7953"
             ],
             [
              0.7777777777777778,
              "#fb9f3a"
             ],
             [
              0.8888888888888888,
              "#fdca26"
             ],
             [
              1,
              "#f0f921"
             ]
            ],
            "type": "heatmapgl"
           }
          ],
          "histogram": [
           {
            "marker": {
             "colorbar": {
              "outlinewidth": 0,
              "ticks": ""
             }
            },
            "type": "histogram"
           }
          ],
          "histogram2d": [
           {
            "colorbar": {
             "outlinewidth": 0,
             "ticks": ""
            },
            "colorscale": [
             [
              0,
              "#0d0887"
             ],
             [
              0.1111111111111111,
              "#46039f"
             ],
             [
              0.2222222222222222,
              "#7201a8"
             ],
             [
              0.3333333333333333,
              "#9c179e"
             ],
             [
              0.4444444444444444,
              "#bd3786"
             ],
             [
              0.5555555555555556,
              "#d8576b"
             ],
             [
              0.6666666666666666,
              "#ed7953"
             ],
             [
              0.7777777777777778,
              "#fb9f3a"
             ],
             [
              0.8888888888888888,
              "#fdca26"
             ],
             [
              1,
              "#f0f921"
             ]
            ],
            "type": "histogram2d"
           }
          ],
          "histogram2dcontour": [
           {
            "colorbar": {
             "outlinewidth": 0,
             "ticks": ""
            },
            "colorscale": [
             [
              0,
              "#0d0887"
             ],
             [
              0.1111111111111111,
              "#46039f"
             ],
             [
              0.2222222222222222,
              "#7201a8"
             ],
             [
              0.3333333333333333,
              "#9c179e"
             ],
             [
              0.4444444444444444,
              "#bd3786"
             ],
             [
              0.5555555555555556,
              "#d8576b"
             ],
             [
              0.6666666666666666,
              "#ed7953"
             ],
             [
              0.7777777777777778,
              "#fb9f3a"
             ],
             [
              0.8888888888888888,
              "#fdca26"
             ],
             [
              1,
              "#f0f921"
             ]
            ],
            "type": "histogram2dcontour"
           }
          ],
          "mesh3d": [
           {
            "colorbar": {
             "outlinewidth": 0,
             "ticks": ""
            },
            "type": "mesh3d"
           }
          ],
          "parcoords": [
           {
            "line": {
             "colorbar": {
              "outlinewidth": 0,
              "ticks": ""
             }
            },
            "type": "parcoords"
           }
          ],
          "pie": [
           {
            "automargin": true,
            "type": "pie"
           }
          ],
          "scatter": [
           {
            "marker": {
             "colorbar": {
              "outlinewidth": 0,
              "ticks": ""
             }
            },
            "type": "scatter"
           }
          ],
          "scatter3d": [
           {
            "line": {
             "colorbar": {
              "outlinewidth": 0,
              "ticks": ""
             }
            },
            "marker": {
             "colorbar": {
              "outlinewidth": 0,
              "ticks": ""
             }
            },
            "type": "scatter3d"
           }
          ],
          "scattercarpet": [
           {
            "marker": {
             "colorbar": {
              "outlinewidth": 0,
              "ticks": ""
             }
            },
            "type": "scattercarpet"
           }
          ],
          "scattergeo": [
           {
            "marker": {
             "colorbar": {
              "outlinewidth": 0,
              "ticks": ""
             }
            },
            "type": "scattergeo"
           }
          ],
          "scattergl": [
           {
            "marker": {
             "colorbar": {
              "outlinewidth": 0,
              "ticks": ""
             }
            },
            "type": "scattergl"
           }
          ],
          "scattermapbox": [
           {
            "marker": {
             "colorbar": {
              "outlinewidth": 0,
              "ticks": ""
             }
            },
            "type": "scattermapbox"
           }
          ],
          "scatterpolar": [
           {
            "marker": {
             "colorbar": {
              "outlinewidth": 0,
              "ticks": ""
             }
            },
            "type": "scatterpolar"
           }
          ],
          "scatterpolargl": [
           {
            "marker": {
             "colorbar": {
              "outlinewidth": 0,
              "ticks": ""
             }
            },
            "type": "scatterpolargl"
           }
          ],
          "scatterternary": [
           {
            "marker": {
             "colorbar": {
              "outlinewidth": 0,
              "ticks": ""
             }
            },
            "type": "scatterternary"
           }
          ],
          "surface": [
           {
            "colorbar": {
             "outlinewidth": 0,
             "ticks": ""
            },
            "colorscale": [
             [
              0,
              "#0d0887"
             ],
             [
              0.1111111111111111,
              "#46039f"
             ],
             [
              0.2222222222222222,
              "#7201a8"
             ],
             [
              0.3333333333333333,
              "#9c179e"
             ],
             [
              0.4444444444444444,
              "#bd3786"
             ],
             [
              0.5555555555555556,
              "#d8576b"
             ],
             [
              0.6666666666666666,
              "#ed7953"
             ],
             [
              0.7777777777777778,
              "#fb9f3a"
             ],
             [
              0.8888888888888888,
              "#fdca26"
             ],
             [
              1,
              "#f0f921"
             ]
            ],
            "type": "surface"
           }
          ],
          "table": [
           {
            "cells": {
             "fill": {
              "color": "#EBF0F8"
             },
             "line": {
              "color": "white"
             }
            },
            "header": {
             "fill": {
              "color": "#C8D4E3"
             },
             "line": {
              "color": "white"
             }
            },
            "type": "table"
           }
          ]
         },
         "layout": {
          "annotationdefaults": {
           "arrowcolor": "#2a3f5f",
           "arrowhead": 0,
           "arrowwidth": 1
          },
          "coloraxis": {
           "colorbar": {
            "outlinewidth": 0,
            "ticks": ""
           }
          },
          "colorscale": {
           "diverging": [
            [
             0,
             "#8e0152"
            ],
            [
             0.1,
             "#c51b7d"
            ],
            [
             0.2,
             "#de77ae"
            ],
            [
             0.3,
             "#f1b6da"
            ],
            [
             0.4,
             "#fde0ef"
            ],
            [
             0.5,
             "#f7f7f7"
            ],
            [
             0.6,
             "#e6f5d0"
            ],
            [
             0.7,
             "#b8e186"
            ],
            [
             0.8,
             "#7fbc41"
            ],
            [
             0.9,
             "#4d9221"
            ],
            [
             1,
             "#276419"
            ]
           ],
           "sequential": [
            [
             0,
             "#0d0887"
            ],
            [
             0.1111111111111111,
             "#46039f"
            ],
            [
             0.2222222222222222,
             "#7201a8"
            ],
            [
             0.3333333333333333,
             "#9c179e"
            ],
            [
             0.4444444444444444,
             "#bd3786"
            ],
            [
             0.5555555555555556,
             "#d8576b"
            ],
            [
             0.6666666666666666,
             "#ed7953"
            ],
            [
             0.7777777777777778,
             "#fb9f3a"
            ],
            [
             0.8888888888888888,
             "#fdca26"
            ],
            [
             1,
             "#f0f921"
            ]
           ],
           "sequentialminus": [
            [
             0,
             "#0d0887"
            ],
            [
             0.1111111111111111,
             "#46039f"
            ],
            [
             0.2222222222222222,
             "#7201a8"
            ],
            [
             0.3333333333333333,
             "#9c179e"
            ],
            [
             0.4444444444444444,
             "#bd3786"
            ],
            [
             0.5555555555555556,
             "#d8576b"
            ],
            [
             0.6666666666666666,
             "#ed7953"
            ],
            [
             0.7777777777777778,
             "#fb9f3a"
            ],
            [
             0.8888888888888888,
             "#fdca26"
            ],
            [
             1,
             "#f0f921"
            ]
           ]
          },
          "colorway": [
           "#636efa",
           "#EF553B",
           "#00cc96",
           "#ab63fa",
           "#FFA15A",
           "#19d3f3",
           "#FF6692",
           "#B6E880",
           "#FF97FF",
           "#FECB52"
          ],
          "font": {
           "color": "#2a3f5f"
          },
          "geo": {
           "bgcolor": "white",
           "lakecolor": "white",
           "landcolor": "#E5ECF6",
           "showlakes": true,
           "showland": true,
           "subunitcolor": "white"
          },
          "hoverlabel": {
           "align": "left"
          },
          "hovermode": "closest",
          "mapbox": {
           "style": "light"
          },
          "paper_bgcolor": "white",
          "plot_bgcolor": "#E5ECF6",
          "polar": {
           "angularaxis": {
            "gridcolor": "white",
            "linecolor": "white",
            "ticks": ""
           },
           "bgcolor": "#E5ECF6",
           "radialaxis": {
            "gridcolor": "white",
            "linecolor": "white",
            "ticks": ""
           }
          },
          "scene": {
           "xaxis": {
            "backgroundcolor": "#E5ECF6",
            "gridcolor": "white",
            "gridwidth": 2,
            "linecolor": "white",
            "showbackground": true,
            "ticks": "",
            "zerolinecolor": "white"
           },
           "yaxis": {
            "backgroundcolor": "#E5ECF6",
            "gridcolor": "white",
            "gridwidth": 2,
            "linecolor": "white",
            "showbackground": true,
            "ticks": "",
            "zerolinecolor": "white"
           },
           "zaxis": {
            "backgroundcolor": "#E5ECF6",
            "gridcolor": "white",
            "gridwidth": 2,
            "linecolor": "white",
            "showbackground": true,
            "ticks": "",
            "zerolinecolor": "white"
           }
          },
          "shapedefaults": {
           "line": {
            "color": "#2a3f5f"
           }
          },
          "ternary": {
           "aaxis": {
            "gridcolor": "white",
            "linecolor": "white",
            "ticks": ""
           },
           "baxis": {
            "gridcolor": "white",
            "linecolor": "white",
            "ticks": ""
           },
           "bgcolor": "#E5ECF6",
           "caxis": {
            "gridcolor": "white",
            "linecolor": "white",
            "ticks": ""
           }
          },
          "title": {
           "x": 0.05
          },
          "xaxis": {
           "automargin": true,
           "gridcolor": "white",
           "linecolor": "white",
           "ticks": "",
           "title": {
            "standoff": 15
           },
           "zerolinecolor": "white",
           "zerolinewidth": 2
          },
          "yaxis": {
           "automargin": true,
           "gridcolor": "white",
           "linecolor": "white",
           "ticks": "",
           "title": {
            "standoff": 15
           },
           "zerolinecolor": "white",
           "zerolinewidth": 2
          }
         }
        },
        "title": {
         "text": "AdaBoostClassifier Probability Threshold Optimization",
         "x": 0.45,
         "xanchor": "center",
         "y": 0.95,
         "yanchor": "top"
        },
        "xaxis": {
         "anchor": "y",
         "autorange": true,
         "domain": [
          0,
          1
         ],
         "range": [
          0,
          0.99
         ],
         "title": {
          "text": "Probability Threshold"
         },
         "type": "linear"
        },
        "yaxis": {
         "anchor": "x",
         "autorange": true,
         "domain": [
          0,
          1
         ],
         "range": [
          -3976.1111111111113,
          546.1111111111111
         ],
         "title": {
          "text": "Cost Function"
         },
         "type": "linear"
        }
       }
      },
      "image/png": "[encoded data removed]",
      "text/html": [
       "<div>\n",
       "        \n",
       "        \n",
       "            <div id=\"6eb49fa4-7ed6-41b2-a768-67bedca16caf\" class=\"plotly-graph-div\" style=\"height:525px; width:100%;\"></div>\n",
       "            <script type=\"text/javascript\">\n",
       "                require([\"plotly\"], function(Plotly) {\n",
       "                    window.PLOTLYENV=window.PLOTLYENV || {};\n",
       "                    \n",
       "                if (document.getElementById(\"6eb49fa4-7ed6-41b2-a768-67bedca16caf\")) {\n",
       "                    Plotly.newPlot(\n",
       "                        '6eb49fa4-7ed6-41b2-a768-67bedca16caf',\n",
       "                        [{\"hovertemplate\": \"Probability Threshold=%{x}<br>Cost Function=%{y}<extra></extra>\", \"legendgroup\": \"\", \"line\": {\"color\": \"#636efa\", \"dash\": \"solid\", \"shape\": \"linear\"}, \"mode\": \"lines\", \"name\": \"\", \"orientation\": \"v\", \"showlegend\": false, \"type\": \"scatter\", \"x\": [0.0, 0.01, 0.02, 0.03, 0.04, 0.05, 0.06, 0.07, 0.08, 0.09, 0.1, 0.11, 0.12, 0.13, 0.14, 0.15, 0.16, 0.17, 0.18, 0.19, 0.2, 0.21, 0.22, 0.23, 0.24, 0.25, 0.26, 0.27, 0.28, 0.29, 0.3, 0.31, 0.32, 0.33, 0.34, 0.35000000000000003, 0.36, 0.37, 0.38, 0.39, 0.4, 0.41000000000000003, 0.42, 0.43, 0.44, 0.45, 0.46, 0.47000000000000003, 0.48, 0.49, 0.5, 0.51, 0.52, 0.53, 0.54, 0.55, 0.56, 0.5700000000000001, 0.58, 0.59, 0.6, 0.61, 0.62, 0.63, 0.64, 0.65, 0.66, 0.67, 0.68, 0.6900000000000001, 0.7000000000000001, 0.71, 0.72, 0.73, 0.74, 0.75, 0.76, 0.77, 0.78, 0.79, 0.8, 0.81, 0.8200000000000001, 0.8300000000000001, 0.84, 0.85, 0.86, 0.87, 0.88, 0.89, 0.9, 0.91, 0.92, 0.93, 0.9400000000000001, 0.9500000000000001, 0.96, 0.97, 0.98, 0.99], \"xaxis\": \"x\", \"y\": [0, 0, 0, 0, 0, 0, 0, 0, 0, 0, 0, 0, 0, 0, 0, 0, 0, 0, 0, 0, 0, 0, 0, 10, 10, 10, 20, 20, 30, 30, 50, 50, -30, -10, 0, 0, 40, 40, 70, 100, 190, 190, 200, 220, 220, 150, 170, 250, 320, 150, -1910, -3610, -3610, -3600, -3600, -3660, -3660, -3650, -3650, -3650, -3650, -3650, -3650, -3650, -3650, -3650, -3750, -3750, -3750, -3750, -3750, -3750, -3750, -3750, -3750, -3750, -3750, -3750, -3750, -3750, -3750, -3750, -3750, -3750, -3750, -3750, -3750, -3750, -3750, -3750, -3750, -3750, -3750, -3750, -3750, -3750, -3750, -3750, -3750, -3750], \"yaxis\": \"y\"}],\n",
       "                        {\"legend\": {\"tracegroupgap\": 0}, \"margin\": {\"t\": 60}, \"plot_bgcolor\": \"rgb(245,245,245)\", \"shapes\": [{\"line\": {\"color\": \"red\", \"width\": 2}, \"type\": \"line\", \"x0\": 0.48, \"x1\": 0.48, \"y0\": -3750, \"y1\": 320}], \"template\": {\"data\": {\"bar\": [{\"error_x\": {\"color\": \"#2a3f5f\"}, \"error_y\": {\"color\": \"#2a3f5f\"}, \"marker\": {\"line\": {\"color\": \"#E5ECF6\", \"width\": 0.5}}, \"type\": \"bar\"}], \"barpolar\": [{\"marker\": {\"line\": {\"color\": \"#E5ECF6\", \"width\": 0.5}}, \"type\": \"barpolar\"}], \"carpet\": [{\"aaxis\": {\"endlinecolor\": \"#2a3f5f\", \"gridcolor\": \"white\", \"linecolor\": \"white\", \"minorgridcolor\": \"white\", \"startlinecolor\": \"#2a3f5f\"}, \"baxis\": {\"endlinecolor\": \"#2a3f5f\", \"gridcolor\": \"white\", \"linecolor\": \"white\", \"minorgridcolor\": \"white\", \"startlinecolor\": \"#2a3f5f\"}, \"type\": \"carpet\"}], \"choropleth\": [{\"colorbar\": {\"outlinewidth\": 0, \"ticks\": \"\"}, \"type\": \"choropleth\"}], \"contour\": [{\"colorbar\": {\"outlinewidth\": 0, \"ticks\": \"\"}, \"colorscale\": [[0.0, \"#0d0887\"], [0.1111111111111111, \"#46039f\"], [0.2222222222222222, \"#7201a8\"], [0.3333333333333333, \"#9c179e\"], [0.4444444444444444, \"#bd3786\"], [0.5555555555555556, \"#d8576b\"], [0.6666666666666666, \"#ed7953\"], [0.7777777777777778, \"#fb9f3a\"], [0.8888888888888888, \"#fdca26\"], [1.0, \"#f0f921\"]], \"type\": \"contour\"}], \"contourcarpet\": [{\"colorbar\": {\"outlinewidth\": 0, \"ticks\": \"\"}, \"type\": \"contourcarpet\"}], \"heatmap\": [{\"colorbar\": {\"outlinewidth\": 0, \"ticks\": \"\"}, \"colorscale\": [[0.0, \"#0d0887\"], [0.1111111111111111, \"#46039f\"], [0.2222222222222222, \"#7201a8\"], [0.3333333333333333, \"#9c179e\"], [0.4444444444444444, \"#bd3786\"], [0.5555555555555556, \"#d8576b\"], [0.6666666666666666, \"#ed7953\"], [0.7777777777777778, \"#fb9f3a\"], [0.8888888888888888, \"#fdca26\"], [1.0, \"#f0f921\"]], \"type\": \"heatmap\"}], \"heatmapgl\": [{\"colorbar\": {\"outlinewidth\": 0, \"ticks\": \"\"}, \"colorscale\": [[0.0, \"#0d0887\"], [0.1111111111111111, \"#46039f\"], [0.2222222222222222, \"#7201a8\"], [0.3333333333333333, \"#9c179e\"], [0.4444444444444444, \"#bd3786\"], [0.5555555555555556, \"#d8576b\"], [0.6666666666666666, \"#ed7953\"], [0.7777777777777778, \"#fb9f3a\"], [0.8888888888888888, \"#fdca26\"], [1.0, \"#f0f921\"]], \"type\": \"heatmapgl\"}], \"histogram\": [{\"marker\": {\"colorbar\": {\"outlinewidth\": 0, \"ticks\": \"\"}}, \"type\": \"histogram\"}], \"histogram2d\": [{\"colorbar\": {\"outlinewidth\": 0, \"ticks\": \"\"}, \"colorscale\": [[0.0, \"#0d0887\"], [0.1111111111111111, \"#46039f\"], [0.2222222222222222, \"#7201a8\"], [0.3333333333333333, \"#9c179e\"], [0.4444444444444444, \"#bd3786\"], [0.5555555555555556, \"#d8576b\"], [0.6666666666666666, \"#ed7953\"], [0.7777777777777778, \"#fb9f3a\"], [0.8888888888888888, \"#fdca26\"], [1.0, \"#f0f921\"]], \"type\": \"histogram2d\"}], \"histogram2dcontour\": [{\"colorbar\": {\"outlinewidth\": 0, \"ticks\": \"\"}, \"colorscale\": [[0.0, \"#0d0887\"], [0.1111111111111111, \"#46039f\"], [0.2222222222222222, \"#7201a8\"], [0.3333333333333333, \"#9c179e\"], [0.4444444444444444, \"#bd3786\"], [0.5555555555555556, \"#d8576b\"], [0.6666666666666666, \"#ed7953\"], [0.7777777777777778, \"#fb9f3a\"], [0.8888888888888888, \"#fdca26\"], [1.0, \"#f0f921\"]], \"type\": \"histogram2dcontour\"}], \"mesh3d\": [{\"colorbar\": {\"outlinewidth\": 0, \"ticks\": \"\"}, \"type\": \"mesh3d\"}], \"parcoords\": [{\"line\": {\"colorbar\": {\"outlinewidth\": 0, \"ticks\": \"\"}}, \"type\": \"parcoords\"}], \"pie\": [{\"automargin\": true, \"type\": \"pie\"}], \"scatter\": [{\"marker\": {\"colorbar\": {\"outlinewidth\": 0, \"ticks\": \"\"}}, \"type\": \"scatter\"}], \"scatter3d\": [{\"line\": {\"colorbar\": {\"outlinewidth\": 0, \"ticks\": \"\"}}, \"marker\": {\"colorbar\": {\"outlinewidth\": 0, \"ticks\": \"\"}}, \"type\": \"scatter3d\"}], \"scattercarpet\": [{\"marker\": {\"colorbar\": {\"outlinewidth\": 0, \"ticks\": \"\"}}, \"type\": \"scattercarpet\"}], \"scattergeo\": [{\"marker\": {\"colorbar\": {\"outlinewidth\": 0, \"ticks\": \"\"}}, \"type\": \"scattergeo\"}], \"scattergl\": [{\"marker\": {\"colorbar\": {\"outlinewidth\": 0, \"ticks\": \"\"}}, \"type\": \"scattergl\"}], \"scattermapbox\": [{\"marker\": {\"colorbar\": {\"outlinewidth\": 0, \"ticks\": \"\"}}, \"type\": \"scattermapbox\"}], \"scatterpolar\": [{\"marker\": {\"colorbar\": {\"outlinewidth\": 0, \"ticks\": \"\"}}, \"type\": \"scatterpolar\"}], \"scatterpolargl\": [{\"marker\": {\"colorbar\": {\"outlinewidth\": 0, \"ticks\": \"\"}}, \"type\": \"scatterpolargl\"}], \"scatterternary\": [{\"marker\": {\"colorbar\": {\"outlinewidth\": 0, \"ticks\": \"\"}}, \"type\": \"scatterternary\"}], \"surface\": [{\"colorbar\": {\"outlinewidth\": 0, \"ticks\": \"\"}, \"colorscale\": [[0.0, \"#0d0887\"], [0.1111111111111111, \"#46039f\"], [0.2222222222222222, \"#7201a8\"], [0.3333333333333333, \"#9c179e\"], [0.4444444444444444, \"#bd3786\"], [0.5555555555555556, \"#d8576b\"], [0.6666666666666666, \"#ed7953\"], [0.7777777777777778, \"#fb9f3a\"], [0.8888888888888888, \"#fdca26\"], [1.0, \"#f0f921\"]], \"type\": \"surface\"}], \"table\": [{\"cells\": {\"fill\": {\"color\": \"#EBF0F8\"}, \"line\": {\"color\": \"white\"}}, \"header\": {\"fill\": {\"color\": \"#C8D4E3\"}, \"line\": {\"color\": \"white\"}}, \"type\": \"table\"}]}, \"layout\": {\"annotationdefaults\": {\"arrowcolor\": \"#2a3f5f\", \"arrowhead\": 0, \"arrowwidth\": 1}, \"coloraxis\": {\"colorbar\": {\"outlinewidth\": 0, \"ticks\": \"\"}}, \"colorscale\": {\"diverging\": [[0, \"#8e0152\"], [0.1, \"#c51b7d\"], [0.2, \"#de77ae\"], [0.3, \"#f1b6da\"], [0.4, \"#fde0ef\"], [0.5, \"#f7f7f7\"], [0.6, \"#e6f5d0\"], [0.7, \"#b8e186\"], [0.8, \"#7fbc41\"], [0.9, \"#4d9221\"], [1, \"#276419\"]], \"sequential\": [[0.0, \"#0d0887\"], [0.1111111111111111, \"#46039f\"], [0.2222222222222222, \"#7201a8\"], [0.3333333333333333, \"#9c179e\"], [0.4444444444444444, \"#bd3786\"], [0.5555555555555556, \"#d8576b\"], [0.6666666666666666, \"#ed7953\"], [0.7777777777777778, \"#fb9f3a\"], [0.8888888888888888, \"#fdca26\"], [1.0, \"#f0f921\"]], \"sequentialminus\": [[0.0, \"#0d0887\"], [0.1111111111111111, \"#46039f\"], [0.2222222222222222, \"#7201a8\"], [0.3333333333333333, \"#9c179e\"], [0.4444444444444444, \"#bd3786\"], [0.5555555555555556, \"#d8576b\"], [0.6666666666666666, \"#ed7953\"], [0.7777777777777778, \"#fb9f3a\"], [0.8888888888888888, \"#fdca26\"], [1.0, \"#f0f921\"]]}, \"colorway\": [\"#636efa\", \"#EF553B\", \"#00cc96\", \"#ab63fa\", \"#FFA15A\", \"#19d3f3\", \"#FF6692\", \"#B6E880\", \"#FF97FF\", \"#FECB52\"], \"font\": {\"color\": \"#2a3f5f\"}, \"geo\": {\"bgcolor\": \"white\", \"lakecolor\": \"white\", \"landcolor\": \"#E5ECF6\", \"showlakes\": true, \"showland\": true, \"subunitcolor\": \"white\"}, \"hoverlabel\": {\"align\": \"left\"}, \"hovermode\": \"closest\", \"mapbox\": {\"style\": \"light\"}, \"paper_bgcolor\": \"white\", \"plot_bgcolor\": \"#E5ECF6\", \"polar\": {\"angularaxis\": {\"gridcolor\": \"white\", \"linecolor\": \"white\", \"ticks\": \"\"}, \"bgcolor\": \"#E5ECF6\", \"radialaxis\": {\"gridcolor\": \"white\", \"linecolor\": \"white\", \"ticks\": \"\"}}, \"scene\": {\"xaxis\": {\"backgroundcolor\": \"#E5ECF6\", \"gridcolor\": \"white\", \"gridwidth\": 2, \"linecolor\": \"white\", \"showbackground\": true, \"ticks\": \"\", \"zerolinecolor\": \"white\"}, \"yaxis\": {\"backgroundcolor\": \"#E5ECF6\", \"gridcolor\": \"white\", \"gridwidth\": 2, \"linecolor\": \"white\", \"showbackground\": true, \"ticks\": \"\", \"zerolinecolor\": \"white\"}, \"zaxis\": {\"backgroundcolor\": \"#E5ECF6\", \"gridcolor\": \"white\", \"gridwidth\": 2, \"linecolor\": \"white\", \"showbackground\": true, \"ticks\": \"\", \"zerolinecolor\": \"white\"}}, \"shapedefaults\": {\"line\": {\"color\": \"#2a3f5f\"}}, \"ternary\": {\"aaxis\": {\"gridcolor\": \"white\", \"linecolor\": \"white\", \"ticks\": \"\"}, \"baxis\": {\"gridcolor\": \"white\", \"linecolor\": \"white\", \"ticks\": \"\"}, \"bgcolor\": \"#E5ECF6\", \"caxis\": {\"gridcolor\": \"white\", \"linecolor\": \"white\", \"ticks\": \"\"}}, \"title\": {\"x\": 0.05}, \"xaxis\": {\"automargin\": true, \"gridcolor\": \"white\", \"linecolor\": \"white\", \"ticks\": \"\", \"title\": {\"standoff\": 15}, \"zerolinecolor\": \"white\", \"zerolinewidth\": 2}, \"yaxis\": {\"automargin\": true, \"gridcolor\": \"white\", \"linecolor\": \"white\", \"ticks\": \"\", \"title\": {\"standoff\": 15}, \"zerolinecolor\": \"white\", \"zerolinewidth\": 2}}}, \"title\": {\"text\": \"AdaBoostClassifier Probability Threshold Optimization\", \"x\": 0.45, \"xanchor\": \"center\", \"y\": 0.95, \"yanchor\": \"top\"}, \"xaxis\": {\"anchor\": \"y\", \"domain\": [0.0, 1.0], \"title\": {\"text\": \"Probability Threshold\"}}, \"yaxis\": {\"anchor\": \"x\", \"domain\": [0.0, 1.0], \"title\": {\"text\": \"Cost Function\"}}},\n",
       "                        {\"responsive\": true}\n",
       "                    ).then(function(){\n",
       "                            \n",
       "var gd = document.getElementById('6eb49fa4-7ed6-41b2-a768-67bedca16caf');\n",
       "var x = new MutationObserver(function (mutations, observer) {{\n",
       "        var display = window.getComputedStyle(gd).display;\n",
       "        if (!display || display === 'none') {{\n",
       "            console.log([gd, 'removed!']);\n",
       "            Plotly.purge(gd);\n",
       "            observer.disconnect();\n",
       "        }}\n",
       "}});\n",
       "\n",
       "// Listen for the removal of the full notebook cells\n",
       "var notebookContainer = gd.closest('#notebook-container');\n",
       "if (notebookContainer) {{\n",
       "    x.observe(notebookContainer, {childList: true});\n",
       "}}\n",
       "\n",
       "// Listen for the clearing of the current output cell\n",
       "var outputEl = gd.closest('.output');\n",
       "if (outputEl) {{\n",
       "    x.observe(outputEl, {childList: true});\n",
       "}}\n",
       "\n",
       "                        })\n",
       "                };\n",
       "                });\n",
       "            </script>\n",
       "        </div>"
      ]
     },
     "metadata": {},
     "output_type": "display_data"
    },
    {
     "name": "stdout",
     "output_type": "stream",
     "text": [
      "Optimized Probability Threshold: 0.48 | Optimized Cost Function: 320\n"
     ]
    }
   ],
   "source": [
    "optimize_threshold(tuned_ada, true_negative = 10, false_negative = -100)"
   ]
  },
  {
   "cell_type": "markdown",
   "metadata": {},
   "source": [
    "Classification report and dataset with the label and proba"
   ]
  },
  {
   "cell_type": "code",
   "execution_count": 37,
   "metadata": {},
   "outputs": [
    {
     "data": {
      "text/html": [
       "<div>\n",
       "<style scoped>\n",
       "    .dataframe tbody tr th:only-of-type {\n",
       "        vertical-align: middle;\n",
       "    }\n",
       "\n",
       "    .dataframe tbody tr th {\n",
       "        vertical-align: top;\n",
       "    }\n",
       "\n",
       "    .dataframe thead th {\n",
       "        text-align: right;\n",
       "    }\n",
       "</style>\n",
       "<table border=\"1\" class=\"dataframe\">\n",
       "  <thead>\n",
       "    <tr style=\"text-align: right;\">\n",
       "      <th></th>\n",
       "      <th>Model</th>\n",
       "      <th>Accuracy</th>\n",
       "      <th>AUC</th>\n",
       "      <th>Recall</th>\n",
       "      <th>Prec.</th>\n",
       "      <th>F1</th>\n",
       "      <th>Kappa</th>\n",
       "    </tr>\n",
       "  </thead>\n",
       "  <tbody>\n",
       "    <tr>\n",
       "      <th>0</th>\n",
       "      <td>Ada Boost Classifier</td>\n",
       "      <td>0.6857</td>\n",
       "      <td>0.7152</td>\n",
       "      <td>0.42</td>\n",
       "      <td>0.4468</td>\n",
       "      <td>0.433</td>\n",
       "      <td>0.2159</td>\n",
       "    </tr>\n",
       "  </tbody>\n",
       "</table>\n",
       "</div>"
      ],
      "text/plain": [
       "                  Model  Accuracy     AUC  Recall   Prec.     F1   Kappa\n",
       "0  Ada Boost Classifier    0.6857  0.7152    0.42  0.4468  0.433  0.2159"
      ]
     },
     "metadata": {},
     "output_type": "display_data"
    },
    {
     "data": {
      "text/html": [
       "<div>\n",
       "<style scoped>\n",
       "    .dataframe tbody tr th:only-of-type {\n",
       "        vertical-align: middle;\n",
       "    }\n",
       "\n",
       "    .dataframe tbody tr th {\n",
       "        vertical-align: top;\n",
       "    }\n",
       "\n",
       "    .dataframe thead th {\n",
       "        text-align: right;\n",
       "    }\n",
       "</style>\n",
       "<table border=\"1\" class=\"dataframe\">\n",
       "  <thead>\n",
       "    <tr style=\"text-align: right;\">\n",
       "      <th></th>\n",
       "      <th>Age</th>\n",
       "      <th>Total_Bilirubin</th>\n",
       "      <th>Direct_Bilirubin</th>\n",
       "      <th>Alkaline_Phosphotase</th>\n",
       "      <th>Alamine_Aminotransferase</th>\n",
       "      <th>Aspartate_Aminotransferase</th>\n",
       "      <th>Total_Protiens</th>\n",
       "      <th>Albumin</th>\n",
       "      <th>Albumin_and_Globulin_Ratio</th>\n",
       "      <th>Gender_Female</th>\n",
       "      <th>Dataset</th>\n",
       "      <th>Label</th>\n",
       "      <th>Score</th>\n",
       "    </tr>\n",
       "  </thead>\n",
       "  <tbody>\n",
       "    <tr>\n",
       "      <th>0</th>\n",
       "      <td>62.0</td>\n",
       "      <td>0.7</td>\n",
       "      <td>0.2</td>\n",
       "      <td>162.0</td>\n",
       "      <td>12.0</td>\n",
       "      <td>17.0</td>\n",
       "      <td>8.2</td>\n",
       "      <td>3.2</td>\n",
       "      <td>0.60</td>\n",
       "      <td>0.0</td>\n",
       "      <td>1</td>\n",
       "      <td>1</td>\n",
       "      <td>0.5011</td>\n",
       "    </tr>\n",
       "    <tr>\n",
       "      <th>1</th>\n",
       "      <td>45.0</td>\n",
       "      <td>0.7</td>\n",
       "      <td>0.2</td>\n",
       "      <td>180.0</td>\n",
       "      <td>18.0</td>\n",
       "      <td>58.0</td>\n",
       "      <td>6.7</td>\n",
       "      <td>3.7</td>\n",
       "      <td>1.20</td>\n",
       "      <td>0.0</td>\n",
       "      <td>1</td>\n",
       "      <td>1</td>\n",
       "      <td>0.5013</td>\n",
       "    </tr>\n",
       "    <tr>\n",
       "      <th>2</th>\n",
       "      <td>37.0</td>\n",
       "      <td>1.8</td>\n",
       "      <td>0.8</td>\n",
       "      <td>145.0</td>\n",
       "      <td>62.0</td>\n",
       "      <td>58.0</td>\n",
       "      <td>5.7</td>\n",
       "      <td>2.9</td>\n",
       "      <td>1.00</td>\n",
       "      <td>0.0</td>\n",
       "      <td>0</td>\n",
       "      <td>1</td>\n",
       "      <td>0.5063</td>\n",
       "    </tr>\n",
       "    <tr>\n",
       "      <th>3</th>\n",
       "      <td>32.0</td>\n",
       "      <td>3.7</td>\n",
       "      <td>1.6</td>\n",
       "      <td>612.0</td>\n",
       "      <td>50.0</td>\n",
       "      <td>88.0</td>\n",
       "      <td>6.2</td>\n",
       "      <td>1.9</td>\n",
       "      <td>0.40</td>\n",
       "      <td>0.0</td>\n",
       "      <td>0</td>\n",
       "      <td>0</td>\n",
       "      <td>0.3235</td>\n",
       "    </tr>\n",
       "    <tr>\n",
       "      <th>4</th>\n",
       "      <td>40.0</td>\n",
       "      <td>1.2</td>\n",
       "      <td>0.6</td>\n",
       "      <td>204.0</td>\n",
       "      <td>23.0</td>\n",
       "      <td>27.0</td>\n",
       "      <td>7.6</td>\n",
       "      <td>4.0</td>\n",
       "      <td>1.10</td>\n",
       "      <td>0.0</td>\n",
       "      <td>0</td>\n",
       "      <td>1</td>\n",
       "      <td>0.5023</td>\n",
       "    </tr>\n",
       "    <tr>\n",
       "      <th>...</th>\n",
       "      <td>...</td>\n",
       "      <td>...</td>\n",
       "      <td>...</td>\n",
       "      <td>...</td>\n",
       "      <td>...</td>\n",
       "      <td>...</td>\n",
       "      <td>...</td>\n",
       "      <td>...</td>\n",
       "      <td>...</td>\n",
       "      <td>...</td>\n",
       "      <td>...</td>\n",
       "      <td>...</td>\n",
       "      <td>...</td>\n",
       "    </tr>\n",
       "    <tr>\n",
       "      <th>170</th>\n",
       "      <td>62.0</td>\n",
       "      <td>5.0</td>\n",
       "      <td>2.1</td>\n",
       "      <td>103.0</td>\n",
       "      <td>18.0</td>\n",
       "      <td>40.0</td>\n",
       "      <td>5.0</td>\n",
       "      <td>2.1</td>\n",
       "      <td>1.72</td>\n",
       "      <td>0.0</td>\n",
       "      <td>0</td>\n",
       "      <td>1</td>\n",
       "      <td>0.5403</td>\n",
       "    </tr>\n",
       "    <tr>\n",
       "      <th>171</th>\n",
       "      <td>32.0</td>\n",
       "      <td>0.7</td>\n",
       "      <td>0.1</td>\n",
       "      <td>240.0</td>\n",
       "      <td>12.0</td>\n",
       "      <td>15.0</td>\n",
       "      <td>7.0</td>\n",
       "      <td>3.0</td>\n",
       "      <td>0.70</td>\n",
       "      <td>1.0</td>\n",
       "      <td>0</td>\n",
       "      <td>0</td>\n",
       "      <td>0.4902</td>\n",
       "    </tr>\n",
       "    <tr>\n",
       "      <th>172</th>\n",
       "      <td>57.0</td>\n",
       "      <td>4.5</td>\n",
       "      <td>2.3</td>\n",
       "      <td>315.0</td>\n",
       "      <td>120.0</td>\n",
       "      <td>105.0</td>\n",
       "      <td>7.0</td>\n",
       "      <td>4.0</td>\n",
       "      <td>1.30</td>\n",
       "      <td>0.0</td>\n",
       "      <td>0</td>\n",
       "      <td>0</td>\n",
       "      <td>0.4769</td>\n",
       "    </tr>\n",
       "    <tr>\n",
       "      <th>173</th>\n",
       "      <td>60.0</td>\n",
       "      <td>5.7</td>\n",
       "      <td>2.8</td>\n",
       "      <td>214.0</td>\n",
       "      <td>412.0</td>\n",
       "      <td>850.0</td>\n",
       "      <td>7.3</td>\n",
       "      <td>3.2</td>\n",
       "      <td>0.78</td>\n",
       "      <td>0.0</td>\n",
       "      <td>0</td>\n",
       "      <td>0</td>\n",
       "      <td>0.3918</td>\n",
       "    </tr>\n",
       "    <tr>\n",
       "      <th>174</th>\n",
       "      <td>43.0</td>\n",
       "      <td>1.3</td>\n",
       "      <td>0.6</td>\n",
       "      <td>155.0</td>\n",
       "      <td>15.0</td>\n",
       "      <td>20.0</td>\n",
       "      <td>8.0</td>\n",
       "      <td>4.0</td>\n",
       "      <td>1.00</td>\n",
       "      <td>0.0</td>\n",
       "      <td>1</td>\n",
       "      <td>0</td>\n",
       "      <td>0.4998</td>\n",
       "    </tr>\n",
       "  </tbody>\n",
       "</table>\n",
       "<p>175 rows × 13 columns</p>\n",
       "</div>"
      ],
      "text/plain": [
       "      Age  Total_Bilirubin  Direct_Bilirubin  Alkaline_Phosphotase  \\\n",
       "0    62.0              0.7               0.2                 162.0   \n",
       "1    45.0              0.7               0.2                 180.0   \n",
       "2    37.0              1.8               0.8                 145.0   \n",
       "3    32.0              3.7               1.6                 612.0   \n",
       "4    40.0              1.2               0.6                 204.0   \n",
       "..    ...              ...               ...                   ...   \n",
       "170  62.0              5.0               2.1                 103.0   \n",
       "171  32.0              0.7               0.1                 240.0   \n",
       "172  57.0              4.5               2.3                 315.0   \n",
       "173  60.0              5.7               2.8                 214.0   \n",
       "174  43.0              1.3               0.6                 155.0   \n",
       "\n",
       "     Alamine_Aminotransferase  Aspartate_Aminotransferase  Total_Protiens  \\\n",
       "0                        12.0                        17.0             8.2   \n",
       "1                        18.0                        58.0             6.7   \n",
       "2                        62.0                        58.0             5.7   \n",
       "3                        50.0                        88.0             6.2   \n",
       "4                        23.0                        27.0             7.6   \n",
       "..                        ...                         ...             ...   \n",
       "170                      18.0                        40.0             5.0   \n",
       "171                      12.0                        15.0             7.0   \n",
       "172                     120.0                       105.0             7.0   \n",
       "173                     412.0                       850.0             7.3   \n",
       "174                      15.0                        20.0             8.0   \n",
       "\n",
       "     Albumin  Albumin_and_Globulin_Ratio  Gender_Female  Dataset  Label  \\\n",
       "0        3.2                        0.60            0.0        1      1   \n",
       "1        3.7                        1.20            0.0        1      1   \n",
       "2        2.9                        1.00            0.0        0      1   \n",
       "3        1.9                        0.40            0.0        0      0   \n",
       "4        4.0                        1.10            0.0        0      1   \n",
       "..       ...                         ...            ...      ...    ...   \n",
       "170      2.1                        1.72            0.0        0      1   \n",
       "171      3.0                        0.70            1.0        0      0   \n",
       "172      4.0                        1.30            0.0        0      0   \n",
       "173      3.2                        0.78            0.0        0      0   \n",
       "174      4.0                        1.00            0.0        1      0   \n",
       "\n",
       "      Score  \n",
       "0    0.5011  \n",
       "1    0.5013  \n",
       "2    0.5063  \n",
       "3    0.3235  \n",
       "4    0.5023  \n",
       "..      ...  \n",
       "170  0.5403  \n",
       "171  0.4902  \n",
       "172  0.4769  \n",
       "173  0.3918  \n",
       "174  0.4998  \n",
       "\n",
       "[175 rows x 13 columns]"
      ]
     },
     "execution_count": 37,
     "metadata": {},
     "output_type": "execute_result"
    }
   ],
   "source": [
    "predict_model(tuned_ada)"
   ]
  },
  {
   "cell_type": "markdown",
   "metadata": {},
   "source": [
    "Adaboost with the final parameters"
   ]
  },
  {
   "cell_type": "code",
   "execution_count": 38,
   "metadata": {},
   "outputs": [
    {
     "data": {
      "text/plain": [
       "AdaBoostClassifier(algorithm='SAMME.R', base_estimator=None, learning_rate=0.98,\n",
       "                   n_estimators=55, random_state=123)"
      ]
     },
     "execution_count": 38,
     "metadata": {},
     "output_type": "execute_result"
    }
   ],
   "source": [
    "finalize_model(tuned_ada)"
   ]
  },
  {
   "cell_type": "code",
   "execution_count": 39,
   "metadata": {},
   "outputs": [
    {
     "name": "stdout",
     "output_type": "stream",
     "text": [
      "Transformation Pipeline and Model Succesfully Saved\n"
     ]
    }
   ],
   "source": [
    "save_model(tuned_ada,'Model_output/ada_clf')"
   ]
  },
  {
   "cell_type": "code",
   "execution_count": 40,
   "metadata": {},
   "outputs": [
    {
     "name": "stdout",
     "output_type": "stream",
     "text": [
      " \n",
      "Setup Succesfully Completed!\n"
     ]
    },
    {
     "data": {
      "text/html": [
       "<style  type=\"text/css\" >\n",
       "    #T_8ca0c100_a467_11ea_ba3f_82d0f687d400row4_col1 {\n",
       "            background-color:  lightgreen;\n",
       "        }    #T_8ca0c100_a467_11ea_ba3f_82d0f687d400row17_col1 {\n",
       "            background-color:  lightgreen;\n",
       "        }    #T_8ca0c100_a467_11ea_ba3f_82d0f687d400row32_col1 {\n",
       "            background-color:  lightgreen;\n",
       "        }</style><table id=\"T_8ca0c100_a467_11ea_ba3f_82d0f687d400\" ><thead>    <tr>        <th class=\"blank level0\" ></th>        <th class=\"col_heading level0 col0\" >Description</th>        <th class=\"col_heading level0 col1\" >Value</th>    </tr></thead><tbody>\n",
       "                <tr>\n",
       "                        <th id=\"T_8ca0c100_a467_11ea_ba3f_82d0f687d400level0_row0\" class=\"row_heading level0 row0\" >0</th>\n",
       "                        <td id=\"T_8ca0c100_a467_11ea_ba3f_82d0f687d400row0_col0\" class=\"data row0 col0\" >session_id</td>\n",
       "                        <td id=\"T_8ca0c100_a467_11ea_ba3f_82d0f687d400row0_col1\" class=\"data row0 col1\" >1234</td>\n",
       "            </tr>\n",
       "            <tr>\n",
       "                        <th id=\"T_8ca0c100_a467_11ea_ba3f_82d0f687d400level0_row1\" class=\"row_heading level0 row1\" >1</th>\n",
       "                        <td id=\"T_8ca0c100_a467_11ea_ba3f_82d0f687d400row1_col0\" class=\"data row1 col0\" >Target Type</td>\n",
       "                        <td id=\"T_8ca0c100_a467_11ea_ba3f_82d0f687d400row1_col1\" class=\"data row1 col1\" >Binary</td>\n",
       "            </tr>\n",
       "            <tr>\n",
       "                        <th id=\"T_8ca0c100_a467_11ea_ba3f_82d0f687d400level0_row2\" class=\"row_heading level0 row2\" >2</th>\n",
       "                        <td id=\"T_8ca0c100_a467_11ea_ba3f_82d0f687d400row2_col0\" class=\"data row2 col0\" >Label Encoded</td>\n",
       "                        <td id=\"T_8ca0c100_a467_11ea_ba3f_82d0f687d400row2_col1\" class=\"data row2 col1\" >None</td>\n",
       "            </tr>\n",
       "            <tr>\n",
       "                        <th id=\"T_8ca0c100_a467_11ea_ba3f_82d0f687d400level0_row3\" class=\"row_heading level0 row3\" >3</th>\n",
       "                        <td id=\"T_8ca0c100_a467_11ea_ba3f_82d0f687d400row3_col0\" class=\"data row3 col0\" >Original Data</td>\n",
       "                        <td id=\"T_8ca0c100_a467_11ea_ba3f_82d0f687d400row3_col1\" class=\"data row3 col1\" >(583, 11)</td>\n",
       "            </tr>\n",
       "            <tr>\n",
       "                        <th id=\"T_8ca0c100_a467_11ea_ba3f_82d0f687d400level0_row4\" class=\"row_heading level0 row4\" >4</th>\n",
       "                        <td id=\"T_8ca0c100_a467_11ea_ba3f_82d0f687d400row4_col0\" class=\"data row4 col0\" >Missing Values </td>\n",
       "                        <td id=\"T_8ca0c100_a467_11ea_ba3f_82d0f687d400row4_col1\" class=\"data row4 col1\" >True</td>\n",
       "            </tr>\n",
       "            <tr>\n",
       "                        <th id=\"T_8ca0c100_a467_11ea_ba3f_82d0f687d400level0_row5\" class=\"row_heading level0 row5\" >5</th>\n",
       "                        <td id=\"T_8ca0c100_a467_11ea_ba3f_82d0f687d400row5_col0\" class=\"data row5 col0\" >Numeric Features </td>\n",
       "                        <td id=\"T_8ca0c100_a467_11ea_ba3f_82d0f687d400row5_col1\" class=\"data row5 col1\" >9</td>\n",
       "            </tr>\n",
       "            <tr>\n",
       "                        <th id=\"T_8ca0c100_a467_11ea_ba3f_82d0f687d400level0_row6\" class=\"row_heading level0 row6\" >6</th>\n",
       "                        <td id=\"T_8ca0c100_a467_11ea_ba3f_82d0f687d400row6_col0\" class=\"data row6 col0\" >Categorical Features </td>\n",
       "                        <td id=\"T_8ca0c100_a467_11ea_ba3f_82d0f687d400row6_col1\" class=\"data row6 col1\" >1</td>\n",
       "            </tr>\n",
       "            <tr>\n",
       "                        <th id=\"T_8ca0c100_a467_11ea_ba3f_82d0f687d400level0_row7\" class=\"row_heading level0 row7\" >7</th>\n",
       "                        <td id=\"T_8ca0c100_a467_11ea_ba3f_82d0f687d400row7_col0\" class=\"data row7 col0\" >Ordinal Features </td>\n",
       "                        <td id=\"T_8ca0c100_a467_11ea_ba3f_82d0f687d400row7_col1\" class=\"data row7 col1\" >False</td>\n",
       "            </tr>\n",
       "            <tr>\n",
       "                        <th id=\"T_8ca0c100_a467_11ea_ba3f_82d0f687d400level0_row8\" class=\"row_heading level0 row8\" >8</th>\n",
       "                        <td id=\"T_8ca0c100_a467_11ea_ba3f_82d0f687d400row8_col0\" class=\"data row8 col0\" >High Cardinality Features </td>\n",
       "                        <td id=\"T_8ca0c100_a467_11ea_ba3f_82d0f687d400row8_col1\" class=\"data row8 col1\" >False</td>\n",
       "            </tr>\n",
       "            <tr>\n",
       "                        <th id=\"T_8ca0c100_a467_11ea_ba3f_82d0f687d400level0_row9\" class=\"row_heading level0 row9\" >9</th>\n",
       "                        <td id=\"T_8ca0c100_a467_11ea_ba3f_82d0f687d400row9_col0\" class=\"data row9 col0\" >High Cardinality Method </td>\n",
       "                        <td id=\"T_8ca0c100_a467_11ea_ba3f_82d0f687d400row9_col1\" class=\"data row9 col1\" >None</td>\n",
       "            </tr>\n",
       "            <tr>\n",
       "                        <th id=\"T_8ca0c100_a467_11ea_ba3f_82d0f687d400level0_row10\" class=\"row_heading level0 row10\" >10</th>\n",
       "                        <td id=\"T_8ca0c100_a467_11ea_ba3f_82d0f687d400row10_col0\" class=\"data row10 col0\" >Sampled Data</td>\n",
       "                        <td id=\"T_8ca0c100_a467_11ea_ba3f_82d0f687d400row10_col1\" class=\"data row10 col1\" >(583, 11)</td>\n",
       "            </tr>\n",
       "            <tr>\n",
       "                        <th id=\"T_8ca0c100_a467_11ea_ba3f_82d0f687d400level0_row11\" class=\"row_heading level0 row11\" >11</th>\n",
       "                        <td id=\"T_8ca0c100_a467_11ea_ba3f_82d0f687d400row11_col0\" class=\"data row11 col0\" >Transformed Train Set</td>\n",
       "                        <td id=\"T_8ca0c100_a467_11ea_ba3f_82d0f687d400row11_col1\" class=\"data row11 col1\" >(408, 11)</td>\n",
       "            </tr>\n",
       "            <tr>\n",
       "                        <th id=\"T_8ca0c100_a467_11ea_ba3f_82d0f687d400level0_row12\" class=\"row_heading level0 row12\" >12</th>\n",
       "                        <td id=\"T_8ca0c100_a467_11ea_ba3f_82d0f687d400row12_col0\" class=\"data row12 col0\" >Transformed Test Set</td>\n",
       "                        <td id=\"T_8ca0c100_a467_11ea_ba3f_82d0f687d400row12_col1\" class=\"data row12 col1\" >(175, 11)</td>\n",
       "            </tr>\n",
       "            <tr>\n",
       "                        <th id=\"T_8ca0c100_a467_11ea_ba3f_82d0f687d400level0_row13\" class=\"row_heading level0 row13\" >13</th>\n",
       "                        <td id=\"T_8ca0c100_a467_11ea_ba3f_82d0f687d400row13_col0\" class=\"data row13 col0\" >Numeric Imputer </td>\n",
       "                        <td id=\"T_8ca0c100_a467_11ea_ba3f_82d0f687d400row13_col1\" class=\"data row13 col1\" >mean</td>\n",
       "            </tr>\n",
       "            <tr>\n",
       "                        <th id=\"T_8ca0c100_a467_11ea_ba3f_82d0f687d400level0_row14\" class=\"row_heading level0 row14\" >14</th>\n",
       "                        <td id=\"T_8ca0c100_a467_11ea_ba3f_82d0f687d400row14_col0\" class=\"data row14 col0\" >Categorical Imputer </td>\n",
       "                        <td id=\"T_8ca0c100_a467_11ea_ba3f_82d0f687d400row14_col1\" class=\"data row14 col1\" >constant</td>\n",
       "            </tr>\n",
       "            <tr>\n",
       "                        <th id=\"T_8ca0c100_a467_11ea_ba3f_82d0f687d400level0_row15\" class=\"row_heading level0 row15\" >15</th>\n",
       "                        <td id=\"T_8ca0c100_a467_11ea_ba3f_82d0f687d400row15_col0\" class=\"data row15 col0\" >Normalize </td>\n",
       "                        <td id=\"T_8ca0c100_a467_11ea_ba3f_82d0f687d400row15_col1\" class=\"data row15 col1\" >False</td>\n",
       "            </tr>\n",
       "            <tr>\n",
       "                        <th id=\"T_8ca0c100_a467_11ea_ba3f_82d0f687d400level0_row16\" class=\"row_heading level0 row16\" >16</th>\n",
       "                        <td id=\"T_8ca0c100_a467_11ea_ba3f_82d0f687d400row16_col0\" class=\"data row16 col0\" >Normalize Method </td>\n",
       "                        <td id=\"T_8ca0c100_a467_11ea_ba3f_82d0f687d400row16_col1\" class=\"data row16 col1\" >None</td>\n",
       "            </tr>\n",
       "            <tr>\n",
       "                        <th id=\"T_8ca0c100_a467_11ea_ba3f_82d0f687d400level0_row17\" class=\"row_heading level0 row17\" >17</th>\n",
       "                        <td id=\"T_8ca0c100_a467_11ea_ba3f_82d0f687d400row17_col0\" class=\"data row17 col0\" >Transformation </td>\n",
       "                        <td id=\"T_8ca0c100_a467_11ea_ba3f_82d0f687d400row17_col1\" class=\"data row17 col1\" >True</td>\n",
       "            </tr>\n",
       "            <tr>\n",
       "                        <th id=\"T_8ca0c100_a467_11ea_ba3f_82d0f687d400level0_row18\" class=\"row_heading level0 row18\" >18</th>\n",
       "                        <td id=\"T_8ca0c100_a467_11ea_ba3f_82d0f687d400row18_col0\" class=\"data row18 col0\" >Transformation Method </td>\n",
       "                        <td id=\"T_8ca0c100_a467_11ea_ba3f_82d0f687d400row18_col1\" class=\"data row18 col1\" >yeo-johnson</td>\n",
       "            </tr>\n",
       "            <tr>\n",
       "                        <th id=\"T_8ca0c100_a467_11ea_ba3f_82d0f687d400level0_row19\" class=\"row_heading level0 row19\" >19</th>\n",
       "                        <td id=\"T_8ca0c100_a467_11ea_ba3f_82d0f687d400row19_col0\" class=\"data row19 col0\" >PCA </td>\n",
       "                        <td id=\"T_8ca0c100_a467_11ea_ba3f_82d0f687d400row19_col1\" class=\"data row19 col1\" >False</td>\n",
       "            </tr>\n",
       "            <tr>\n",
       "                        <th id=\"T_8ca0c100_a467_11ea_ba3f_82d0f687d400level0_row20\" class=\"row_heading level0 row20\" >20</th>\n",
       "                        <td id=\"T_8ca0c100_a467_11ea_ba3f_82d0f687d400row20_col0\" class=\"data row20 col0\" >PCA Method </td>\n",
       "                        <td id=\"T_8ca0c100_a467_11ea_ba3f_82d0f687d400row20_col1\" class=\"data row20 col1\" >None</td>\n",
       "            </tr>\n",
       "            <tr>\n",
       "                        <th id=\"T_8ca0c100_a467_11ea_ba3f_82d0f687d400level0_row21\" class=\"row_heading level0 row21\" >21</th>\n",
       "                        <td id=\"T_8ca0c100_a467_11ea_ba3f_82d0f687d400row21_col0\" class=\"data row21 col0\" >PCA Components </td>\n",
       "                        <td id=\"T_8ca0c100_a467_11ea_ba3f_82d0f687d400row21_col1\" class=\"data row21 col1\" >None</td>\n",
       "            </tr>\n",
       "            <tr>\n",
       "                        <th id=\"T_8ca0c100_a467_11ea_ba3f_82d0f687d400level0_row22\" class=\"row_heading level0 row22\" >22</th>\n",
       "                        <td id=\"T_8ca0c100_a467_11ea_ba3f_82d0f687d400row22_col0\" class=\"data row22 col0\" >Ignore Low Variance </td>\n",
       "                        <td id=\"T_8ca0c100_a467_11ea_ba3f_82d0f687d400row22_col1\" class=\"data row22 col1\" >False</td>\n",
       "            </tr>\n",
       "            <tr>\n",
       "                        <th id=\"T_8ca0c100_a467_11ea_ba3f_82d0f687d400level0_row23\" class=\"row_heading level0 row23\" >23</th>\n",
       "                        <td id=\"T_8ca0c100_a467_11ea_ba3f_82d0f687d400row23_col0\" class=\"data row23 col0\" >Combine Rare Levels </td>\n",
       "                        <td id=\"T_8ca0c100_a467_11ea_ba3f_82d0f687d400row23_col1\" class=\"data row23 col1\" >False</td>\n",
       "            </tr>\n",
       "            <tr>\n",
       "                        <th id=\"T_8ca0c100_a467_11ea_ba3f_82d0f687d400level0_row24\" class=\"row_heading level0 row24\" >24</th>\n",
       "                        <td id=\"T_8ca0c100_a467_11ea_ba3f_82d0f687d400row24_col0\" class=\"data row24 col0\" >Rare Level Threshold </td>\n",
       "                        <td id=\"T_8ca0c100_a467_11ea_ba3f_82d0f687d400row24_col1\" class=\"data row24 col1\" >None</td>\n",
       "            </tr>\n",
       "            <tr>\n",
       "                        <th id=\"T_8ca0c100_a467_11ea_ba3f_82d0f687d400level0_row25\" class=\"row_heading level0 row25\" >25</th>\n",
       "                        <td id=\"T_8ca0c100_a467_11ea_ba3f_82d0f687d400row25_col0\" class=\"data row25 col0\" >Numeric Binning </td>\n",
       "                        <td id=\"T_8ca0c100_a467_11ea_ba3f_82d0f687d400row25_col1\" class=\"data row25 col1\" >False</td>\n",
       "            </tr>\n",
       "            <tr>\n",
       "                        <th id=\"T_8ca0c100_a467_11ea_ba3f_82d0f687d400level0_row26\" class=\"row_heading level0 row26\" >26</th>\n",
       "                        <td id=\"T_8ca0c100_a467_11ea_ba3f_82d0f687d400row26_col0\" class=\"data row26 col0\" >Remove Outliers </td>\n",
       "                        <td id=\"T_8ca0c100_a467_11ea_ba3f_82d0f687d400row26_col1\" class=\"data row26 col1\" >False</td>\n",
       "            </tr>\n",
       "            <tr>\n",
       "                        <th id=\"T_8ca0c100_a467_11ea_ba3f_82d0f687d400level0_row27\" class=\"row_heading level0 row27\" >27</th>\n",
       "                        <td id=\"T_8ca0c100_a467_11ea_ba3f_82d0f687d400row27_col0\" class=\"data row27 col0\" >Outliers Threshold </td>\n",
       "                        <td id=\"T_8ca0c100_a467_11ea_ba3f_82d0f687d400row27_col1\" class=\"data row27 col1\" >None</td>\n",
       "            </tr>\n",
       "            <tr>\n",
       "                        <th id=\"T_8ca0c100_a467_11ea_ba3f_82d0f687d400level0_row28\" class=\"row_heading level0 row28\" >28</th>\n",
       "                        <td id=\"T_8ca0c100_a467_11ea_ba3f_82d0f687d400row28_col0\" class=\"data row28 col0\" >Remove Multicollinearity </td>\n",
       "                        <td id=\"T_8ca0c100_a467_11ea_ba3f_82d0f687d400row28_col1\" class=\"data row28 col1\" >False</td>\n",
       "            </tr>\n",
       "            <tr>\n",
       "                        <th id=\"T_8ca0c100_a467_11ea_ba3f_82d0f687d400level0_row29\" class=\"row_heading level0 row29\" >29</th>\n",
       "                        <td id=\"T_8ca0c100_a467_11ea_ba3f_82d0f687d400row29_col0\" class=\"data row29 col0\" >Multicollinearity Threshold </td>\n",
       "                        <td id=\"T_8ca0c100_a467_11ea_ba3f_82d0f687d400row29_col1\" class=\"data row29 col1\" >None</td>\n",
       "            </tr>\n",
       "            <tr>\n",
       "                        <th id=\"T_8ca0c100_a467_11ea_ba3f_82d0f687d400level0_row30\" class=\"row_heading level0 row30\" >30</th>\n",
       "                        <td id=\"T_8ca0c100_a467_11ea_ba3f_82d0f687d400row30_col0\" class=\"data row30 col0\" >Clustering </td>\n",
       "                        <td id=\"T_8ca0c100_a467_11ea_ba3f_82d0f687d400row30_col1\" class=\"data row30 col1\" >False</td>\n",
       "            </tr>\n",
       "            <tr>\n",
       "                        <th id=\"T_8ca0c100_a467_11ea_ba3f_82d0f687d400level0_row31\" class=\"row_heading level0 row31\" >31</th>\n",
       "                        <td id=\"T_8ca0c100_a467_11ea_ba3f_82d0f687d400row31_col0\" class=\"data row31 col0\" >Clustering Iteration </td>\n",
       "                        <td id=\"T_8ca0c100_a467_11ea_ba3f_82d0f687d400row31_col1\" class=\"data row31 col1\" >None</td>\n",
       "            </tr>\n",
       "            <tr>\n",
       "                        <th id=\"T_8ca0c100_a467_11ea_ba3f_82d0f687d400level0_row32\" class=\"row_heading level0 row32\" >32</th>\n",
       "                        <td id=\"T_8ca0c100_a467_11ea_ba3f_82d0f687d400row32_col0\" class=\"data row32 col0\" >Polynomial Features </td>\n",
       "                        <td id=\"T_8ca0c100_a467_11ea_ba3f_82d0f687d400row32_col1\" class=\"data row32 col1\" >True</td>\n",
       "            </tr>\n",
       "            <tr>\n",
       "                        <th id=\"T_8ca0c100_a467_11ea_ba3f_82d0f687d400level0_row33\" class=\"row_heading level0 row33\" >33</th>\n",
       "                        <td id=\"T_8ca0c100_a467_11ea_ba3f_82d0f687d400row33_col0\" class=\"data row33 col0\" >Polynomial Degree </td>\n",
       "                        <td id=\"T_8ca0c100_a467_11ea_ba3f_82d0f687d400row33_col1\" class=\"data row33 col1\" >2</td>\n",
       "            </tr>\n",
       "            <tr>\n",
       "                        <th id=\"T_8ca0c100_a467_11ea_ba3f_82d0f687d400level0_row34\" class=\"row_heading level0 row34\" >34</th>\n",
       "                        <td id=\"T_8ca0c100_a467_11ea_ba3f_82d0f687d400row34_col0\" class=\"data row34 col0\" >Trignometry Features </td>\n",
       "                        <td id=\"T_8ca0c100_a467_11ea_ba3f_82d0f687d400row34_col1\" class=\"data row34 col1\" >False</td>\n",
       "            </tr>\n",
       "            <tr>\n",
       "                        <th id=\"T_8ca0c100_a467_11ea_ba3f_82d0f687d400level0_row35\" class=\"row_heading level0 row35\" >35</th>\n",
       "                        <td id=\"T_8ca0c100_a467_11ea_ba3f_82d0f687d400row35_col0\" class=\"data row35 col0\" >Polynomial Threshold </td>\n",
       "                        <td id=\"T_8ca0c100_a467_11ea_ba3f_82d0f687d400row35_col1\" class=\"data row35 col1\" >0.100000</td>\n",
       "            </tr>\n",
       "            <tr>\n",
       "                        <th id=\"T_8ca0c100_a467_11ea_ba3f_82d0f687d400level0_row36\" class=\"row_heading level0 row36\" >36</th>\n",
       "                        <td id=\"T_8ca0c100_a467_11ea_ba3f_82d0f687d400row36_col0\" class=\"data row36 col0\" >Group Features </td>\n",
       "                        <td id=\"T_8ca0c100_a467_11ea_ba3f_82d0f687d400row36_col1\" class=\"data row36 col1\" >False</td>\n",
       "            </tr>\n",
       "            <tr>\n",
       "                        <th id=\"T_8ca0c100_a467_11ea_ba3f_82d0f687d400level0_row37\" class=\"row_heading level0 row37\" >37</th>\n",
       "                        <td id=\"T_8ca0c100_a467_11ea_ba3f_82d0f687d400row37_col0\" class=\"data row37 col0\" >Feature Selection </td>\n",
       "                        <td id=\"T_8ca0c100_a467_11ea_ba3f_82d0f687d400row37_col1\" class=\"data row37 col1\" >False</td>\n",
       "            </tr>\n",
       "            <tr>\n",
       "                        <th id=\"T_8ca0c100_a467_11ea_ba3f_82d0f687d400level0_row38\" class=\"row_heading level0 row38\" >38</th>\n",
       "                        <td id=\"T_8ca0c100_a467_11ea_ba3f_82d0f687d400row38_col0\" class=\"data row38 col0\" >Features Selection Threshold </td>\n",
       "                        <td id=\"T_8ca0c100_a467_11ea_ba3f_82d0f687d400row38_col1\" class=\"data row38 col1\" >None</td>\n",
       "            </tr>\n",
       "            <tr>\n",
       "                        <th id=\"T_8ca0c100_a467_11ea_ba3f_82d0f687d400level0_row39\" class=\"row_heading level0 row39\" >39</th>\n",
       "                        <td id=\"T_8ca0c100_a467_11ea_ba3f_82d0f687d400row39_col0\" class=\"data row39 col0\" >Feature Interaction </td>\n",
       "                        <td id=\"T_8ca0c100_a467_11ea_ba3f_82d0f687d400row39_col1\" class=\"data row39 col1\" >False</td>\n",
       "            </tr>\n",
       "            <tr>\n",
       "                        <th id=\"T_8ca0c100_a467_11ea_ba3f_82d0f687d400level0_row40\" class=\"row_heading level0 row40\" >40</th>\n",
       "                        <td id=\"T_8ca0c100_a467_11ea_ba3f_82d0f687d400row40_col0\" class=\"data row40 col0\" >Feature Ratio </td>\n",
       "                        <td id=\"T_8ca0c100_a467_11ea_ba3f_82d0f687d400row40_col1\" class=\"data row40 col1\" >False</td>\n",
       "            </tr>\n",
       "            <tr>\n",
       "                        <th id=\"T_8ca0c100_a467_11ea_ba3f_82d0f687d400level0_row41\" class=\"row_heading level0 row41\" >41</th>\n",
       "                        <td id=\"T_8ca0c100_a467_11ea_ba3f_82d0f687d400row41_col0\" class=\"data row41 col0\" >Interaction Threshold </td>\n",
       "                        <td id=\"T_8ca0c100_a467_11ea_ba3f_82d0f687d400row41_col1\" class=\"data row41 col1\" >None</td>\n",
       "            </tr>\n",
       "    </tbody></table>"
      ],
      "text/plain": [
       "<pandas.io.formats.style.Styler at 0x130f54e10>"
      ]
     },
     "metadata": {},
     "output_type": "display_data"
    }
   ],
   "source": [
    "dataset = pd.read_csv('Data/indian_liver_patient.csv')\n",
    "dataset.Dataset = dataset.Dataset - 1\n",
    "exp_02 = setup(data = dataset, target = 'Dataset', session_id=1234,\n",
    "              transformation=True,polynomial_features=True)"
   ]
  },
  {
   "cell_type": "code",
   "execution_count": 41,
   "metadata": {},
   "outputs": [],
   "source": [
    "prepro_data = exp_02[0]\n",
    "pipeline = exp_02[7]"
   ]
  },
  {
   "cell_type": "code",
   "execution_count": 42,
   "metadata": {},
   "outputs": [
    {
     "data": {
      "text/plain": [
       "Pipeline(memory=None,\n",
       "         steps=[('dtypes',\n",
       "                 DataTypes_Auto_infer(categorical_features=[],\n",
       "                                      display_types=True, features_todrop=[],\n",
       "                                      ml_usecase='classification',\n",
       "                                      numerical_features=[], target='Dataset',\n",
       "                                      time_features=[])),\n",
       "                ('imputer',\n",
       "                 Simple_Imputer(categorical_strategy='not_available',\n",
       "                                numeric_strategy='mean',\n",
       "                                target_variable=None)),\n",
       "                ('new_levels1',\n",
       "                 New_Catagorical_Le...\n",
       "                 Scaling_and_Power_transformation(function_to_apply='yj',\n",
       "                                                  random_state_quantile=1234,\n",
       "                                                  target='Dataset')),\n",
       "                ('pt_target', Empty()), ('binn', Empty()),\n",
       "                ('rem_outliers', Empty()), ('cluster_all', Empty()),\n",
       "                ('dummy', Dummify(target='Dataset')),\n",
       "                ('fix_perfect', Remove_100(target='Dataset')),\n",
       "                ('clean_names', Clean_Colum_Names()),\n",
       "                ('feature_select', Empty()), ('fix_multi', Empty()),\n",
       "                ('dfs', Empty()), ('pca', Empty())],\n",
       "         verbose=False)"
      ]
     },
     "execution_count": 42,
     "metadata": {},
     "output_type": "execute_result"
    }
   ],
   "source": [
    "pipeline"
   ]
  },
  {
   "cell_type": "markdown",
   "metadata": {},
   "source": [
    "All the data except the label has been transformed (standardization zscore)"
   ]
  },
  {
   "cell_type": "code",
   "execution_count": 43,
   "metadata": {},
   "outputs": [
    {
     "data": {
      "text/html": [
       "<div>\n",
       "<style scoped>\n",
       "    .dataframe tbody tr th:only-of-type {\n",
       "        vertical-align: middle;\n",
       "    }\n",
       "\n",
       "    .dataframe tbody tr th {\n",
       "        vertical-align: top;\n",
       "    }\n",
       "\n",
       "    .dataframe thead th {\n",
       "        text-align: right;\n",
       "    }\n",
       "</style>\n",
       "<table border=\"1\" class=\"dataframe\">\n",
       "  <thead>\n",
       "    <tr style=\"text-align: right;\">\n",
       "      <th></th>\n",
       "      <th>Total_Bilirubin</th>\n",
       "      <th>Direct_Bilirubin</th>\n",
       "      <th>Alkaline_Phosphotase</th>\n",
       "      <th>Aspartate_Aminotransferase</th>\n",
       "      <th>Total_Protiens</th>\n",
       "      <th>Albumin</th>\n",
       "      <th>Albumin_and_Globulin_Ratio</th>\n",
       "      <th>Direct_Bilirubin_Power2</th>\n",
       "      <th>Age_Power2</th>\n",
       "      <th>Alamine_Aminotransferase_Power2</th>\n",
       "      <th>Gender_Female</th>\n",
       "    </tr>\n",
       "  </thead>\n",
       "  <tbody>\n",
       "    <tr>\n",
       "      <th>0</th>\n",
       "      <td>-0.967323</td>\n",
       "      <td>-1.189815</td>\n",
       "      <td>-0.427829</td>\n",
       "      <td>-1.324274</td>\n",
       "      <td>0.255159</td>\n",
       "      <td>0.196188</td>\n",
       "      <td>-0.043200</td>\n",
       "      <td>-0.859316</td>\n",
       "      <td>1.243444</td>\n",
       "      <td>-1.411338</td>\n",
       "      <td>1.0</td>\n",
       "    </tr>\n",
       "    <tr>\n",
       "      <th>1</th>\n",
       "      <td>1.721756</td>\n",
       "      <td>1.716247</td>\n",
       "      <td>1.771466</td>\n",
       "      <td>0.863923</td>\n",
       "      <td>0.943655</td>\n",
       "      <td>0.070197</td>\n",
       "      <td>-0.613072</td>\n",
       "      <td>1.842151</td>\n",
       "      <td>1.062639</td>\n",
       "      <td>0.704373</td>\n",
       "      <td>0.0</td>\n",
       "    </tr>\n",
       "    <tr>\n",
       "      <th>2</th>\n",
       "      <td>1.589707</td>\n",
       "      <td>1.625382</td>\n",
       "      <td>1.367757</td>\n",
       "      <td>0.504056</td>\n",
       "      <td>0.448229</td>\n",
       "      <td>0.196188</td>\n",
       "      <td>-0.076827</td>\n",
       "      <td>1.775797</td>\n",
       "      <td>1.062639</td>\n",
       "      <td>0.635662</td>\n",
       "      <td>0.0</td>\n",
       "    </tr>\n",
       "    <tr>\n",
       "      <th>3</th>\n",
       "      <td>-0.397769</td>\n",
       "      <td>-0.224252</td>\n",
       "      <td>-0.498616</td>\n",
       "      <td>-1.139496</td>\n",
       "      <td>0.255159</td>\n",
       "      <td>0.322270</td>\n",
       "      <td>0.280021</td>\n",
       "      <td>-0.494923</td>\n",
       "      <td>0.820741</td>\n",
       "      <td>-1.705458</td>\n",
       "      <td>0.0</td>\n",
       "    </tr>\n",
       "    <tr>\n",
       "      <th>4</th>\n",
       "      <td>1.235002</td>\n",
       "      <td>1.256312</td>\n",
       "      <td>-0.321095</td>\n",
       "      <td>0.355056</td>\n",
       "      <td>0.743317</td>\n",
       "      <td>-0.934200</td>\n",
       "      <td>-2.109832</td>\n",
       "      <td>1.375847</td>\n",
       "      <td>1.663412</td>\n",
       "      <td>-0.433023</td>\n",
       "      <td>0.0</td>\n",
       "    </tr>\n",
       "  </tbody>\n",
       "</table>\n",
       "</div>"
      ],
      "text/plain": [
       "   Total_Bilirubin  Direct_Bilirubin  Alkaline_Phosphotase  \\\n",
       "0        -0.967323         -1.189815             -0.427829   \n",
       "1         1.721756          1.716247              1.771466   \n",
       "2         1.589707          1.625382              1.367757   \n",
       "3        -0.397769         -0.224252             -0.498616   \n",
       "4         1.235002          1.256312             -0.321095   \n",
       "\n",
       "   Aspartate_Aminotransferase  Total_Protiens   Albumin  \\\n",
       "0                   -1.324274        0.255159  0.196188   \n",
       "1                    0.863923        0.943655  0.070197   \n",
       "2                    0.504056        0.448229  0.196188   \n",
       "3                   -1.139496        0.255159  0.322270   \n",
       "4                    0.355056        0.743317 -0.934200   \n",
       "\n",
       "   Albumin_and_Globulin_Ratio  Direct_Bilirubin_Power2  Age_Power2  \\\n",
       "0                   -0.043200                -0.859316    1.243444   \n",
       "1                   -0.613072                 1.842151    1.062639   \n",
       "2                   -0.076827                 1.775797    1.062639   \n",
       "3                    0.280021                -0.494923    0.820741   \n",
       "4                   -2.109832                 1.375847    1.663412   \n",
       "\n",
       "   Alamine_Aminotransferase_Power2  Gender_Female  \n",
       "0                        -1.411338            1.0  \n",
       "1                         0.704373            0.0  \n",
       "2                         0.635662            0.0  \n",
       "3                        -1.705458            0.0  \n",
       "4                        -0.433023            0.0  "
      ]
     },
     "execution_count": 43,
     "metadata": {},
     "output_type": "execute_result"
    }
   ],
   "source": [
    "prepro_data.head()"
   ]
  },
  {
   "cell_type": "markdown",
   "metadata": {},
   "source": [
    "With preprocessing and transformed step we find betters results but some models </br>\n",
    "like ada decrease considerably"
   ]
  },
  {
   "cell_type": "code",
   "execution_count": 44,
   "metadata": {},
   "outputs": [
    {
     "data": {
      "text/html": [
       "<style  type=\"text/css\" >\n",
       "    #T_a38f1a68_a467_11ea_9997_82d0f687d400 th {\n",
       "          text-align: left;\n",
       "    }    #T_a38f1a68_a467_11ea_9997_82d0f687d400row0_col0 {\n",
       "            text-align:  left;\n",
       "        }    #T_a38f1a68_a467_11ea_9997_82d0f687d400row0_col1 {\n",
       "            : ;\n",
       "            text-align:  left;\n",
       "        }    #T_a38f1a68_a467_11ea_9997_82d0f687d400row0_col2 {\n",
       "            : ;\n",
       "            text-align:  left;\n",
       "        }    #T_a38f1a68_a467_11ea_9997_82d0f687d400row0_col3 {\n",
       "            background-color:  yellow;\n",
       "            text-align:  left;\n",
       "        }    #T_a38f1a68_a467_11ea_9997_82d0f687d400row0_col4 {\n",
       "            : ;\n",
       "            text-align:  left;\n",
       "        }    #T_a38f1a68_a467_11ea_9997_82d0f687d400row0_col5 {\n",
       "            background-color:  yellow;\n",
       "            text-align:  left;\n",
       "        }    #T_a38f1a68_a467_11ea_9997_82d0f687d400row0_col6 {\n",
       "            background-color:  yellow;\n",
       "            text-align:  left;\n",
       "        }    #T_a38f1a68_a467_11ea_9997_82d0f687d400row1_col0 {\n",
       "            text-align:  left;\n",
       "        }    #T_a38f1a68_a467_11ea_9997_82d0f687d400row1_col1 {\n",
       "            : ;\n",
       "            text-align:  left;\n",
       "        }    #T_a38f1a68_a467_11ea_9997_82d0f687d400row1_col2 {\n",
       "            : ;\n",
       "            text-align:  left;\n",
       "        }    #T_a38f1a68_a467_11ea_9997_82d0f687d400row1_col3 {\n",
       "            : ;\n",
       "            text-align:  left;\n",
       "        }    #T_a38f1a68_a467_11ea_9997_82d0f687d400row1_col4 {\n",
       "            : ;\n",
       "            text-align:  left;\n",
       "        }    #T_a38f1a68_a467_11ea_9997_82d0f687d400row1_col5 {\n",
       "            : ;\n",
       "            text-align:  left;\n",
       "        }    #T_a38f1a68_a467_11ea_9997_82d0f687d400row1_col6 {\n",
       "            : ;\n",
       "            text-align:  left;\n",
       "        }    #T_a38f1a68_a467_11ea_9997_82d0f687d400row2_col0 {\n",
       "            text-align:  left;\n",
       "        }    #T_a38f1a68_a467_11ea_9997_82d0f687d400row2_col1 {\n",
       "            : ;\n",
       "            text-align:  left;\n",
       "        }    #T_a38f1a68_a467_11ea_9997_82d0f687d400row2_col2 {\n",
       "            : ;\n",
       "            text-align:  left;\n",
       "        }    #T_a38f1a68_a467_11ea_9997_82d0f687d400row2_col3 {\n",
       "            : ;\n",
       "            text-align:  left;\n",
       "        }    #T_a38f1a68_a467_11ea_9997_82d0f687d400row2_col4 {\n",
       "            : ;\n",
       "            text-align:  left;\n",
       "        }    #T_a38f1a68_a467_11ea_9997_82d0f687d400row2_col5 {\n",
       "            : ;\n",
       "            text-align:  left;\n",
       "        }    #T_a38f1a68_a467_11ea_9997_82d0f687d400row2_col6 {\n",
       "            : ;\n",
       "            text-align:  left;\n",
       "        }    #T_a38f1a68_a467_11ea_9997_82d0f687d400row3_col0 {\n",
       "            text-align:  left;\n",
       "        }    #T_a38f1a68_a467_11ea_9997_82d0f687d400row3_col1 {\n",
       "            background-color:  yellow;\n",
       "            text-align:  left;\n",
       "        }    #T_a38f1a68_a467_11ea_9997_82d0f687d400row3_col2 {\n",
       "            : ;\n",
       "            text-align:  left;\n",
       "        }    #T_a38f1a68_a467_11ea_9997_82d0f687d400row3_col3 {\n",
       "            : ;\n",
       "            text-align:  left;\n",
       "        }    #T_a38f1a68_a467_11ea_9997_82d0f687d400row3_col4 {\n",
       "            background-color:  yellow;\n",
       "            text-align:  left;\n",
       "        }    #T_a38f1a68_a467_11ea_9997_82d0f687d400row3_col5 {\n",
       "            : ;\n",
       "            text-align:  left;\n",
       "        }    #T_a38f1a68_a467_11ea_9997_82d0f687d400row3_col6 {\n",
       "            : ;\n",
       "            text-align:  left;\n",
       "        }    #T_a38f1a68_a467_11ea_9997_82d0f687d400row4_col0 {\n",
       "            text-align:  left;\n",
       "        }    #T_a38f1a68_a467_11ea_9997_82d0f687d400row4_col1 {\n",
       "            : ;\n",
       "            text-align:  left;\n",
       "        }    #T_a38f1a68_a467_11ea_9997_82d0f687d400row4_col2 {\n",
       "            : ;\n",
       "            text-align:  left;\n",
       "        }    #T_a38f1a68_a467_11ea_9997_82d0f687d400row4_col3 {\n",
       "            : ;\n",
       "            text-align:  left;\n",
       "        }    #T_a38f1a68_a467_11ea_9997_82d0f687d400row4_col4 {\n",
       "            : ;\n",
       "            text-align:  left;\n",
       "        }    #T_a38f1a68_a467_11ea_9997_82d0f687d400row4_col5 {\n",
       "            : ;\n",
       "            text-align:  left;\n",
       "        }    #T_a38f1a68_a467_11ea_9997_82d0f687d400row4_col6 {\n",
       "            : ;\n",
       "            text-align:  left;\n",
       "        }    #T_a38f1a68_a467_11ea_9997_82d0f687d400row5_col0 {\n",
       "            text-align:  left;\n",
       "        }    #T_a38f1a68_a467_11ea_9997_82d0f687d400row5_col1 {\n",
       "            : ;\n",
       "            text-align:  left;\n",
       "        }    #T_a38f1a68_a467_11ea_9997_82d0f687d400row5_col2 {\n",
       "            : ;\n",
       "            text-align:  left;\n",
       "        }    #T_a38f1a68_a467_11ea_9997_82d0f687d400row5_col3 {\n",
       "            : ;\n",
       "            text-align:  left;\n",
       "        }    #T_a38f1a68_a467_11ea_9997_82d0f687d400row5_col4 {\n",
       "            : ;\n",
       "            text-align:  left;\n",
       "        }    #T_a38f1a68_a467_11ea_9997_82d0f687d400row5_col5 {\n",
       "            : ;\n",
       "            text-align:  left;\n",
       "        }    #T_a38f1a68_a467_11ea_9997_82d0f687d400row5_col6 {\n",
       "            : ;\n",
       "            text-align:  left;\n",
       "        }    #T_a38f1a68_a467_11ea_9997_82d0f687d400row6_col0 {\n",
       "            text-align:  left;\n",
       "        }    #T_a38f1a68_a467_11ea_9997_82d0f687d400row6_col1 {\n",
       "            : ;\n",
       "            text-align:  left;\n",
       "        }    #T_a38f1a68_a467_11ea_9997_82d0f687d400row6_col2 {\n",
       "            : ;\n",
       "            text-align:  left;\n",
       "        }    #T_a38f1a68_a467_11ea_9997_82d0f687d400row6_col3 {\n",
       "            : ;\n",
       "            text-align:  left;\n",
       "        }    #T_a38f1a68_a467_11ea_9997_82d0f687d400row6_col4 {\n",
       "            : ;\n",
       "            text-align:  left;\n",
       "        }    #T_a38f1a68_a467_11ea_9997_82d0f687d400row6_col5 {\n",
       "            : ;\n",
       "            text-align:  left;\n",
       "        }    #T_a38f1a68_a467_11ea_9997_82d0f687d400row6_col6 {\n",
       "            : ;\n",
       "            text-align:  left;\n",
       "        }    #T_a38f1a68_a467_11ea_9997_82d0f687d400row7_col0 {\n",
       "            text-align:  left;\n",
       "        }    #T_a38f1a68_a467_11ea_9997_82d0f687d400row7_col1 {\n",
       "            : ;\n",
       "            text-align:  left;\n",
       "        }    #T_a38f1a68_a467_11ea_9997_82d0f687d400row7_col2 {\n",
       "            : ;\n",
       "            text-align:  left;\n",
       "        }    #T_a38f1a68_a467_11ea_9997_82d0f687d400row7_col3 {\n",
       "            : ;\n",
       "            text-align:  left;\n",
       "        }    #T_a38f1a68_a467_11ea_9997_82d0f687d400row7_col4 {\n",
       "            : ;\n",
       "            text-align:  left;\n",
       "        }    #T_a38f1a68_a467_11ea_9997_82d0f687d400row7_col5 {\n",
       "            : ;\n",
       "            text-align:  left;\n",
       "        }    #T_a38f1a68_a467_11ea_9997_82d0f687d400row7_col6 {\n",
       "            : ;\n",
       "            text-align:  left;\n",
       "        }    #T_a38f1a68_a467_11ea_9997_82d0f687d400row8_col0 {\n",
       "            text-align:  left;\n",
       "        }    #T_a38f1a68_a467_11ea_9997_82d0f687d400row8_col1 {\n",
       "            : ;\n",
       "            text-align:  left;\n",
       "        }    #T_a38f1a68_a467_11ea_9997_82d0f687d400row8_col2 {\n",
       "            : ;\n",
       "            text-align:  left;\n",
       "        }    #T_a38f1a68_a467_11ea_9997_82d0f687d400row8_col3 {\n",
       "            : ;\n",
       "            text-align:  left;\n",
       "        }    #T_a38f1a68_a467_11ea_9997_82d0f687d400row8_col4 {\n",
       "            : ;\n",
       "            text-align:  left;\n",
       "        }    #T_a38f1a68_a467_11ea_9997_82d0f687d400row8_col5 {\n",
       "            : ;\n",
       "            text-align:  left;\n",
       "        }    #T_a38f1a68_a467_11ea_9997_82d0f687d400row8_col6 {\n",
       "            : ;\n",
       "            text-align:  left;\n",
       "        }    #T_a38f1a68_a467_11ea_9997_82d0f687d400row9_col0 {\n",
       "            text-align:  left;\n",
       "        }    #T_a38f1a68_a467_11ea_9997_82d0f687d400row9_col1 {\n",
       "            : ;\n",
       "            text-align:  left;\n",
       "        }    #T_a38f1a68_a467_11ea_9997_82d0f687d400row9_col2 {\n",
       "            : ;\n",
       "            text-align:  left;\n",
       "        }    #T_a38f1a68_a467_11ea_9997_82d0f687d400row9_col3 {\n",
       "            : ;\n",
       "            text-align:  left;\n",
       "        }    #T_a38f1a68_a467_11ea_9997_82d0f687d400row9_col4 {\n",
       "            : ;\n",
       "            text-align:  left;\n",
       "        }    #T_a38f1a68_a467_11ea_9997_82d0f687d400row9_col5 {\n",
       "            : ;\n",
       "            text-align:  left;\n",
       "        }    #T_a38f1a68_a467_11ea_9997_82d0f687d400row9_col6 {\n",
       "            : ;\n",
       "            text-align:  left;\n",
       "        }    #T_a38f1a68_a467_11ea_9997_82d0f687d400row10_col0 {\n",
       "            text-align:  left;\n",
       "        }    #T_a38f1a68_a467_11ea_9997_82d0f687d400row10_col1 {\n",
       "            : ;\n",
       "            text-align:  left;\n",
       "        }    #T_a38f1a68_a467_11ea_9997_82d0f687d400row10_col2 {\n",
       "            background-color:  yellow;\n",
       "            text-align:  left;\n",
       "        }    #T_a38f1a68_a467_11ea_9997_82d0f687d400row10_col3 {\n",
       "            : ;\n",
       "            text-align:  left;\n",
       "        }    #T_a38f1a68_a467_11ea_9997_82d0f687d400row10_col4 {\n",
       "            : ;\n",
       "            text-align:  left;\n",
       "        }    #T_a38f1a68_a467_11ea_9997_82d0f687d400row10_col5 {\n",
       "            : ;\n",
       "            text-align:  left;\n",
       "        }    #T_a38f1a68_a467_11ea_9997_82d0f687d400row10_col6 {\n",
       "            : ;\n",
       "            text-align:  left;\n",
       "        }    #T_a38f1a68_a467_11ea_9997_82d0f687d400row11_col0 {\n",
       "            text-align:  left;\n",
       "        }    #T_a38f1a68_a467_11ea_9997_82d0f687d400row11_col1 {\n",
       "            : ;\n",
       "            text-align:  left;\n",
       "        }    #T_a38f1a68_a467_11ea_9997_82d0f687d400row11_col2 {\n",
       "            : ;\n",
       "            text-align:  left;\n",
       "        }    #T_a38f1a68_a467_11ea_9997_82d0f687d400row11_col3 {\n",
       "            : ;\n",
       "            text-align:  left;\n",
       "        }    #T_a38f1a68_a467_11ea_9997_82d0f687d400row11_col4 {\n",
       "            : ;\n",
       "            text-align:  left;\n",
       "        }    #T_a38f1a68_a467_11ea_9997_82d0f687d400row11_col5 {\n",
       "            : ;\n",
       "            text-align:  left;\n",
       "        }    #T_a38f1a68_a467_11ea_9997_82d0f687d400row11_col6 {\n",
       "            : ;\n",
       "            text-align:  left;\n",
       "        }    #T_a38f1a68_a467_11ea_9997_82d0f687d400row12_col0 {\n",
       "            text-align:  left;\n",
       "        }    #T_a38f1a68_a467_11ea_9997_82d0f687d400row12_col1 {\n",
       "            : ;\n",
       "            text-align:  left;\n",
       "        }    #T_a38f1a68_a467_11ea_9997_82d0f687d400row12_col2 {\n",
       "            : ;\n",
       "            text-align:  left;\n",
       "        }    #T_a38f1a68_a467_11ea_9997_82d0f687d400row12_col3 {\n",
       "            : ;\n",
       "            text-align:  left;\n",
       "        }    #T_a38f1a68_a467_11ea_9997_82d0f687d400row12_col4 {\n",
       "            : ;\n",
       "            text-align:  left;\n",
       "        }    #T_a38f1a68_a467_11ea_9997_82d0f687d400row12_col5 {\n",
       "            : ;\n",
       "            text-align:  left;\n",
       "        }    #T_a38f1a68_a467_11ea_9997_82d0f687d400row12_col6 {\n",
       "            : ;\n",
       "            text-align:  left;\n",
       "        }    #T_a38f1a68_a467_11ea_9997_82d0f687d400row13_col0 {\n",
       "            text-align:  left;\n",
       "        }    #T_a38f1a68_a467_11ea_9997_82d0f687d400row13_col1 {\n",
       "            : ;\n",
       "            text-align:  left;\n",
       "        }    #T_a38f1a68_a467_11ea_9997_82d0f687d400row13_col2 {\n",
       "            : ;\n",
       "            text-align:  left;\n",
       "        }    #T_a38f1a68_a467_11ea_9997_82d0f687d400row13_col3 {\n",
       "            : ;\n",
       "            text-align:  left;\n",
       "        }    #T_a38f1a68_a467_11ea_9997_82d0f687d400row13_col4 {\n",
       "            : ;\n",
       "            text-align:  left;\n",
       "        }    #T_a38f1a68_a467_11ea_9997_82d0f687d400row13_col5 {\n",
       "            : ;\n",
       "            text-align:  left;\n",
       "        }    #T_a38f1a68_a467_11ea_9997_82d0f687d400row13_col6 {\n",
       "            : ;\n",
       "            text-align:  left;\n",
       "        }    #T_a38f1a68_a467_11ea_9997_82d0f687d400row14_col0 {\n",
       "            text-align:  left;\n",
       "        }    #T_a38f1a68_a467_11ea_9997_82d0f687d400row14_col1 {\n",
       "            : ;\n",
       "            text-align:  left;\n",
       "        }    #T_a38f1a68_a467_11ea_9997_82d0f687d400row14_col2 {\n",
       "            : ;\n",
       "            text-align:  left;\n",
       "        }    #T_a38f1a68_a467_11ea_9997_82d0f687d400row14_col3 {\n",
       "            : ;\n",
       "            text-align:  left;\n",
       "        }    #T_a38f1a68_a467_11ea_9997_82d0f687d400row14_col4 {\n",
       "            : ;\n",
       "            text-align:  left;\n",
       "        }    #T_a38f1a68_a467_11ea_9997_82d0f687d400row14_col5 {\n",
       "            : ;\n",
       "            text-align:  left;\n",
       "        }    #T_a38f1a68_a467_11ea_9997_82d0f687d400row14_col6 {\n",
       "            : ;\n",
       "            text-align:  left;\n",
       "        }</style><table id=\"T_a38f1a68_a467_11ea_9997_82d0f687d400\" ><thead>    <tr>        <th class=\"blank level0\" ></th>        <th class=\"col_heading level0 col0\" >Model</th>        <th class=\"col_heading level0 col1\" >Accuracy</th>        <th class=\"col_heading level0 col2\" >AUC</th>        <th class=\"col_heading level0 col3\" >Recall</th>        <th class=\"col_heading level0 col4\" >Prec.</th>        <th class=\"col_heading level0 col5\" >F1</th>        <th class=\"col_heading level0 col6\" >Kappa</th>    </tr></thead><tbody>\n",
       "                <tr>\n",
       "                        <th id=\"T_a38f1a68_a467_11ea_9997_82d0f687d400level0_row0\" class=\"row_heading level0 row0\" >0</th>\n",
       "                        <td id=\"T_a38f1a68_a467_11ea_9997_82d0f687d400row0_col0\" class=\"data row0 col0\" >Naive Bayes</td>\n",
       "                        <td id=\"T_a38f1a68_a467_11ea_9997_82d0f687d400row0_col1\" class=\"data row0 col1\" >0.634800</td>\n",
       "                        <td id=\"T_a38f1a68_a467_11ea_9997_82d0f687d400row0_col2\" class=\"data row0 col2\" >0.731300</td>\n",
       "                        <td id=\"T_a38f1a68_a467_11ea_9997_82d0f687d400row0_col3\" class=\"data row0 col3\" >0.787100</td>\n",
       "                        <td id=\"T_a38f1a68_a467_11ea_9997_82d0f687d400row0_col4\" class=\"data row0 col4\" >0.430600</td>\n",
       "                        <td id=\"T_a38f1a68_a467_11ea_9997_82d0f687d400row0_col5\" class=\"data row0 col5\" >0.555100</td>\n",
       "                        <td id=\"T_a38f1a68_a467_11ea_9997_82d0f687d400row0_col6\" class=\"data row0 col6\" >0.290600</td>\n",
       "            </tr>\n",
       "            <tr>\n",
       "                        <th id=\"T_a38f1a68_a467_11ea_9997_82d0f687d400level0_row1\" class=\"row_heading level0 row1\" >1</th>\n",
       "                        <td id=\"T_a38f1a68_a467_11ea_9997_82d0f687d400row1_col0\" class=\"data row1 col0\" >Quadratic Discriminant Analysis</td>\n",
       "                        <td id=\"T_a38f1a68_a467_11ea_9997_82d0f687d400row1_col1\" class=\"data row1 col1\" >0.617800</td>\n",
       "                        <td id=\"T_a38f1a68_a467_11ea_9997_82d0f687d400row1_col2\" class=\"data row1 col2\" >0.706700</td>\n",
       "                        <td id=\"T_a38f1a68_a467_11ea_9997_82d0f687d400row1_col3\" class=\"data row1 col3\" >0.737900</td>\n",
       "                        <td id=\"T_a38f1a68_a467_11ea_9997_82d0f687d400row1_col4\" class=\"data row1 col4\" >0.410900</td>\n",
       "                        <td id=\"T_a38f1a68_a467_11ea_9997_82d0f687d400row1_col5\" class=\"data row1 col5\" >0.524100</td>\n",
       "                        <td id=\"T_a38f1a68_a467_11ea_9997_82d0f687d400row1_col6\" class=\"data row1 col6\" >0.248100</td>\n",
       "            </tr>\n",
       "            <tr>\n",
       "                        <th id=\"T_a38f1a68_a467_11ea_9997_82d0f687d400level0_row2\" class=\"row_heading level0 row2\" >2</th>\n",
       "                        <td id=\"T_a38f1a68_a467_11ea_9997_82d0f687d400row2_col0\" class=\"data row2 col0\" >Light Gradient Boosting Machine</td>\n",
       "                        <td id=\"T_a38f1a68_a467_11ea_9997_82d0f687d400row2_col1\" class=\"data row2 col1\" >0.691000</td>\n",
       "                        <td id=\"T_a38f1a68_a467_11ea_9997_82d0f687d400row2_col2\" class=\"data row2 col2\" >0.695500</td>\n",
       "                        <td id=\"T_a38f1a68_a467_11ea_9997_82d0f687d400row2_col3\" class=\"data row2 col3\" >0.368900</td>\n",
       "                        <td id=\"T_a38f1a68_a467_11ea_9997_82d0f687d400row2_col4\" class=\"data row2 col4\" >0.469400</td>\n",
       "                        <td id=\"T_a38f1a68_a467_11ea_9997_82d0f687d400row2_col5\" class=\"data row2 col5\" >0.402700</td>\n",
       "                        <td id=\"T_a38f1a68_a467_11ea_9997_82d0f687d400row2_col6\" class=\"data row2 col6\" >0.202900</td>\n",
       "            </tr>\n",
       "            <tr>\n",
       "                        <th id=\"T_a38f1a68_a467_11ea_9997_82d0f687d400level0_row3\" class=\"row_heading level0 row3\" >3</th>\n",
       "                        <td id=\"T_a38f1a68_a467_11ea_9997_82d0f687d400row3_col0\" class=\"data row3 col0\" >Extra Trees Classifier</td>\n",
       "                        <td id=\"T_a38f1a68_a467_11ea_9997_82d0f687d400row3_col1\" class=\"data row3 col1\" >0.732800</td>\n",
       "                        <td id=\"T_a38f1a68_a467_11ea_9997_82d0f687d400row3_col2\" class=\"data row3 col2\" >0.746200</td>\n",
       "                        <td id=\"T_a38f1a68_a467_11ea_9997_82d0f687d400row3_col3\" class=\"data row3 col3\" >0.325800</td>\n",
       "                        <td id=\"T_a38f1a68_a467_11ea_9997_82d0f687d400row3_col4\" class=\"data row3 col4\" >0.580700</td>\n",
       "                        <td id=\"T_a38f1a68_a467_11ea_9997_82d0f687d400row3_col5\" class=\"data row3 col5\" >0.397700</td>\n",
       "                        <td id=\"T_a38f1a68_a467_11ea_9997_82d0f687d400row3_col6\" class=\"data row3 col6\" >0.249500</td>\n",
       "            </tr>\n",
       "            <tr>\n",
       "                        <th id=\"T_a38f1a68_a467_11ea_9997_82d0f687d400level0_row4\" class=\"row_heading level0 row4\" >4</th>\n",
       "                        <td id=\"T_a38f1a68_a467_11ea_9997_82d0f687d400row4_col0\" class=\"data row4 col0\" >Gradient Boosting Classifier</td>\n",
       "                        <td id=\"T_a38f1a68_a467_11ea_9997_82d0f687d400row4_col1\" class=\"data row4 col1\" >0.691100</td>\n",
       "                        <td id=\"T_a38f1a68_a467_11ea_9997_82d0f687d400row4_col2\" class=\"data row4 col2\" >0.706800</td>\n",
       "                        <td id=\"T_a38f1a68_a467_11ea_9997_82d0f687d400row4_col3\" class=\"data row4 col3\" >0.351500</td>\n",
       "                        <td id=\"T_a38f1a68_a467_11ea_9997_82d0f687d400row4_col4\" class=\"data row4 col4\" >0.486500</td>\n",
       "                        <td id=\"T_a38f1a68_a467_11ea_9997_82d0f687d400row4_col5\" class=\"data row4 col5\" >0.393000</td>\n",
       "                        <td id=\"T_a38f1a68_a467_11ea_9997_82d0f687d400row4_col6\" class=\"data row4 col6\" >0.195700</td>\n",
       "            </tr>\n",
       "            <tr>\n",
       "                        <th id=\"T_a38f1a68_a467_11ea_9997_82d0f687d400level0_row5\" class=\"row_heading level0 row5\" >5</th>\n",
       "                        <td id=\"T_a38f1a68_a467_11ea_9997_82d0f687d400row5_col0\" class=\"data row5 col0\" >Decision Tree Classifier</td>\n",
       "                        <td id=\"T_a38f1a68_a467_11ea_9997_82d0f687d400row5_col1\" class=\"data row5 col1\" >0.619900</td>\n",
       "                        <td id=\"T_a38f1a68_a467_11ea_9997_82d0f687d400row5_col2\" class=\"data row5 col2\" >0.553900</td>\n",
       "                        <td id=\"T_a38f1a68_a467_11ea_9997_82d0f687d400row5_col3\" class=\"data row5 col3\" >0.400000</td>\n",
       "                        <td id=\"T_a38f1a68_a467_11ea_9997_82d0f687d400row5_col4\" class=\"data row5 col4\" >0.362600</td>\n",
       "                        <td id=\"T_a38f1a68_a467_11ea_9997_82d0f687d400row5_col5\" class=\"data row5 col5\" >0.376800</td>\n",
       "                        <td id=\"T_a38f1a68_a467_11ea_9997_82d0f687d400row5_col6\" class=\"data row5 col6\" >0.106500</td>\n",
       "            </tr>\n",
       "            <tr>\n",
       "                        <th id=\"T_a38f1a68_a467_11ea_9997_82d0f687d400level0_row6\" class=\"row_heading level0 row6\" >6</th>\n",
       "                        <td id=\"T_a38f1a68_a467_11ea_9997_82d0f687d400row6_col0\" class=\"data row6 col0\" >SVM - Linear Kernel</td>\n",
       "                        <td id=\"T_a38f1a68_a467_11ea_9997_82d0f687d400row6_col1\" class=\"data row6 col1\" >0.664000</td>\n",
       "                        <td id=\"T_a38f1a68_a467_11ea_9997_82d0f687d400row6_col2\" class=\"data row6 col2\" >0.000000</td>\n",
       "                        <td id=\"T_a38f1a68_a467_11ea_9997_82d0f687d400row6_col3\" class=\"data row6 col3\" >0.417400</td>\n",
       "                        <td id=\"T_a38f1a68_a467_11ea_9997_82d0f687d400row6_col4\" class=\"data row6 col4\" >0.360300</td>\n",
       "                        <td id=\"T_a38f1a68_a467_11ea_9997_82d0f687d400row6_col5\" class=\"data row6 col5\" >0.371800</td>\n",
       "                        <td id=\"T_a38f1a68_a467_11ea_9997_82d0f687d400row6_col6\" class=\"data row6 col6\" >0.166800</td>\n",
       "            </tr>\n",
       "            <tr>\n",
       "                        <th id=\"T_a38f1a68_a467_11ea_9997_82d0f687d400level0_row7\" class=\"row_heading level0 row7\" >7</th>\n",
       "                        <td id=\"T_a38f1a68_a467_11ea_9997_82d0f687d400row7_col0\" class=\"data row7 col0\" >Ada Boost Classifier</td>\n",
       "                        <td id=\"T_a38f1a68_a467_11ea_9997_82d0f687d400row7_col1\" class=\"data row7 col1\" >0.681500</td>\n",
       "                        <td id=\"T_a38f1a68_a467_11ea_9997_82d0f687d400row7_col2\" class=\"data row7 col2\" >0.708900</td>\n",
       "                        <td id=\"T_a38f1a68_a467_11ea_9997_82d0f687d400row7_col3\" class=\"data row7 col3\" >0.337100</td>\n",
       "                        <td id=\"T_a38f1a68_a467_11ea_9997_82d0f687d400row7_col4\" class=\"data row7 col4\" >0.451900</td>\n",
       "                        <td id=\"T_a38f1a68_a467_11ea_9997_82d0f687d400row7_col5\" class=\"data row7 col5\" >0.369200</td>\n",
       "                        <td id=\"T_a38f1a68_a467_11ea_9997_82d0f687d400row7_col6\" class=\"data row7 col6\" >0.169400</td>\n",
       "            </tr>\n",
       "            <tr>\n",
       "                        <th id=\"T_a38f1a68_a467_11ea_9997_82d0f687d400level0_row8\" class=\"row_heading level0 row8\" >8</th>\n",
       "                        <td id=\"T_a38f1a68_a467_11ea_9997_82d0f687d400row8_col0\" class=\"data row8 col0\" >CatBoost Classifier</td>\n",
       "                        <td id=\"T_a38f1a68_a467_11ea_9997_82d0f687d400row8_col1\" class=\"data row8 col1\" >0.701000</td>\n",
       "                        <td id=\"T_a38f1a68_a467_11ea_9997_82d0f687d400row8_col2\" class=\"data row8 col2\" >0.730500</td>\n",
       "                        <td id=\"T_a38f1a68_a467_11ea_9997_82d0f687d400row8_col3\" class=\"data row8 col3\" >0.301500</td>\n",
       "                        <td id=\"T_a38f1a68_a467_11ea_9997_82d0f687d400row8_col4\" class=\"data row8 col4\" >0.487500</td>\n",
       "                        <td id=\"T_a38f1a68_a467_11ea_9997_82d0f687d400row8_col5\" class=\"data row8 col5\" >0.358500</td>\n",
       "                        <td id=\"T_a38f1a68_a467_11ea_9997_82d0f687d400row8_col6\" class=\"data row8 col6\" >0.182700</td>\n",
       "            </tr>\n",
       "            <tr>\n",
       "                        <th id=\"T_a38f1a68_a467_11ea_9997_82d0f687d400level0_row9\" class=\"row_heading level0 row9\" >9</th>\n",
       "                        <td id=\"T_a38f1a68_a467_11ea_9997_82d0f687d400row9_col0\" class=\"data row9 col0\" >Random Forest Classifier</td>\n",
       "                        <td id=\"T_a38f1a68_a467_11ea_9997_82d0f687d400row9_col1\" class=\"data row9 col1\" >0.703400</td>\n",
       "                        <td id=\"T_a38f1a68_a467_11ea_9997_82d0f687d400row9_col2\" class=\"data row9 col2\" >0.717800</td>\n",
       "                        <td id=\"T_a38f1a68_a467_11ea_9997_82d0f687d400row9_col3\" class=\"data row9 col3\" >0.283300</td>\n",
       "                        <td id=\"T_a38f1a68_a467_11ea_9997_82d0f687d400row9_col4\" class=\"data row9 col4\" >0.468300</td>\n",
       "                        <td id=\"T_a38f1a68_a467_11ea_9997_82d0f687d400row9_col5\" class=\"data row9 col5\" >0.342000</td>\n",
       "                        <td id=\"T_a38f1a68_a467_11ea_9997_82d0f687d400row9_col6\" class=\"data row9 col6\" >0.173100</td>\n",
       "            </tr>\n",
       "            <tr>\n",
       "                        <th id=\"T_a38f1a68_a467_11ea_9997_82d0f687d400level0_row10\" class=\"row_heading level0 row10\" >10</th>\n",
       "                        <td id=\"T_a38f1a68_a467_11ea_9997_82d0f687d400row10_col0\" class=\"data row10 col0\" >Logistic Regression</td>\n",
       "                        <td id=\"T_a38f1a68_a467_11ea_9997_82d0f687d400row10_col1\" class=\"data row10 col1\" >0.723200</td>\n",
       "                        <td id=\"T_a38f1a68_a467_11ea_9997_82d0f687d400row10_col2\" class=\"data row10 col2\" >0.746400</td>\n",
       "                        <td id=\"T_a38f1a68_a467_11ea_9997_82d0f687d400row10_col3\" class=\"data row10 col3\" >0.267400</td>\n",
       "                        <td id=\"T_a38f1a68_a467_11ea_9997_82d0f687d400row10_col4\" class=\"data row10 col4\" >0.479500</td>\n",
       "                        <td id=\"T_a38f1a68_a467_11ea_9997_82d0f687d400row10_col5\" class=\"data row10 col5\" >0.336600</td>\n",
       "                        <td id=\"T_a38f1a68_a467_11ea_9997_82d0f687d400row10_col6\" class=\"data row10 col6\" >0.197100</td>\n",
       "            </tr>\n",
       "            <tr>\n",
       "                        <th id=\"T_a38f1a68_a467_11ea_9997_82d0f687d400level0_row11\" class=\"row_heading level0 row11\" >11</th>\n",
       "                        <td id=\"T_a38f1a68_a467_11ea_9997_82d0f687d400row11_col0\" class=\"data row11 col0\" >Extreme Gradient Boosting</td>\n",
       "                        <td id=\"T_a38f1a68_a467_11ea_9997_82d0f687d400row11_col1\" class=\"data row11 col1\" >0.688700</td>\n",
       "                        <td id=\"T_a38f1a68_a467_11ea_9997_82d0f687d400row11_col2\" class=\"data row11 col2\" >0.717800</td>\n",
       "                        <td id=\"T_a38f1a68_a467_11ea_9997_82d0f687d400row11_col3\" class=\"data row11 col3\" >0.293200</td>\n",
       "                        <td id=\"T_a38f1a68_a467_11ea_9997_82d0f687d400row11_col4\" class=\"data row11 col4\" >0.475900</td>\n",
       "                        <td id=\"T_a38f1a68_a467_11ea_9997_82d0f687d400row11_col5\" class=\"data row11 col5\" >0.335700</td>\n",
       "                        <td id=\"T_a38f1a68_a467_11ea_9997_82d0f687d400row11_col6\" class=\"data row11 col6\" >0.153900</td>\n",
       "            </tr>\n",
       "            <tr>\n",
       "                        <th id=\"T_a38f1a68_a467_11ea_9997_82d0f687d400level0_row12\" class=\"row_heading level0 row12\" >12</th>\n",
       "                        <td id=\"T_a38f1a68_a467_11ea_9997_82d0f687d400row12_col0\" class=\"data row12 col0\" >K Neighbors Classifier</td>\n",
       "                        <td id=\"T_a38f1a68_a467_11ea_9997_82d0f687d400row12_col1\" class=\"data row12 col1\" >0.678600</td>\n",
       "                        <td id=\"T_a38f1a68_a467_11ea_9997_82d0f687d400row12_col2\" class=\"data row12 col2\" >0.703400</td>\n",
       "                        <td id=\"T_a38f1a68_a467_11ea_9997_82d0f687d400row12_col3\" class=\"data row12 col3\" >0.298500</td>\n",
       "                        <td id=\"T_a38f1a68_a467_11ea_9997_82d0f687d400row12_col4\" class=\"data row12 col4\" >0.410000</td>\n",
       "                        <td id=\"T_a38f1a68_a467_11ea_9997_82d0f687d400row12_col5\" class=\"data row12 col5\" >0.332300</td>\n",
       "                        <td id=\"T_a38f1a68_a467_11ea_9997_82d0f687d400row12_col6\" class=\"data row12 col6\" >0.138500</td>\n",
       "            </tr>\n",
       "            <tr>\n",
       "                        <th id=\"T_a38f1a68_a467_11ea_9997_82d0f687d400level0_row13\" class=\"row_heading level0 row13\" >13</th>\n",
       "                        <td id=\"T_a38f1a68_a467_11ea_9997_82d0f687d400row13_col0\" class=\"data row13 col0\" >Linear Discriminant Analysis</td>\n",
       "                        <td id=\"T_a38f1a68_a467_11ea_9997_82d0f687d400row13_col1\" class=\"data row13 col1\" >0.718300</td>\n",
       "                        <td id=\"T_a38f1a68_a467_11ea_9997_82d0f687d400row13_col2\" class=\"data row13 col2\" >0.739600</td>\n",
       "                        <td id=\"T_a38f1a68_a467_11ea_9997_82d0f687d400row13_col3\" class=\"data row13 col3\" >0.241700</td>\n",
       "                        <td id=\"T_a38f1a68_a467_11ea_9997_82d0f687d400row13_col4\" class=\"data row13 col4\" >0.513200</td>\n",
       "                        <td id=\"T_a38f1a68_a467_11ea_9997_82d0f687d400row13_col5\" class=\"data row13 col5\" >0.319300</td>\n",
       "                        <td id=\"T_a38f1a68_a467_11ea_9997_82d0f687d400row13_col6\" class=\"data row13 col6\" >0.177400</td>\n",
       "            </tr>\n",
       "            <tr>\n",
       "                        <th id=\"T_a38f1a68_a467_11ea_9997_82d0f687d400level0_row14\" class=\"row_heading level0 row14\" >14</th>\n",
       "                        <td id=\"T_a38f1a68_a467_11ea_9997_82d0f687d400row14_col0\" class=\"data row14 col0\" >Ridge Classifier</td>\n",
       "                        <td id=\"T_a38f1a68_a467_11ea_9997_82d0f687d400row14_col1\" class=\"data row14 col1\" >0.708400</td>\n",
       "                        <td id=\"T_a38f1a68_a467_11ea_9997_82d0f687d400row14_col2\" class=\"data row14 col2\" >0.000000</td>\n",
       "                        <td id=\"T_a38f1a68_a467_11ea_9997_82d0f687d400row14_col3\" class=\"data row14 col3\" >0.146200</td>\n",
       "                        <td id=\"T_a38f1a68_a467_11ea_9997_82d0f687d400row14_col4\" class=\"data row14 col4\" >0.456700</td>\n",
       "                        <td id=\"T_a38f1a68_a467_11ea_9997_82d0f687d400row14_col5\" class=\"data row14 col5\" >0.210100</td>\n",
       "                        <td id=\"T_a38f1a68_a467_11ea_9997_82d0f687d400row14_col6\" class=\"data row14 col6\" >0.098100</td>\n",
       "            </tr>\n",
       "    </tbody></table>"
      ],
      "text/plain": [
       "<pandas.io.formats.style.Styler at 0x12fff6e80>"
      ]
     },
     "execution_count": 44,
     "metadata": {},
     "output_type": "execute_result"
    }
   ],
   "source": [
    "compare_models(sort='F1')"
   ]
  },
  {
   "cell_type": "code",
   "execution_count": 45,
   "metadata": {},
   "outputs": [],
   "source": [
    "nb = create_model('nb',verbose=False)\n",
    "qda = create_model('qda',verbose=False)\n",
    "lgbm = create_model('lightgbm',verbose=False)"
   ]
  },
  {
   "cell_type": "code",
   "execution_count": 46,
   "metadata": {},
   "outputs": [
    {
     "data": {
      "text/html": [
       "<div>\n",
       "<style scoped>\n",
       "    .dataframe tbody tr th:only-of-type {\n",
       "        vertical-align: middle;\n",
       "    }\n",
       "\n",
       "    .dataframe tbody tr th {\n",
       "        vertical-align: top;\n",
       "    }\n",
       "\n",
       "    .dataframe thead th {\n",
       "        text-align: right;\n",
       "    }\n",
       "</style>\n",
       "<table border=\"1\" class=\"dataframe\">\n",
       "  <thead>\n",
       "    <tr style=\"text-align: right;\">\n",
       "      <th></th>\n",
       "      <th>Accuracy</th>\n",
       "      <th>AUC</th>\n",
       "      <th>Recall</th>\n",
       "      <th>Prec.</th>\n",
       "      <th>F1</th>\n",
       "      <th>Kappa</th>\n",
       "    </tr>\n",
       "  </thead>\n",
       "  <tbody>\n",
       "    <tr>\n",
       "      <th>0</th>\n",
       "      <td>0.6829</td>\n",
       "      <td>0.7931</td>\n",
       "      <td>0.8333</td>\n",
       "      <td>0.4762</td>\n",
       "      <td>0.6061</td>\n",
       "      <td>0.3722</td>\n",
       "    </tr>\n",
       "    <tr>\n",
       "      <th>1</th>\n",
       "      <td>0.5122</td>\n",
       "      <td>0.6149</td>\n",
       "      <td>0.7500</td>\n",
       "      <td>0.3462</td>\n",
       "      <td>0.4737</td>\n",
       "      <td>0.1221</td>\n",
       "    </tr>\n",
       "    <tr>\n",
       "      <th>2</th>\n",
       "      <td>0.5610</td>\n",
       "      <td>0.6925</td>\n",
       "      <td>0.7500</td>\n",
       "      <td>0.3750</td>\n",
       "      <td>0.5000</td>\n",
       "      <td>0.1800</td>\n",
       "    </tr>\n",
       "    <tr>\n",
       "      <th>3</th>\n",
       "      <td>0.6585</td>\n",
       "      <td>0.7069</td>\n",
       "      <td>0.7500</td>\n",
       "      <td>0.4500</td>\n",
       "      <td>0.5625</td>\n",
       "      <td>0.3101</td>\n",
       "    </tr>\n",
       "    <tr>\n",
       "      <th>4</th>\n",
       "      <td>0.6341</td>\n",
       "      <td>0.7299</td>\n",
       "      <td>0.8333</td>\n",
       "      <td>0.4348</td>\n",
       "      <td>0.5714</td>\n",
       "      <td>0.3035</td>\n",
       "    </tr>\n",
       "    <tr>\n",
       "      <th>5</th>\n",
       "      <td>0.5366</td>\n",
       "      <td>0.6207</td>\n",
       "      <td>0.5833</td>\n",
       "      <td>0.3333</td>\n",
       "      <td>0.4242</td>\n",
       "      <td>0.0824</td>\n",
       "    </tr>\n",
       "    <tr>\n",
       "      <th>6</th>\n",
       "      <td>0.8049</td>\n",
       "      <td>0.8707</td>\n",
       "      <td>0.9167</td>\n",
       "      <td>0.6111</td>\n",
       "      <td>0.7333</td>\n",
       "      <td>0.5890</td>\n",
       "    </tr>\n",
       "    <tr>\n",
       "      <th>7</th>\n",
       "      <td>0.7073</td>\n",
       "      <td>0.7485</td>\n",
       "      <td>0.9091</td>\n",
       "      <td>0.4762</td>\n",
       "      <td>0.6250</td>\n",
       "      <td>0.4212</td>\n",
       "    </tr>\n",
       "    <tr>\n",
       "      <th>8</th>\n",
       "      <td>0.6500</td>\n",
       "      <td>0.8025</td>\n",
       "      <td>0.9091</td>\n",
       "      <td>0.4348</td>\n",
       "      <td>0.5882</td>\n",
       "      <td>0.3443</td>\n",
       "    </tr>\n",
       "    <tr>\n",
       "      <th>9</th>\n",
       "      <td>0.6000</td>\n",
       "      <td>0.7335</td>\n",
       "      <td>0.6364</td>\n",
       "      <td>0.3684</td>\n",
       "      <td>0.4667</td>\n",
       "      <td>0.1816</td>\n",
       "    </tr>\n",
       "    <tr>\n",
       "      <th>Mean</th>\n",
       "      <td>0.6348</td>\n",
       "      <td>0.7313</td>\n",
       "      <td>0.7871</td>\n",
       "      <td>0.4306</td>\n",
       "      <td>0.5551</td>\n",
       "      <td>0.2906</td>\n",
       "    </tr>\n",
       "    <tr>\n",
       "      <th>SD</th>\n",
       "      <td>0.0828</td>\n",
       "      <td>0.0752</td>\n",
       "      <td>0.1092</td>\n",
       "      <td>0.0779</td>\n",
       "      <td>0.0868</td>\n",
       "      <td>0.1456</td>\n",
       "    </tr>\n",
       "  </tbody>\n",
       "</table>\n",
       "</div>"
      ],
      "text/plain": [
       "      Accuracy     AUC  Recall   Prec.      F1   Kappa\n",
       "0       0.6829  0.7931  0.8333  0.4762  0.6061  0.3722\n",
       "1       0.5122  0.6149  0.7500  0.3462  0.4737  0.1221\n",
       "2       0.5610  0.6925  0.7500  0.3750  0.5000  0.1800\n",
       "3       0.6585  0.7069  0.7500  0.4500  0.5625  0.3101\n",
       "4       0.6341  0.7299  0.8333  0.4348  0.5714  0.3035\n",
       "5       0.5366  0.6207  0.5833  0.3333  0.4242  0.0824\n",
       "6       0.8049  0.8707  0.9167  0.6111  0.7333  0.5890\n",
       "7       0.7073  0.7485  0.9091  0.4762  0.6250  0.4212\n",
       "8       0.6500  0.8025  0.9091  0.4348  0.5882  0.3443\n",
       "9       0.6000  0.7335  0.6364  0.3684  0.4667  0.1816\n",
       "Mean    0.6348  0.7313  0.7871  0.4306  0.5551  0.2906\n",
       "SD      0.0828  0.0752  0.1092  0.0779  0.0868  0.1456"
      ]
     },
     "metadata": {},
     "output_type": "display_data"
    }
   ],
   "source": [
    "#Better F1 than our first ADA model but lower accuracy.\n",
    "tuned_nb = tune_model('nb',optimize='F1')"
   ]
  },
  {
   "cell_type": "code",
   "execution_count": 47,
   "metadata": {},
   "outputs": [
    {
     "data": {
      "text/html": [
       "<div>\n",
       "<style scoped>\n",
       "    .dataframe tbody tr th:only-of-type {\n",
       "        vertical-align: middle;\n",
       "    }\n",
       "\n",
       "    .dataframe tbody tr th {\n",
       "        vertical-align: top;\n",
       "    }\n",
       "\n",
       "    .dataframe thead th {\n",
       "        text-align: right;\n",
       "    }\n",
       "</style>\n",
       "<table border=\"1\" class=\"dataframe\">\n",
       "  <thead>\n",
       "    <tr style=\"text-align: right;\">\n",
       "      <th></th>\n",
       "      <th>Accuracy</th>\n",
       "      <th>AUC</th>\n",
       "      <th>Recall</th>\n",
       "      <th>Prec.</th>\n",
       "      <th>F1</th>\n",
       "      <th>Kappa</th>\n",
       "    </tr>\n",
       "  </thead>\n",
       "  <tbody>\n",
       "    <tr>\n",
       "      <th>0</th>\n",
       "      <td>0.7073</td>\n",
       "      <td>0.7989</td>\n",
       "      <td>0.6667</td>\n",
       "      <td>0.5000</td>\n",
       "      <td>0.5714</td>\n",
       "      <td>0.3560</td>\n",
       "    </tr>\n",
       "    <tr>\n",
       "      <th>1</th>\n",
       "      <td>0.5366</td>\n",
       "      <td>0.6207</td>\n",
       "      <td>0.6667</td>\n",
       "      <td>0.3478</td>\n",
       "      <td>0.4571</td>\n",
       "      <td>0.1178</td>\n",
       "    </tr>\n",
       "    <tr>\n",
       "      <th>2</th>\n",
       "      <td>0.6098</td>\n",
       "      <td>0.6782</td>\n",
       "      <td>0.6667</td>\n",
       "      <td>0.4000</td>\n",
       "      <td>0.5000</td>\n",
       "      <td>0.2115</td>\n",
       "    </tr>\n",
       "    <tr>\n",
       "      <th>3</th>\n",
       "      <td>0.7073</td>\n",
       "      <td>0.7960</td>\n",
       "      <td>0.6667</td>\n",
       "      <td>0.5000</td>\n",
       "      <td>0.5714</td>\n",
       "      <td>0.3560</td>\n",
       "    </tr>\n",
       "    <tr>\n",
       "      <th>4</th>\n",
       "      <td>0.5854</td>\n",
       "      <td>0.7414</td>\n",
       "      <td>0.5833</td>\n",
       "      <td>0.3684</td>\n",
       "      <td>0.4516</td>\n",
       "      <td>0.1448</td>\n",
       "    </tr>\n",
       "    <tr>\n",
       "      <th>5</th>\n",
       "      <td>0.5854</td>\n",
       "      <td>0.6236</td>\n",
       "      <td>0.5833</td>\n",
       "      <td>0.3684</td>\n",
       "      <td>0.4516</td>\n",
       "      <td>0.1448</td>\n",
       "    </tr>\n",
       "    <tr>\n",
       "      <th>6</th>\n",
       "      <td>0.8049</td>\n",
       "      <td>0.8621</td>\n",
       "      <td>0.7500</td>\n",
       "      <td>0.6429</td>\n",
       "      <td>0.6923</td>\n",
       "      <td>0.5507</td>\n",
       "    </tr>\n",
       "    <tr>\n",
       "      <th>7</th>\n",
       "      <td>0.7073</td>\n",
       "      <td>0.7606</td>\n",
       "      <td>0.8182</td>\n",
       "      <td>0.4737</td>\n",
       "      <td>0.6000</td>\n",
       "      <td>0.3941</td>\n",
       "    </tr>\n",
       "    <tr>\n",
       "      <th>8</th>\n",
       "      <td>0.6000</td>\n",
       "      <td>0.7492</td>\n",
       "      <td>0.8182</td>\n",
       "      <td>0.3913</td>\n",
       "      <td>0.5294</td>\n",
       "      <td>0.2506</td>\n",
       "    </tr>\n",
       "    <tr>\n",
       "      <th>9</th>\n",
       "      <td>0.6750</td>\n",
       "      <td>0.7398</td>\n",
       "      <td>0.5455</td>\n",
       "      <td>0.4286</td>\n",
       "      <td>0.4800</td>\n",
       "      <td>0.2486</td>\n",
       "    </tr>\n",
       "    <tr>\n",
       "      <th>Mean</th>\n",
       "      <td>0.6519</td>\n",
       "      <td>0.7370</td>\n",
       "      <td>0.6765</td>\n",
       "      <td>0.4421</td>\n",
       "      <td>0.5305</td>\n",
       "      <td>0.2775</td>\n",
       "    </tr>\n",
       "    <tr>\n",
       "      <th>SD</th>\n",
       "      <td>0.0773</td>\n",
       "      <td>0.0732</td>\n",
       "      <td>0.0897</td>\n",
       "      <td>0.0850</td>\n",
       "      <td>0.0746</td>\n",
       "      <td>0.1293</td>\n",
       "    </tr>\n",
       "  </tbody>\n",
       "</table>\n",
       "</div>"
      ],
      "text/plain": [
       "      Accuracy     AUC  Recall   Prec.      F1   Kappa\n",
       "0       0.7073  0.7989  0.6667  0.5000  0.5714  0.3560\n",
       "1       0.5366  0.6207  0.6667  0.3478  0.4571  0.1178\n",
       "2       0.6098  0.6782  0.6667  0.4000  0.5000  0.2115\n",
       "3       0.7073  0.7960  0.6667  0.5000  0.5714  0.3560\n",
       "4       0.5854  0.7414  0.5833  0.3684  0.4516  0.1448\n",
       "5       0.5854  0.6236  0.5833  0.3684  0.4516  0.1448\n",
       "6       0.8049  0.8621  0.7500  0.6429  0.6923  0.5507\n",
       "7       0.7073  0.7606  0.8182  0.4737  0.6000  0.3941\n",
       "8       0.6000  0.7492  0.8182  0.3913  0.5294  0.2506\n",
       "9       0.6750  0.7398  0.5455  0.4286  0.4800  0.2486\n",
       "Mean    0.6519  0.7370  0.6765  0.4421  0.5305  0.2775\n",
       "SD      0.0773  0.0732  0.0897  0.0850  0.0746  0.1293"
      ]
     },
     "metadata": {},
     "output_type": "display_data"
    }
   ],
   "source": [
    "#Improve\n",
    "tuned_qda = tune_model('qda',optimize='F1')"
   ]
  },
  {
   "cell_type": "code",
   "execution_count": 48,
   "metadata": {},
   "outputs": [
    {
     "data": {
      "text/html": [
       "<div>\n",
       "<style scoped>\n",
       "    .dataframe tbody tr th:only-of-type {\n",
       "        vertical-align: middle;\n",
       "    }\n",
       "\n",
       "    .dataframe tbody tr th {\n",
       "        vertical-align: top;\n",
       "    }\n",
       "\n",
       "    .dataframe thead th {\n",
       "        text-align: right;\n",
       "    }\n",
       "</style>\n",
       "<table border=\"1\" class=\"dataframe\">\n",
       "  <thead>\n",
       "    <tr style=\"text-align: right;\">\n",
       "      <th></th>\n",
       "      <th>Accuracy</th>\n",
       "      <th>AUC</th>\n",
       "      <th>Recall</th>\n",
       "      <th>Prec.</th>\n",
       "      <th>F1</th>\n",
       "      <th>Kappa</th>\n",
       "    </tr>\n",
       "  </thead>\n",
       "  <tbody>\n",
       "    <tr>\n",
       "      <th>0</th>\n",
       "      <td>0.7073</td>\n",
       "      <td>0.7428</td>\n",
       "      <td>0.1667</td>\n",
       "      <td>0.5000</td>\n",
       "      <td>0.2500</td>\n",
       "      <td>0.1214</td>\n",
       "    </tr>\n",
       "    <tr>\n",
       "      <th>1</th>\n",
       "      <td>0.6098</td>\n",
       "      <td>0.5402</td>\n",
       "      <td>0.4167</td>\n",
       "      <td>0.3571</td>\n",
       "      <td>0.3846</td>\n",
       "      <td>0.1014</td>\n",
       "    </tr>\n",
       "    <tr>\n",
       "      <th>2</th>\n",
       "      <td>0.6098</td>\n",
       "      <td>0.7083</td>\n",
       "      <td>0.2500</td>\n",
       "      <td>0.3000</td>\n",
       "      <td>0.2727</td>\n",
       "      <td>0.0091</td>\n",
       "    </tr>\n",
       "    <tr>\n",
       "      <th>3</th>\n",
       "      <td>0.6341</td>\n",
       "      <td>0.6063</td>\n",
       "      <td>0.1667</td>\n",
       "      <td>0.2857</td>\n",
       "      <td>0.2105</td>\n",
       "      <td>-0.0065</td>\n",
       "    </tr>\n",
       "    <tr>\n",
       "      <th>4</th>\n",
       "      <td>0.7317</td>\n",
       "      <td>0.7730</td>\n",
       "      <td>0.5000</td>\n",
       "      <td>0.5455</td>\n",
       "      <td>0.5217</td>\n",
       "      <td>0.3358</td>\n",
       "    </tr>\n",
       "    <tr>\n",
       "      <th>5</th>\n",
       "      <td>0.6829</td>\n",
       "      <td>0.7356</td>\n",
       "      <td>0.3333</td>\n",
       "      <td>0.4444</td>\n",
       "      <td>0.3810</td>\n",
       "      <td>0.1736</td>\n",
       "    </tr>\n",
       "    <tr>\n",
       "      <th>6</th>\n",
       "      <td>0.7561</td>\n",
       "      <td>0.8420</td>\n",
       "      <td>0.4167</td>\n",
       "      <td>0.6250</td>\n",
       "      <td>0.5000</td>\n",
       "      <td>0.3471</td>\n",
       "    </tr>\n",
       "    <tr>\n",
       "      <th>7</th>\n",
       "      <td>0.7073</td>\n",
       "      <td>0.7697</td>\n",
       "      <td>0.1818</td>\n",
       "      <td>0.4000</td>\n",
       "      <td>0.2500</td>\n",
       "      <td>0.0989</td>\n",
       "    </tr>\n",
       "    <tr>\n",
       "      <th>8</th>\n",
       "      <td>0.6750</td>\n",
       "      <td>0.7241</td>\n",
       "      <td>0.6364</td>\n",
       "      <td>0.4375</td>\n",
       "      <td>0.5185</td>\n",
       "      <td>0.2857</td>\n",
       "    </tr>\n",
       "    <tr>\n",
       "      <th>9</th>\n",
       "      <td>0.7500</td>\n",
       "      <td>0.7273</td>\n",
       "      <td>0.2727</td>\n",
       "      <td>0.6000</td>\n",
       "      <td>0.3750</td>\n",
       "      <td>0.2453</td>\n",
       "    </tr>\n",
       "    <tr>\n",
       "      <th>Mean</th>\n",
       "      <td>0.6864</td>\n",
       "      <td>0.7169</td>\n",
       "      <td>0.3341</td>\n",
       "      <td>0.4495</td>\n",
       "      <td>0.3664</td>\n",
       "      <td>0.1712</td>\n",
       "    </tr>\n",
       "    <tr>\n",
       "      <th>SD</th>\n",
       "      <td>0.0514</td>\n",
       "      <td>0.0814</td>\n",
       "      <td>0.1492</td>\n",
       "      <td>0.1120</td>\n",
       "      <td>0.1122</td>\n",
       "      <td>0.1213</td>\n",
       "    </tr>\n",
       "  </tbody>\n",
       "</table>\n",
       "</div>"
      ],
      "text/plain": [
       "      Accuracy     AUC  Recall   Prec.      F1   Kappa\n",
       "0       0.7073  0.7428  0.1667  0.5000  0.2500  0.1214\n",
       "1       0.6098  0.5402  0.4167  0.3571  0.3846  0.1014\n",
       "2       0.6098  0.7083  0.2500  0.3000  0.2727  0.0091\n",
       "3       0.6341  0.6063  0.1667  0.2857  0.2105 -0.0065\n",
       "4       0.7317  0.7730  0.5000  0.5455  0.5217  0.3358\n",
       "5       0.6829  0.7356  0.3333  0.4444  0.3810  0.1736\n",
       "6       0.7561  0.8420  0.4167  0.6250  0.5000  0.3471\n",
       "7       0.7073  0.7697  0.1818  0.4000  0.2500  0.0989\n",
       "8       0.6750  0.7241  0.6364  0.4375  0.5185  0.2857\n",
       "9       0.7500  0.7273  0.2727  0.6000  0.3750  0.2453\n",
       "Mean    0.6864  0.7169  0.3341  0.4495  0.3664  0.1712\n",
       "SD      0.0514  0.0814  0.1492  0.1120  0.1122  0.1213"
      ]
     },
     "metadata": {},
     "output_type": "display_data"
    }
   ],
   "source": [
    "tuned_lgbm = tune_model('lightgbm',optimize='F1')"
   ]
  },
  {
   "cell_type": "markdown",
   "metadata": {},
   "source": [
    "This function allow to display somes results </br>\n",
    "- Learning curve : Underfit </br>\n",
    "- Decision boundary, confusion matrix: we have a lot of false positive that hints the precision of the liver disease patient is not high </br>\n",
    "- class report :Low Recall  and low precision for the liver disease class </br>\n",
    "- ..."
   ]
  },
  {
   "cell_type": "code",
   "execution_count": 49,
   "metadata": {},
   "outputs": [
    {
     "data": {
      "application/vnd.jupyter.widget-view+json": {
       "model_id": "fef77e5489fa49f194389df9af7d5243",
       "version_major": 2,
       "version_minor": 0
      },
      "text/plain": [
       "interactive(children=(ToggleButtons(description='Plot Type:', icons=('',), options=(('Hyperparameters', 'param…"
      ]
     },
     "metadata": {},
     "output_type": "display_data"
    }
   ],
   "source": [
    "evaluate_model(tuned_qda)"
   ]
  },
  {
   "cell_type": "code",
   "execution_count": null,
   "metadata": {},
   "outputs": [],
   "source": []
  }
 ],
 "metadata": {
  "colab": {
   "collapsed_sections": [],
   "name": "heart_disease.ipynb",
   "provenance": []
  },
  "kernelspec": {
   "display_name": "Python 3",
   "language": "python",
   "name": "python3"
  },
  "language_info": {
   "codemirror_mode": {
    "name": "ipython",
    "version": 3
   },
   "file_extension": ".py",
   "mimetype": "text/x-python",
   "name": "python",
   "nbconvert_exporter": "python",
   "pygments_lexer": "ipython3",
   "version": "3.6.10"
  },
  "widgets": {
   "application/vnd.jupyter.widget-state+json": {
    "074c31610ed04be59729feb70023aded": {
     "model_module": "@jupyter-widgets/base",
     "model_name": "LayoutModel",
     "state": {
      "_model_module": "@jupyter-widgets/base",
      "_model_module_version": "1.2.0",
      "_model_name": "LayoutModel",
      "_view_count": null,
      "_view_module": "@jupyter-widgets/base",
      "_view_module_version": "1.2.0",
      "_view_name": "LayoutView",
      "align_content": null,
      "align_items": null,
      "align_self": null,
      "border": null,
      "bottom": null,
      "display": null,
      "flex": null,
      "flex_flow": null,
      "grid_area": null,
      "grid_auto_columns": null,
      "grid_auto_flow": null,
      "grid_auto_rows": null,
      "grid_column": null,
      "grid_gap": null,
      "grid_row": null,
      "grid_template_areas": null,
      "grid_template_columns": null,
      "grid_template_rows": null,
      "height": null,
      "justify_content": null,
      "justify_items": null,
      "left": null,
      "margin": null,
      "max_height": null,
      "max_width": null,
      "min_height": null,
      "min_width": null,
      "object_fit": null,
      "object_position": null,
      "order": null,
      "overflow": null,
      "overflow_x": null,
      "overflow_y": null,
      "padding": null,
      "right": null,
      "top": null,
      "visibility": null,
      "width": null
     }
    },
    "096ef7af5a694f2f96ec74b369cd7f16": {
     "model_module": "@jupyter-widgets/base",
     "model_name": "LayoutModel",
     "state": {
      "_model_module": "@jupyter-widgets/base",
      "_model_module_version": "1.2.0",
      "_model_name": "LayoutModel",
      "_view_count": null,
      "_view_module": "@jupyter-widgets/base",
      "_view_module_version": "1.2.0",
      "_view_name": "LayoutView",
      "align_content": null,
      "align_items": null,
      "align_self": null,
      "border": null,
      "bottom": null,
      "display": null,
      "flex": null,
      "flex_flow": null,
      "grid_area": null,
      "grid_auto_columns": null,
      "grid_auto_flow": null,
      "grid_auto_rows": null,
      "grid_column": null,
      "grid_gap": null,
      "grid_row": null,
      "grid_template_areas": null,
      "grid_template_columns": null,
      "grid_template_rows": null,
      "height": null,
      "justify_content": null,
      "justify_items": null,
      "left": null,
      "margin": null,
      "max_height": null,
      "max_width": null,
      "min_height": null,
      "min_width": null,
      "object_fit": null,
      "object_position": null,
      "order": null,
      "overflow": null,
      "overflow_x": null,
      "overflow_y": null,
      "padding": null,
      "right": null,
      "top": null,
      "visibility": null,
      "width": "100%"
     }
    },
    "09c23349edac4fb2ac49c63281b857a8": {
     "model_module": "@jupyter-widgets/controls",
     "model_name": "ProgressStyleModel",
     "state": {
      "_model_module": "@jupyter-widgets/controls",
      "_model_module_version": "1.5.0",
      "_model_name": "ProgressStyleModel",
      "_view_count": null,
      "_view_module": "@jupyter-widgets/base",
      "_view_module_version": "1.2.0",
      "_view_name": "StyleView",
      "bar_color": null,
      "description_width": ""
     }
    },
    "13bf4fc9408647b6ac6c4486c521ac34": {
     "model_module": "@jupyter-widgets/base",
     "model_name": "LayoutModel",
     "state": {
      "_model_module": "@jupyter-widgets/base",
      "_model_module_version": "1.2.0",
      "_model_name": "LayoutModel",
      "_view_count": null,
      "_view_module": "@jupyter-widgets/base",
      "_view_module_version": "1.2.0",
      "_view_name": "LayoutView",
      "align_content": null,
      "align_items": null,
      "align_self": null,
      "border": null,
      "bottom": null,
      "display": null,
      "flex": null,
      "flex_flow": null,
      "grid_area": null,
      "grid_auto_columns": null,
      "grid_auto_flow": null,
      "grid_auto_rows": null,
      "grid_column": null,
      "grid_gap": null,
      "grid_row": null,
      "grid_template_areas": null,
      "grid_template_columns": null,
      "grid_template_rows": null,
      "height": null,
      "justify_content": null,
      "justify_items": null,
      "left": null,
      "margin": null,
      "max_height": null,
      "max_width": null,
      "min_height": null,
      "min_width": null,
      "object_fit": null,
      "object_position": null,
      "order": null,
      "overflow": null,
      "overflow_x": null,
      "overflow_y": null,
      "padding": null,
      "right": null,
      "top": null,
      "visibility": null,
      "width": null
     }
    },
    "16052274a7c0456f8c5f427b65c4fac8": {
     "model_module": "@jupyter-widgets/controls",
     "model_name": "IntProgressModel",
     "state": {
      "_dom_classes": [],
      "_model_module": "@jupyter-widgets/controls",
      "_model_module_version": "1.5.0",
      "_model_name": "IntProgressModel",
      "_view_count": null,
      "_view_module": "@jupyter-widgets/controls",
      "_view_module_version": "1.5.0",
      "_view_name": "ProgressView",
      "bar_style": "",
      "description": "Processing: ",
      "description_tooltip": null,
      "layout": "IPY_MODEL_af6d7a64f0314445914a9d635afd55f0",
      "max": 5,
      "min": 0,
      "orientation": "horizontal",
      "style": "IPY_MODEL_3ee3b84c8c244189812c3f5cbbc7c463",
      "value": 5
     }
    },
    "19c4a050525844a8a1d2f08c0082247d": {
     "model_module": "@jupyter-widgets/base",
     "model_name": "LayoutModel",
     "state": {
      "_model_module": "@jupyter-widgets/base",
      "_model_module_version": "1.2.0",
      "_model_name": "LayoutModel",
      "_view_count": null,
      "_view_module": "@jupyter-widgets/base",
      "_view_module_version": "1.2.0",
      "_view_name": "LayoutView",
      "align_content": null,
      "align_items": null,
      "align_self": null,
      "border": null,
      "bottom": null,
      "display": null,
      "flex": null,
      "flex_flow": null,
      "grid_area": null,
      "grid_auto_columns": null,
      "grid_auto_flow": null,
      "grid_auto_rows": null,
      "grid_column": null,
      "grid_gap": null,
      "grid_row": null,
      "grid_template_areas": null,
      "grid_template_columns": null,
      "grid_template_rows": null,
      "height": null,
      "justify_content": null,
      "justify_items": null,
      "left": null,
      "margin": null,
      "max_height": null,
      "max_width": null,
      "min_height": null,
      "min_width": null,
      "object_fit": null,
      "object_position": null,
      "order": null,
      "overflow": null,
      "overflow_x": null,
      "overflow_y": null,
      "padding": null,
      "right": null,
      "top": null,
      "visibility": null,
      "width": null
     }
    },
    "2afbb43e76bd4005a7a4e1e556b15fa5": {
     "model_module": "@jupyter-widgets/controls",
     "model_name": "IntProgressModel",
     "state": {
      "_dom_classes": [],
      "_model_module": "@jupyter-widgets/controls",
      "_model_module_version": "1.5.0",
      "_model_name": "IntProgressModel",
      "_view_count": null,
      "_view_module": "@jupyter-widgets/controls",
      "_view_module_version": "1.5.0",
      "_view_name": "ProgressView",
      "bar_style": "",
      "description": "Processing: ",
      "description_tooltip": null,
      "layout": "IPY_MODEL_270686513f004a2d972fc56d1724519a",
      "max": 5,
      "min": 0,
      "orientation": "horizontal",
      "style": "IPY_MODEL_979485a6082e44bab1de67f715f22797",
      "value": 5
     }
    },
    "30a88d724b4e42dbade24917666d3078": {
     "model_module": "@jupyter-widgets/controls",
     "model_name": "IntProgressModel",
     "state": {
      "_dom_classes": [],
      "_model_module": "@jupyter-widgets/controls",
      "_model_module_version": "1.5.0",
      "_model_name": "IntProgressModel",
      "_view_count": null,
      "_view_module": "@jupyter-widgets/controls",
      "_view_module_version": "1.5.0",
      "_view_name": "ProgressView",
      "bar_style": "",
      "description": "Processing: ",
      "description_tooltip": null,
      "layout": "IPY_MODEL_d44653da16db48bea9dae1ac49d28f56",
      "max": 13,
      "min": 0,
      "orientation": "horizontal",
      "style": "IPY_MODEL_4c5c13f0e0ca4b40b02c6087ec7f6431",
      "value": 3
     }
    },
    "37bdf43e8b4d456ead7001c7d073284c": {
     "model_module": "@jupyter-widgets/controls",
     "model_name": "ProgressStyleModel",
     "state": {
      "_model_module": "@jupyter-widgets/controls",
      "_model_module_version": "1.5.0",
      "_model_name": "ProgressStyleModel",
      "_view_count": null,
      "_view_module": "@jupyter-widgets/base",
      "_view_module_version": "1.2.0",
      "_view_name": "StyleView",
      "bar_color": null,
      "description_width": ""
     }
    },
    "424fb1ded0e14b729e93b514681a4576": {
     "model_module": "@jupyter-widgets/base",
     "model_name": "LayoutModel",
     "state": {
      "_model_module": "@jupyter-widgets/base",
      "_model_module_version": "1.2.0",
      "_model_name": "LayoutModel",
      "_view_count": null,
      "_view_module": "@jupyter-widgets/base",
      "_view_module_version": "1.2.0",
      "_view_name": "LayoutView",
      "align_content": null,
      "align_items": null,
      "align_self": null,
      "border": null,
      "bottom": null,
      "display": null,
      "flex": null,
      "flex_flow": null,
      "grid_area": null,
      "grid_auto_columns": null,
      "grid_auto_flow": null,
      "grid_auto_rows": null,
      "grid_column": null,
      "grid_gap": null,
      "grid_row": null,
      "grid_template_areas": null,
      "grid_template_columns": null,
      "grid_template_rows": null,
      "height": null,
      "justify_content": null,
      "justify_items": null,
      "left": null,
      "margin": null,
      "max_height": null,
      "max_width": null,
      "min_height": null,
      "min_width": null,
      "object_fit": null,
      "object_position": null,
      "order": null,
      "overflow": null,
      "overflow_x": null,
      "overflow_y": null,
      "padding": null,
      "right": null,
      "top": null,
      "visibility": null,
      "width": null
     }
    },
    "4c5c13f0e0ca4b40b02c6087ec7f6431": {
     "model_module": "@jupyter-widgets/controls",
     "model_name": "ProgressStyleModel",
     "state": {
      "_model_module": "@jupyter-widgets/controls",
      "_model_module_version": "1.5.0",
      "_model_name": "ProgressStyleModel",
      "_view_count": null,
      "_view_module": "@jupyter-widgets/base",
      "_view_module_version": "1.2.0",
      "_view_name": "StyleView",
      "bar_color": null,
      "description_width": ""
     }
    },
    "59783b8b4e584ceab84580fbac2468bd": {
     "model_module": "@jupyter-widgets/controls",
     "model_name": "IntProgressModel",
     "state": {
      "_dom_classes": [],
      "_model_module": "@jupyter-widgets/controls",
      "_model_module_version": "1.5.0",
      "_model_name": "IntProgressModel",
      "_view_count": null,
      "_view_module": "@jupyter-widgets/controls",
      "_view_module_version": "1.5.0",
      "_view_name": "ProgressView",
      "bar_style": "",
      "description": "Processing: ",
      "description_tooltip": null,
      "layout": "IPY_MODEL_074c31610ed04be59729feb70023aded",
      "max": 14,
      "min": 0,
      "orientation": "horizontal",
      "style": "IPY_MODEL_37bdf43e8b4d456ead7001c7d073284c",
      "value": 14
     }
    },
    "60af658cf07e42959d0435c1e0d1c064": {
     "model_module": "@jupyter-widgets/controls",
     "model_name": "TextModel",
     "state": {
      "_dom_classes": [],
      "_model_module": "@jupyter-widgets/controls",
      "_model_module_version": "1.5.0",
      "_model_name": "TextModel",
      "_view_count": null,
      "_view_module": "@jupyter-widgets/controls",
      "_view_module_version": "1.5.0",
      "_view_name": "TextView",
      "continuous_update": true,
      "description": "",
      "description_tooltip": null,
      "disabled": false,
      "layout": "IPY_MODEL_096ef7af5a694f2f96ec74b369cd7f16",
      "placeholder": "​",
      "style": "IPY_MODEL_6a174c95803d4707806341876801d24e",
      "value": "Following data types have been inferred automatically, if they are correct press enter to continue or type 'quit' otherwise."
     }
    },
    "60b15f75133b4aaeb4dcf43d1054028b": {
     "model_module": "@jupyter-widgets/controls",
     "model_name": "ProgressStyleModel",
     "state": {
      "_model_module": "@jupyter-widgets/controls",
      "_model_module_version": "1.5.0",
      "_model_name": "ProgressStyleModel",
      "_view_count": null,
      "_view_module": "@jupyter-widgets/base",
      "_view_module_version": "1.2.0",
      "_view_name": "StyleView",
      "bar_color": null,
      "description_width": ""
     }
    },
    "6138c45e4f8049ed92c728ecefa07b78": {
     "model_module": "@jupyter-widgets/controls",
     "model_name": "IntProgressModel",
     "state": {
      "_dom_classes": [],
      "_model_module": "@jupyter-widgets/controls",
      "_model_module_version": "1.5.0",
      "_model_name": "IntProgressModel",
      "_view_count": null,
      "_view_module": "@jupyter-widgets/controls",
      "_view_module_version": "1.5.0",
      "_view_name": "ProgressView",
      "bar_style": "",
      "description": "Processing: ",
      "description_tooltip": null,
      "layout": "IPY_MODEL_77c6728fb88d42bcb4e4b6e524225230",
      "max": 5,
      "min": 0,
      "orientation": "horizontal",
      "style": "IPY_MODEL_f1ab1855769947bbbeeb00f8ad864dab",
      "value": 5
     }
    },
    "6a174c95803d4707806341876801d24e": {
     "model_module": "@jupyter-widgets/controls",
     "model_name": "DescriptionStyleModel",
     "state": {
      "_model_module": "@jupyter-widgets/controls",
      "_model_module_version": "1.5.0",
      "_model_name": "DescriptionStyleModel",
      "_view_count": null,
      "_view_module": "@jupyter-widgets/base",
      "_view_module_version": "1.2.0",
      "_view_name": "StyleView",
      "description_width": ""
     }
    },
    "6a2da4071304491cb2cbd1bfb4ae4ce7": {
     "model_module": "@jupyter-widgets/controls",
     "model_name": "ProgressStyleModel",
     "state": {
      "_model_module": "@jupyter-widgets/controls",
      "_model_module_version": "1.5.0",
      "_model_name": "ProgressStyleModel",
      "_view_count": null,
      "_view_module": "@jupyter-widgets/base",
      "_view_module_version": "1.2.0",
      "_view_name": "StyleView",
      "bar_color": null,
      "description_width": ""
     }
    },
    "99fc1229b3c14c17b3b78926f0fdb7ef": {
     "model_module": "@jupyter-widgets/controls",
     "model_name": "IntProgressModel",
     "state": {
      "_dom_classes": [],
      "_model_module": "@jupyter-widgets/controls",
      "_model_module_version": "1.5.0",
      "_model_name": "IntProgressModel",
      "_view_count": null,
      "_view_module": "@jupyter-widgets/controls",
      "_view_module_version": "1.5.0",
      "_view_name": "ProgressView",
      "bar_style": "",
      "description": "Processing: ",
      "description_tooltip": null,
      "layout": "IPY_MODEL_625adc7b6e6743ddbd1a3b9a48b6aec1",
      "max": 5,
      "min": 0,
      "orientation": "horizontal",
      "style": "IPY_MODEL_6ce0ca1309f84559b5e33d3ce80d0a4d",
      "value": 5
     }
    },
    "9ab27494a30d4d9ebdbdddd27aa86ffd": {
     "model_module": "@jupyter-widgets/controls",
     "model_name": "IntProgressModel",
     "state": {
      "_dom_classes": [],
      "_model_module": "@jupyter-widgets/controls",
      "_model_module_version": "1.5.0",
      "_model_name": "IntProgressModel",
      "_view_count": null,
      "_view_module": "@jupyter-widgets/controls",
      "_view_module_version": "1.5.0",
      "_view_name": "ProgressView",
      "bar_style": "",
      "description": "Processing: ",
      "description_tooltip": null,
      "layout": "IPY_MODEL_e335425821f0482495654cecebbd7fd1",
      "max": 16,
      "min": 0,
      "orientation": "horizontal",
      "style": "IPY_MODEL_b6b4bc5b6593471a9f646c2c2f497456",
      "value": 16
     }
    },
    "ae8b15c958d74931aeb698b69cb02a8e": {
     "model_module": "@jupyter-widgets/controls",
     "model_name": "IntProgressModel",
     "state": {
      "_dom_classes": [],
      "_model_module": "@jupyter-widgets/controls",
      "_model_module_version": "1.5.0",
      "_model_name": "IntProgressModel",
      "_view_count": null,
      "_view_module": "@jupyter-widgets/controls",
      "_view_module_version": "1.5.0",
      "_view_name": "ProgressView",
      "bar_style": "",
      "description": "Processing: ",
      "description_tooltip": null,
      "layout": "IPY_MODEL_13bf4fc9408647b6ac6c4486c521ac34",
      "max": 5,
      "min": 0,
      "orientation": "horizontal",
      "style": "IPY_MODEL_b48f0a6d4660490fa50d7c866eb3304e",
      "value": 5
     }
    },
    "b48f0a6d4660490fa50d7c866eb3304e": {
     "model_module": "@jupyter-widgets/controls",
     "model_name": "ProgressStyleModel",
     "state": {
      "_model_module": "@jupyter-widgets/controls",
      "_model_module_version": "1.5.0",
      "_model_name": "ProgressStyleModel",
      "_view_count": null,
      "_view_module": "@jupyter-widgets/base",
      "_view_module_version": "1.2.0",
      "_view_name": "StyleView",
      "bar_color": null,
      "description_width": ""
     }
    },
    "b6b4bc5b6593471a9f646c2c2f497456": {
     "model_module": "@jupyter-widgets/controls",
     "model_name": "ProgressStyleModel",
     "state": {
      "_model_module": "@jupyter-widgets/controls",
      "_model_module_version": "1.5.0",
      "_model_name": "ProgressStyleModel",
      "_view_count": null,
      "_view_module": "@jupyter-widgets/base",
      "_view_module_version": "1.2.0",
      "_view_name": "StyleView",
      "bar_color": null,
      "description_width": ""
     }
    },
    "bf7e60638631453f8ab88df81d8de817": {
     "model_module": "@jupyter-widgets/controls",
     "model_name": "IntProgressModel",
     "state": {
      "_dom_classes": [],
      "_model_module": "@jupyter-widgets/controls",
      "_model_module_version": "1.5.0",
      "_model_name": "IntProgressModel",
      "_view_count": null,
      "_view_module": "@jupyter-widgets/controls",
      "_view_module_version": "1.5.0",
      "_view_name": "ProgressView",
      "bar_style": "",
      "description": "Processing: ",
      "description_tooltip": null,
      "layout": "IPY_MODEL_19c4a050525844a8a1d2f08c0082247d",
      "max": 5,
      "min": 0,
      "orientation": "horizontal",
      "style": "IPY_MODEL_6a2da4071304491cb2cbd1bfb4ae4ce7",
      "value": 5
     }
    },
    "d139a533c4594f73b1e529c8e6b3cb3f": {
     "model_module": "@jupyter-widgets/base",
     "model_name": "LayoutModel",
     "state": {
      "_model_module": "@jupyter-widgets/base",
      "_model_module_version": "1.2.0",
      "_model_name": "LayoutModel",
      "_view_count": null,
      "_view_module": "@jupyter-widgets/base",
      "_view_module_version": "1.2.0",
      "_view_name": "LayoutView",
      "align_content": null,
      "align_items": null,
      "align_self": null,
      "border": null,
      "bottom": null,
      "display": null,
      "flex": null,
      "flex_flow": null,
      "grid_area": null,
      "grid_auto_columns": null,
      "grid_auto_flow": null,
      "grid_auto_rows": null,
      "grid_column": null,
      "grid_gap": null,
      "grid_row": null,
      "grid_template_areas": null,
      "grid_template_columns": null,
      "grid_template_rows": null,
      "height": null,
      "justify_content": null,
      "justify_items": null,
      "left": null,
      "margin": null,
      "max_height": null,
      "max_width": null,
      "min_height": null,
      "min_width": null,
      "object_fit": null,
      "object_position": null,
      "order": null,
      "overflow": null,
      "overflow_x": null,
      "overflow_y": null,
      "padding": null,
      "right": null,
      "top": null,
      "visibility": null,
      "width": null
     }
    },
    "d44653da16db48bea9dae1ac49d28f56": {
     "model_module": "@jupyter-widgets/base",
     "model_name": "LayoutModel",
     "state": {
      "_model_module": "@jupyter-widgets/base",
      "_model_module_version": "1.2.0",
      "_model_name": "LayoutModel",
      "_view_count": null,
      "_view_module": "@jupyter-widgets/base",
      "_view_module_version": "1.2.0",
      "_view_name": "LayoutView",
      "align_content": null,
      "align_items": null,
      "align_self": null,
      "border": null,
      "bottom": null,
      "display": null,
      "flex": null,
      "flex_flow": null,
      "grid_area": null,
      "grid_auto_columns": null,
      "grid_auto_flow": null,
      "grid_auto_rows": null,
      "grid_column": null,
      "grid_gap": null,
      "grid_row": null,
      "grid_template_areas": null,
      "grid_template_columns": null,
      "grid_template_rows": null,
      "height": null,
      "justify_content": null,
      "justify_items": null,
      "left": null,
      "margin": null,
      "max_height": null,
      "max_width": null,
      "min_height": null,
      "min_width": null,
      "object_fit": null,
      "object_position": null,
      "order": null,
      "overflow": null,
      "overflow_x": null,
      "overflow_y": null,
      "padding": null,
      "right": null,
      "top": null,
      "visibility": null,
      "width": null
     }
    },
    "d4f1c1167fe44f6ca83a0b60c66752ab": {
     "model_module": "@jupyter-widgets/controls",
     "model_name": "IntProgressModel",
     "state": {
      "_dom_classes": [],
      "_model_module": "@jupyter-widgets/controls",
      "_model_module_version": "1.5.0",
      "_model_name": "IntProgressModel",
      "_view_count": null,
      "_view_module": "@jupyter-widgets/controls",
      "_view_module_version": "1.5.0",
      "_view_name": "ProgressView",
      "bar_style": "",
      "description": "Processing: ",
      "description_tooltip": null,
      "layout": "IPY_MODEL_d139a533c4594f73b1e529c8e6b3cb3f",
      "max": 5,
      "min": 0,
      "orientation": "horizontal",
      "style": "IPY_MODEL_09c23349edac4fb2ac49c63281b857a8",
      "value": 5
     }
    },
    "e335425821f0482495654cecebbd7fd1": {
     "model_module": "@jupyter-widgets/base",
     "model_name": "LayoutModel",
     "state": {
      "_model_module": "@jupyter-widgets/base",
      "_model_module_version": "1.2.0",
      "_model_name": "LayoutModel",
      "_view_count": null,
      "_view_module": "@jupyter-widgets/base",
      "_view_module_version": "1.2.0",
      "_view_name": "LayoutView",
      "align_content": null,
      "align_items": null,
      "align_self": null,
      "border": null,
      "bottom": null,
      "display": null,
      "flex": null,
      "flex_flow": null,
      "grid_area": null,
      "grid_auto_columns": null,
      "grid_auto_flow": null,
      "grid_auto_rows": null,
      "grid_column": null,
      "grid_gap": null,
      "grid_row": null,
      "grid_template_areas": null,
      "grid_template_columns": null,
      "grid_template_rows": null,
      "height": null,
      "justify_content": null,
      "justify_items": null,
      "left": null,
      "margin": null,
      "max_height": null,
      "max_width": null,
      "min_height": null,
      "min_width": null,
      "object_fit": null,
      "object_position": null,
      "order": null,
      "overflow": null,
      "overflow_x": null,
      "overflow_y": null,
      "padding": null,
      "right": null,
      "top": null,
      "visibility": null,
      "width": null
     }
    },
    "e91464cf798446809e0f88888458574d": {
     "model_module": "@jupyter-widgets/controls",
     "model_name": "IntProgressModel",
     "state": {
      "_dom_classes": [],
      "_model_module": "@jupyter-widgets/controls",
      "_model_module_version": "1.5.0",
      "_model_name": "IntProgressModel",
      "_view_count": null,
      "_view_module": "@jupyter-widgets/controls",
      "_view_module_version": "1.5.0",
      "_view_name": "ProgressView",
      "bar_style": "",
      "description": "Processing: ",
      "description_tooltip": null,
      "layout": "IPY_MODEL_424fb1ded0e14b729e93b514681a4576",
      "max": 170,
      "min": 0,
      "orientation": "horizontal",
      "style": "IPY_MODEL_60b15f75133b4aaeb4dcf43d1054028b",
      "value": 170
     }
    }
   }
  }
 },
 "nbformat": 4,
 "nbformat_minor": 4
}
